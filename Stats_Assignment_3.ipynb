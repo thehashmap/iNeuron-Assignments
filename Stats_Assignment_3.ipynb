{
 "cells": [
  {
   "cell_type": "markdown",
   "metadata": {},
   "source": [
    "Problem Statement 1:\n",
    "Blood glucose levels for obese patients have a mean of 100 with a standard deviation of\n",
    "15. A researcher thinks that a diet high in raw cornstarch will have a positive effect on \n",
    "blood glucose levels. A sample of 36 patients who have tried the raw cornstarch diet \n",
    "have a mean glucose level of 108. Test the hypothesis that the raw cornstarch had an \n",
    "effect or not.\n"
   ]
  },
  {
   "cell_type": "code",
   "execution_count": 6,
   "metadata": {},
   "outputs": [
    {
     "name": "stdout",
     "output_type": "stream",
     "text": [
      "The z score is 3.2\n",
      "By looking this value up in z table, we get a value of 0.9993\n",
      "Which implies the probability of having value less than 108 is 99.93% and more than or equals to 108 is 0.007\n",
      "It is less than 0.05 so we will reject the Null hypothesis i.e. there is raw cornstarch effect\n"
     ]
    }
   ],
   "source": [
    "import math \n",
    "Sample_count = 36\n",
    "Sample_Mean = 108\n",
    "Population_Mean = 100\n",
    "Population_sigma = 15 #(Standard deviation)\n",
    "#Null Hypothesis is H0:Mean=100\n",
    "#Alternative Hypothesis is H1:≠100 \n",
    "#There is no information provided about the significance level or confidence interval, so lets assume it to be 0.05 or 95% #which is commonly used.\n",
    "\n",
    "#Lets calculate Z score \n",
    "z=(Sample_Mean - Population_Mean)/(Population_sigma/math.sqrt(Sample_count))\n",
    "print('The z score is' ,z) \n",
    "print('By looking this value up in z table, we get a value of 0.9993') \n",
    "print('Which implies the probability of having value less than 108 is 99.93% and more than or equals to 108 is 0.007') \n",
    "print('It is less than 0.05 so we will reject the Null hypothesis i.e. there is raw cornstarch effect')"
   ]
  },
  {
   "cell_type": "markdown",
   "metadata": {},
   "source": [
    "Problem Statement 2:\n",
    "In one state, 52% of the voters are Republicans, and 48% are Democrats. In a second \n",
    "state, 47% of the voters are Republicans, and 53% are Democrats. Suppose a simple \n",
    "random sample of 100 voters are surveyed from each state.\n",
    "What is the probability that the survey will show a greater percentage of Republican \n",
    "voters in the second state than in the first state?"
   ]
  },
  {
   "cell_type": "code",
   "execution_count": 7,
   "metadata": {},
   "outputs": [
    {
     "name": "stdout",
     "output_type": "stream",
     "text": [
      "Mu :  0.050000000000000044 Std :  0.07061869440877536\n",
      "Z_score(P_1,P_2): 15575.903933212845\n",
      "The probability that the survey will show a greater percentage of Republican voters in the second state than in the first state is 0.24.\n"
     ]
    }
   ],
   "source": [
    "#P1 = Proportion of Republican voters in the first state \n",
    "#P2 = Proportion of Republican voters in the second state \n",
    "#P_1 = Proportion of Republican voters in the sample from the first state\n",
    "#P_2 = Proportion of Republican voters in the sample from the second state.\n",
    "\n",
    "#N1 = The number of voters sampled from the first state \n",
    "N1 = 100 #N2=The number of voters sampled from the second state\n",
    "N2 = 100\n",
    "\n",
    "P1 = 0.52 #Q1=(1 - P1), the proportion on non republican voters in first state \n",
    "Q1 = 0.48 \n",
    "P2 = 0.47 \n",
    "#Q2=(1 - P2), the proportion on non republican voters in second state \n",
    "Q2 = 0.53\n",
    "\n",
    "#The mean of the difference in sample proportions or the expected value E[P_1-P_2] \n",
    "mu =P1 - P2\n",
    "\n",
    "#The standard deviation of the difference (Std) \n",
    "std = math.sqrt(((P1 * Q1 ) / N1) + ((P2 * Q2) /N2)) \n",
    "print(\"Mu : \",mu,\"Std : \",std)\n",
    "\n",
    "#This problem requires us to find the probability that P_1 is less than P_2 \n",
    "#This is equivalent to finding the probability that P_1 - P_2 < 0 x = 0 \n",
    "#To find this probability, we need to transform the random variable (P_1 - P_2) into a z-score.\n",
    "#Z= Z_score(P_1,P_2) #That transformation appears below. \n",
    "Z = (x - mu)/std\n",
    "\n",
    "print(\"Z_score(P_1,P_2):\",Z)\n",
    "\n",
    "#From Z table we find that the probability of a z-score being -0.7082 or less is 0.24.\n",
    "\n",
    "print('The probability that the survey will show a greater percentage of Republican voters in the second state than in the first state is 0.24.')"
   ]
  },
  {
   "cell_type": "markdown",
   "metadata": {},
   "source": [
    "Problem Statement 3:\n",
    "You take the SAT and score 1100. The mean score for the SAT is 1026 and the standard \n",
    "deviation is 209. How well did you score on the test compared to the average test taker?\n"
   ]
  },
  {
   "cell_type": "code",
   "execution_count": 4,
   "metadata": {},
   "outputs": [
    {
     "name": "stdout",
     "output_type": "stream",
     "text": [
      "Z Score :  0.35406698564593303\n",
      "The above calculation shows that my score is 0.35 standard deviations above the mean\n"
     ]
    }
   ],
   "source": [
    "x = 1100 \n",
    "mu = 1026 \n",
    "sd = 209 \n",
    "z = ( x - mu)/sd \n",
    "print(\"Z Score : \",z) \n",
    "print('The above calculation shows that my score is 0.35 standard deviations above the mean')"
   ]
  },
  {
   "cell_type": "code",
   "execution_count": null,
   "metadata": {},
   "outputs": [],
   "source": []
  }
 ],
 "metadata": {
  "kernelspec": {
   "display_name": "Python 3",
   "language": "python",
   "name": "python3"
  },
  "language_info": {
   "codemirror_mode": {
    "name": "ipython",
    "version": 3
   },
   "file_extension": ".py",
   "mimetype": "text/x-python",
   "name": "python",
   "nbconvert_exporter": "python",
   "pygments_lexer": "ipython3",
   "version": "3.8.5"
  }
 },
 "nbformat": 4,
 "nbformat_minor": 4
}
