{
 "cells": [
  {
   "cell_type": "markdown",
   "id": "82c8f985",
   "metadata": {},
   "source": [
    "# Predicting players rating\n",
    "In this project you are going to predict the overall rating of soccer player based on their \n",
    "attributes such as 'crossing', 'finishing etc.<br>\n",
    "The dataset you are going to use is from European Soccer Database\n",
    "(https://www.kaggle.com/hugomathien/soccer) has more than 25,000 matches and more \n",
    "than 10,000 players for European professional soccer seasons from 2008 to 2016.\n",
    "Download the data in the same folder and run the following commmand to get it in the environment<br>\n",
    "About the Dataset<br>\n",
    "The ultimate Soccer database for data analysis and \n",
    "machine learning\n",
    "The dataset comes in the form of an SQL database and contains statistics of about 25,000 football \n",
    "matches, from the top football league of 11 European Countries. It covers seasons from 2008 to \n",
    "2016 and contains match statistics (i.e: scores, corners, fouls etc...) as well as the team \n",
    "formations, with player names and a pair of coordinates to indicate their position on the pitch.<br>\n",
    "+25,000 matches<br>\n",
    "+10,000 players<br>\n",
    "11 European Countries with their lead championship<br>\n",
    "Seasons 2008 to 2016<br>\n",
    "Players and Teams' attributes* sourced from EA Sports' FIFA video game series, including \n",
    "the weekly updates\n",
    "Team line up with squad formation (X, Y coordinates)\n",
    "Betting odds from up to 10 providers\n",
    "Detailed match events (goal types, possession, corner, cross, fouls, cards etc...) for \n",
    "+10,000 matches<br>\n",
    "The dataset also has a set of about 35 statistics for each player, derived from EA Sports' FIFA \n",
    "video games. It is not just the stats that come with a new version of the game but also the weekly \n",
    "updates. So for instance if a player has performed poorly over a period of time and his stats get \n",
    "impacted in FIFA, you would normally see the same in the dataset.<br>\n",
    "Python skills required to complete this project<br>\n",
    "SQL:<br>\n",
    "The data is in SQL database so students need to retrive using query language. They also need \n",
    "to know how to connect SQL database woth python. The library we are using for this in 'sqlite3'.\n",
    "SQLite3 can be integrated with Python using sqlite3 module, which was written by Gerhard Haring. \n",
    "It provides an SQL interface compliant with the DB-API 2.0 specification described by PEP 249. \n",
    "You do not need to install this module separately because it is shipped by default along with Python \n",
    "version 2.5.x onwards.<br>\n",
    "To use sqlite3 module, you must first create a connection object that represents the database \n",
    "and then optionally you can create a cursor object, which will help you in executing all the SQL \n",
    "statements.<br>\n",
    "Pandas:<br>\n",
    "Pandas is an open-source, BSD-licensed Python library providing high-performance, easy-to-use \n",
    "data structures and data analysis tools for the Python programming language. Python with \n",
    "Pandas is used in a wide range of fields including academic and commercial domains including \n",
    "finance, economics, Statistics, analytics, etc.In this tutorial, we will learn the various features of \n",
    "Python Pandas and how to use them in practice.<br>\n",
    "Scikit Learn<br>\n",
    "Scikit-learn provides a range of supervised and unsupervised learning algorithms via a \n",
    "consistent interface in Python.<br>\n",
    "The library is built upon the SciPy (Scientific Python) that must be installed before you can \n",
    "use scikit-learn. This stack that includes:<br>\n",
    "NumPy: Base n-dimensional array package<br>\n",
    "SciPy: Fundamental library for scientific computing<br>\n",
    "Matplotlib: Comprehensive 2D/3D plotting<br>\n",
    "IPython: Enhanced interactive console<br>\n",
    "Sympy: Symbolic mathematics<br>\n",
    "Pandas: Data structures and analysis<br>\n",
    "Extensions or modules for SciPy care conventionally named SciKits. As such, the module \n",
    "provides learning algorithms and is named scikit-learn.\n",
    "The vision for the library is a level of robustness and support required for use in production systems. \n",
    "This means a deep focus on concerns such as easy of use, code quality, collaboration, \n",
    "documentation and performance.<br>\n",
    "Machine Learning skills required to complete the \n",
    "project<br>\n",
    "Supervised learning<br>\n",
    "Supervised learning deals with learning a function from available training data. A supervised \n",
    "learning algorithm analyzes the training data and produces an inferred function, which can be \n",
    "used for mapping new examples.\n",
    "Regression<br>\n",
    "Regression is a parametric technique used to predict continuous (dependent) variable given a set \n",
    "of independent variables. It is parametric in nature because it makes certain assumptions \n",
    "(discussed next) based on the data set. If the data set follows those assumptions, regression gives \n",
    "incredible results.<br>\n",
    "Model evaluation<br>\n",
    "Student must know how to judge a model on unseen data. What metric to select to judge \n",
    "the performance"
   ]
  },
  {
   "cell_type": "code",
   "execution_count": 1,
   "id": "bb6f80d4",
   "metadata": {},
   "outputs": [],
   "source": [
    "import sqlite3\n",
    "import numpy as np\n",
    "import pandas as pd\n",
    "%matplotlib notebook\n",
    "import matplotlib.pyplot as plt\n",
    "import xgboost as xgb\n",
    "from xgboost.sklearn import XGBRegressor\n",
    "from xgboost import plot_importance\n",
    "from sklearn.linear_model import LinearRegression\n",
    "from sklearn.tree import DecisionTreeRegressor\n",
    "from sklearn.ensemble import RandomForestRegressor\n",
    "from sklearn.preprocessing import StandardScaler\n",
    "from sklearn.impute import SimpleImputer\n",
    "from sklearn.feature_selection import SelectFromModel\n",
    "from sklearn.model_selection import train_test_split, GridSearchCV, ShuffleSplit, RandomizedSearchCV\n",
    "from sklearn.pipeline import make_pipeline\n",
    "import pickle"
   ]
  },
  {
   "cell_type": "code",
   "execution_count": 2,
   "id": "e3f3bbb7",
   "metadata": {},
   "outputs": [],
   "source": [
    "cnx = sqlite3.connect('database.sqlite')\n",
    "df = pd.read_sql_query(\"SELECT * FROM Player_Attributes\", cnx)"
   ]
  },
  {
   "cell_type": "code",
   "execution_count": 3,
   "id": "089d8b11",
   "metadata": {},
   "outputs": [
    {
     "name": "stdout",
     "output_type": "stream",
     "text": [
      "            id  player_fifa_api_id  player_api_id                 date  \\\n",
      "0            1              218353         505942  2016-02-18 00:00:00   \n",
      "1            2              218353         505942  2015-11-19 00:00:00   \n",
      "2            3              218353         505942  2015-09-21 00:00:00   \n",
      "3            4              218353         505942  2015-03-20 00:00:00   \n",
      "4            5              218353         505942  2007-02-22 00:00:00   \n",
      "...        ...                 ...            ...                  ...   \n",
      "183973  183974              102359          39902  2009-08-30 00:00:00   \n",
      "183974  183975              102359          39902  2009-02-22 00:00:00   \n",
      "183975  183976              102359          39902  2008-08-30 00:00:00   \n",
      "183976  183977              102359          39902  2007-08-30 00:00:00   \n",
      "183977  183978              102359          39902  2007-02-22 00:00:00   \n",
      "\n",
      "        overall_rating  potential preferred_foot attacking_work_rate  \\\n",
      "0                 67.0       71.0          right              medium   \n",
      "1                 67.0       71.0          right              medium   \n",
      "2                 62.0       66.0          right              medium   \n",
      "3                 61.0       65.0          right              medium   \n",
      "4                 61.0       65.0          right              medium   \n",
      "...                ...        ...            ...                 ...   \n",
      "183973            83.0       85.0          right              medium   \n",
      "183974            78.0       80.0          right              medium   \n",
      "183975            77.0       80.0          right              medium   \n",
      "183976            78.0       81.0          right              medium   \n",
      "183977            80.0       81.0          right              medium   \n",
      "\n",
      "       defensive_work_rate  crossing  ...  vision  penalties  marking  \\\n",
      "0                   medium      49.0  ...    54.0       48.0     65.0   \n",
      "1                   medium      49.0  ...    54.0       48.0     65.0   \n",
      "2                   medium      49.0  ...    54.0       48.0     65.0   \n",
      "3                   medium      48.0  ...    53.0       47.0     62.0   \n",
      "4                   medium      48.0  ...    53.0       47.0     62.0   \n",
      "...                    ...       ...  ...     ...        ...      ...   \n",
      "183973                 low      84.0  ...    88.0       83.0     22.0   \n",
      "183974                 low      74.0  ...    88.0       70.0     32.0   \n",
      "183975                 low      74.0  ...    88.0       70.0     32.0   \n",
      "183976                 low      74.0  ...    88.0       53.0     28.0   \n",
      "183977                 low      74.0  ...    88.0       53.0     38.0   \n",
      "\n",
      "        standing_tackle  sliding_tackle  gk_diving  gk_handling  gk_kicking  \\\n",
      "0                  69.0            69.0        6.0         11.0        10.0   \n",
      "1                  69.0            69.0        6.0         11.0        10.0   \n",
      "2                  66.0            69.0        6.0         11.0        10.0   \n",
      "3                  63.0            66.0        5.0         10.0         9.0   \n",
      "4                  63.0            66.0        5.0         10.0         9.0   \n",
      "...                 ...             ...        ...          ...         ...   \n",
      "183973             31.0            30.0        9.0         20.0        84.0   \n",
      "183974             31.0            30.0        9.0         20.0        73.0   \n",
      "183975             31.0            30.0        9.0         20.0        73.0   \n",
      "183976             32.0            30.0        9.0         20.0        73.0   \n",
      "183977             32.0            30.0        9.0          9.0        78.0   \n",
      "\n",
      "        gk_positioning  gk_reflexes  \n",
      "0                  8.0          8.0  \n",
      "1                  8.0          8.0  \n",
      "2                  8.0          8.0  \n",
      "3                  7.0          7.0  \n",
      "4                  7.0          7.0  \n",
      "...                ...          ...  \n",
      "183973            20.0         20.0  \n",
      "183974            20.0         20.0  \n",
      "183975            20.0         20.0  \n",
      "183976            20.0         20.0  \n",
      "183977             7.0         15.0  \n",
      "\n",
      "[183978 rows x 42 columns]\n"
     ]
    }
   ],
   "source": [
    "print(df)"
   ]
  },
  {
   "cell_type": "code",
   "execution_count": 4,
   "id": "95672a8c",
   "metadata": {},
   "outputs": [
    {
     "data": {
      "text/html": [
       "<div>\n",
       "<style scoped>\n",
       "    .dataframe tbody tr th:only-of-type {\n",
       "        vertical-align: middle;\n",
       "    }\n",
       "\n",
       "    .dataframe tbody tr th {\n",
       "        vertical-align: top;\n",
       "    }\n",
       "\n",
       "    .dataframe thead th {\n",
       "        text-align: right;\n",
       "    }\n",
       "</style>\n",
       "<table border=\"1\" class=\"dataframe\">\n",
       "  <thead>\n",
       "    <tr style=\"text-align: right;\">\n",
       "      <th></th>\n",
       "      <th>id</th>\n",
       "      <th>player_fifa_api_id</th>\n",
       "      <th>player_api_id</th>\n",
       "      <th>date</th>\n",
       "      <th>overall_rating</th>\n",
       "      <th>potential</th>\n",
       "      <th>preferred_foot</th>\n",
       "      <th>attacking_work_rate</th>\n",
       "      <th>defensive_work_rate</th>\n",
       "      <th>crossing</th>\n",
       "      <th>...</th>\n",
       "      <th>vision</th>\n",
       "      <th>penalties</th>\n",
       "      <th>marking</th>\n",
       "      <th>standing_tackle</th>\n",
       "      <th>sliding_tackle</th>\n",
       "      <th>gk_diving</th>\n",
       "      <th>gk_handling</th>\n",
       "      <th>gk_kicking</th>\n",
       "      <th>gk_positioning</th>\n",
       "      <th>gk_reflexes</th>\n",
       "    </tr>\n",
       "  </thead>\n",
       "  <tbody>\n",
       "    <tr>\n",
       "      <th>0</th>\n",
       "      <td>1</td>\n",
       "      <td>218353</td>\n",
       "      <td>505942</td>\n",
       "      <td>2016-02-18 00:00:00</td>\n",
       "      <td>67.0</td>\n",
       "      <td>71.0</td>\n",
       "      <td>right</td>\n",
       "      <td>medium</td>\n",
       "      <td>medium</td>\n",
       "      <td>49.0</td>\n",
       "      <td>...</td>\n",
       "      <td>54.0</td>\n",
       "      <td>48.0</td>\n",
       "      <td>65.0</td>\n",
       "      <td>69.0</td>\n",
       "      <td>69.0</td>\n",
       "      <td>6.0</td>\n",
       "      <td>11.0</td>\n",
       "      <td>10.0</td>\n",
       "      <td>8.0</td>\n",
       "      <td>8.0</td>\n",
       "    </tr>\n",
       "    <tr>\n",
       "      <th>1</th>\n",
       "      <td>2</td>\n",
       "      <td>218353</td>\n",
       "      <td>505942</td>\n",
       "      <td>2015-11-19 00:00:00</td>\n",
       "      <td>67.0</td>\n",
       "      <td>71.0</td>\n",
       "      <td>right</td>\n",
       "      <td>medium</td>\n",
       "      <td>medium</td>\n",
       "      <td>49.0</td>\n",
       "      <td>...</td>\n",
       "      <td>54.0</td>\n",
       "      <td>48.0</td>\n",
       "      <td>65.0</td>\n",
       "      <td>69.0</td>\n",
       "      <td>69.0</td>\n",
       "      <td>6.0</td>\n",
       "      <td>11.0</td>\n",
       "      <td>10.0</td>\n",
       "      <td>8.0</td>\n",
       "      <td>8.0</td>\n",
       "    </tr>\n",
       "    <tr>\n",
       "      <th>2</th>\n",
       "      <td>3</td>\n",
       "      <td>218353</td>\n",
       "      <td>505942</td>\n",
       "      <td>2015-09-21 00:00:00</td>\n",
       "      <td>62.0</td>\n",
       "      <td>66.0</td>\n",
       "      <td>right</td>\n",
       "      <td>medium</td>\n",
       "      <td>medium</td>\n",
       "      <td>49.0</td>\n",
       "      <td>...</td>\n",
       "      <td>54.0</td>\n",
       "      <td>48.0</td>\n",
       "      <td>65.0</td>\n",
       "      <td>66.0</td>\n",
       "      <td>69.0</td>\n",
       "      <td>6.0</td>\n",
       "      <td>11.0</td>\n",
       "      <td>10.0</td>\n",
       "      <td>8.0</td>\n",
       "      <td>8.0</td>\n",
       "    </tr>\n",
       "    <tr>\n",
       "      <th>3</th>\n",
       "      <td>4</td>\n",
       "      <td>218353</td>\n",
       "      <td>505942</td>\n",
       "      <td>2015-03-20 00:00:00</td>\n",
       "      <td>61.0</td>\n",
       "      <td>65.0</td>\n",
       "      <td>right</td>\n",
       "      <td>medium</td>\n",
       "      <td>medium</td>\n",
       "      <td>48.0</td>\n",
       "      <td>...</td>\n",
       "      <td>53.0</td>\n",
       "      <td>47.0</td>\n",
       "      <td>62.0</td>\n",
       "      <td>63.0</td>\n",
       "      <td>66.0</td>\n",
       "      <td>5.0</td>\n",
       "      <td>10.0</td>\n",
       "      <td>9.0</td>\n",
       "      <td>7.0</td>\n",
       "      <td>7.0</td>\n",
       "    </tr>\n",
       "    <tr>\n",
       "      <th>4</th>\n",
       "      <td>5</td>\n",
       "      <td>218353</td>\n",
       "      <td>505942</td>\n",
       "      <td>2007-02-22 00:00:00</td>\n",
       "      <td>61.0</td>\n",
       "      <td>65.0</td>\n",
       "      <td>right</td>\n",
       "      <td>medium</td>\n",
       "      <td>medium</td>\n",
       "      <td>48.0</td>\n",
       "      <td>...</td>\n",
       "      <td>53.0</td>\n",
       "      <td>47.0</td>\n",
       "      <td>62.0</td>\n",
       "      <td>63.0</td>\n",
       "      <td>66.0</td>\n",
       "      <td>5.0</td>\n",
       "      <td>10.0</td>\n",
       "      <td>9.0</td>\n",
       "      <td>7.0</td>\n",
       "      <td>7.0</td>\n",
       "    </tr>\n",
       "  </tbody>\n",
       "</table>\n",
       "<p>5 rows × 42 columns</p>\n",
       "</div>"
      ],
      "text/plain": [
       "   id  player_fifa_api_id  player_api_id                 date  overall_rating  \\\n",
       "0   1              218353         505942  2016-02-18 00:00:00            67.0   \n",
       "1   2              218353         505942  2015-11-19 00:00:00            67.0   \n",
       "2   3              218353         505942  2015-09-21 00:00:00            62.0   \n",
       "3   4              218353         505942  2015-03-20 00:00:00            61.0   \n",
       "4   5              218353         505942  2007-02-22 00:00:00            61.0   \n",
       "\n",
       "   potential preferred_foot attacking_work_rate defensive_work_rate  crossing  \\\n",
       "0       71.0          right              medium              medium      49.0   \n",
       "1       71.0          right              medium              medium      49.0   \n",
       "2       66.0          right              medium              medium      49.0   \n",
       "3       65.0          right              medium              medium      48.0   \n",
       "4       65.0          right              medium              medium      48.0   \n",
       "\n",
       "   ...  vision  penalties  marking  standing_tackle  sliding_tackle  \\\n",
       "0  ...    54.0       48.0     65.0             69.0            69.0   \n",
       "1  ...    54.0       48.0     65.0             69.0            69.0   \n",
       "2  ...    54.0       48.0     65.0             66.0            69.0   \n",
       "3  ...    53.0       47.0     62.0             63.0            66.0   \n",
       "4  ...    53.0       47.0     62.0             63.0            66.0   \n",
       "\n",
       "   gk_diving  gk_handling  gk_kicking  gk_positioning  gk_reflexes  \n",
       "0        6.0         11.0        10.0             8.0          8.0  \n",
       "1        6.0         11.0        10.0             8.0          8.0  \n",
       "2        6.0         11.0        10.0             8.0          8.0  \n",
       "3        5.0         10.0         9.0             7.0          7.0  \n",
       "4        5.0         10.0         9.0             7.0          7.0  \n",
       "\n",
       "[5 rows x 42 columns]"
      ]
     },
     "execution_count": 4,
     "metadata": {},
     "output_type": "execute_result"
    }
   ],
   "source": [
    "df.head()"
   ]
  },
  {
   "cell_type": "code",
   "execution_count": 5,
   "id": "0c200650",
   "metadata": {},
   "outputs": [],
   "source": [
    "target = df.pop('overall_rating')"
   ]
  },
  {
   "cell_type": "code",
   "execution_count": 6,
   "id": "571d4bd9",
   "metadata": {},
   "outputs": [
    {
     "data": {
      "text/plain": [
       "(183978, 41)"
      ]
     },
     "execution_count": 6,
     "metadata": {},
     "output_type": "execute_result"
    }
   ],
   "source": [
    "df.shape"
   ]
  },
  {
   "cell_type": "code",
   "execution_count": 7,
   "id": "9f78b8a7",
   "metadata": {},
   "outputs": [
    {
     "data": {
      "text/plain": [
       "0    67.0\n",
       "1    67.0\n",
       "2    62.0\n",
       "3    61.0\n",
       "4    61.0\n",
       "Name: overall_rating, dtype: float64"
      ]
     },
     "execution_count": 7,
     "metadata": {},
     "output_type": "execute_result"
    }
   ],
   "source": [
    "target.head()"
   ]
  },
  {
   "cell_type": "code",
   "execution_count": 8,
   "id": "69fbeda1",
   "metadata": {},
   "outputs": [
    {
     "data": {
      "text/plain": [
       "836"
      ]
     },
     "execution_count": 8,
     "metadata": {},
     "output_type": "execute_result"
    }
   ],
   "source": [
    "target.isnull().sum()"
   ]
  },
  {
   "cell_type": "code",
   "execution_count": 9,
   "id": "10cb68b3",
   "metadata": {},
   "outputs": [
    {
     "data": {
      "text/plain": [
       "count    183142.000000\n",
       "mean         68.600015\n",
       "std           7.041139\n",
       "min          33.000000\n",
       "25%          64.000000\n",
       "50%          69.000000\n",
       "75%          73.000000\n",
       "max          94.000000\n",
       "Name: overall_rating, dtype: float64"
      ]
     },
     "execution_count": 9,
     "metadata": {},
     "output_type": "execute_result"
    }
   ],
   "source": [
    "target.describe()"
   ]
  },
  {
   "cell_type": "code",
   "execution_count": 10,
   "id": "178ca89d",
   "metadata": {},
   "outputs": [
    {
     "data": {
      "application/javascript": [
       "/* Put everything inside the global mpl namespace */\n",
       "/* global mpl */\n",
       "window.mpl = {};\n",
       "\n",
       "mpl.get_websocket_type = function () {\n",
       "    if (typeof WebSocket !== 'undefined') {\n",
       "        return WebSocket;\n",
       "    } else if (typeof MozWebSocket !== 'undefined') {\n",
       "        return MozWebSocket;\n",
       "    } else {\n",
       "        alert(\n",
       "            'Your browser does not have WebSocket support. ' +\n",
       "                'Please try Chrome, Safari or Firefox ≥ 6. ' +\n",
       "                'Firefox 4 and 5 are also supported but you ' +\n",
       "                'have to enable WebSockets in about:config.'\n",
       "        );\n",
       "    }\n",
       "};\n",
       "\n",
       "mpl.figure = function (figure_id, websocket, ondownload, parent_element) {\n",
       "    this.id = figure_id;\n",
       "\n",
       "    this.ws = websocket;\n",
       "\n",
       "    this.supports_binary = this.ws.binaryType !== undefined;\n",
       "\n",
       "    if (!this.supports_binary) {\n",
       "        var warnings = document.getElementById('mpl-warnings');\n",
       "        if (warnings) {\n",
       "            warnings.style.display = 'block';\n",
       "            warnings.textContent =\n",
       "                'This browser does not support binary websocket messages. ' +\n",
       "                'Performance may be slow.';\n",
       "        }\n",
       "    }\n",
       "\n",
       "    this.imageObj = new Image();\n",
       "\n",
       "    this.context = undefined;\n",
       "    this.message = undefined;\n",
       "    this.canvas = undefined;\n",
       "    this.rubberband_canvas = undefined;\n",
       "    this.rubberband_context = undefined;\n",
       "    this.format_dropdown = undefined;\n",
       "\n",
       "    this.image_mode = 'full';\n",
       "\n",
       "    this.root = document.createElement('div');\n",
       "    this.root.setAttribute('style', 'display: inline-block');\n",
       "    this._root_extra_style(this.root);\n",
       "\n",
       "    parent_element.appendChild(this.root);\n",
       "\n",
       "    this._init_header(this);\n",
       "    this._init_canvas(this);\n",
       "    this._init_toolbar(this);\n",
       "\n",
       "    var fig = this;\n",
       "\n",
       "    this.waiting = false;\n",
       "\n",
       "    this.ws.onopen = function () {\n",
       "        fig.send_message('supports_binary', { value: fig.supports_binary });\n",
       "        fig.send_message('send_image_mode', {});\n",
       "        if (fig.ratio !== 1) {\n",
       "            fig.send_message('set_dpi_ratio', { dpi_ratio: fig.ratio });\n",
       "        }\n",
       "        fig.send_message('refresh', {});\n",
       "    };\n",
       "\n",
       "    this.imageObj.onload = function () {\n",
       "        if (fig.image_mode === 'full') {\n",
       "            // Full images could contain transparency (where diff images\n",
       "            // almost always do), so we need to clear the canvas so that\n",
       "            // there is no ghosting.\n",
       "            fig.context.clearRect(0, 0, fig.canvas.width, fig.canvas.height);\n",
       "        }\n",
       "        fig.context.drawImage(fig.imageObj, 0, 0);\n",
       "    };\n",
       "\n",
       "    this.imageObj.onunload = function () {\n",
       "        fig.ws.close();\n",
       "    };\n",
       "\n",
       "    this.ws.onmessage = this._make_on_message_function(this);\n",
       "\n",
       "    this.ondownload = ondownload;\n",
       "};\n",
       "\n",
       "mpl.figure.prototype._init_header = function () {\n",
       "    var titlebar = document.createElement('div');\n",
       "    titlebar.classList =\n",
       "        'ui-dialog-titlebar ui-widget-header ui-corner-all ui-helper-clearfix';\n",
       "    var titletext = document.createElement('div');\n",
       "    titletext.classList = 'ui-dialog-title';\n",
       "    titletext.setAttribute(\n",
       "        'style',\n",
       "        'width: 100%; text-align: center; padding: 3px;'\n",
       "    );\n",
       "    titlebar.appendChild(titletext);\n",
       "    this.root.appendChild(titlebar);\n",
       "    this.header = titletext;\n",
       "};\n",
       "\n",
       "mpl.figure.prototype._canvas_extra_style = function (_canvas_div) {};\n",
       "\n",
       "mpl.figure.prototype._root_extra_style = function (_canvas_div) {};\n",
       "\n",
       "mpl.figure.prototype._init_canvas = function () {\n",
       "    var fig = this;\n",
       "\n",
       "    var canvas_div = (this.canvas_div = document.createElement('div'));\n",
       "    canvas_div.setAttribute(\n",
       "        'style',\n",
       "        'border: 1px solid #ddd;' +\n",
       "            'box-sizing: content-box;' +\n",
       "            'clear: both;' +\n",
       "            'min-height: 1px;' +\n",
       "            'min-width: 1px;' +\n",
       "            'outline: 0;' +\n",
       "            'overflow: hidden;' +\n",
       "            'position: relative;' +\n",
       "            'resize: both;'\n",
       "    );\n",
       "\n",
       "    function on_keyboard_event_closure(name) {\n",
       "        return function (event) {\n",
       "            return fig.key_event(event, name);\n",
       "        };\n",
       "    }\n",
       "\n",
       "    canvas_div.addEventListener(\n",
       "        'keydown',\n",
       "        on_keyboard_event_closure('key_press')\n",
       "    );\n",
       "    canvas_div.addEventListener(\n",
       "        'keyup',\n",
       "        on_keyboard_event_closure('key_release')\n",
       "    );\n",
       "\n",
       "    this._canvas_extra_style(canvas_div);\n",
       "    this.root.appendChild(canvas_div);\n",
       "\n",
       "    var canvas = (this.canvas = document.createElement('canvas'));\n",
       "    canvas.classList.add('mpl-canvas');\n",
       "    canvas.setAttribute('style', 'box-sizing: content-box;');\n",
       "\n",
       "    this.context = canvas.getContext('2d');\n",
       "\n",
       "    var backingStore =\n",
       "        this.context.backingStorePixelRatio ||\n",
       "        this.context.webkitBackingStorePixelRatio ||\n",
       "        this.context.mozBackingStorePixelRatio ||\n",
       "        this.context.msBackingStorePixelRatio ||\n",
       "        this.context.oBackingStorePixelRatio ||\n",
       "        this.context.backingStorePixelRatio ||\n",
       "        1;\n",
       "\n",
       "    this.ratio = (window.devicePixelRatio || 1) / backingStore;\n",
       "\n",
       "    var rubberband_canvas = (this.rubberband_canvas = document.createElement(\n",
       "        'canvas'\n",
       "    ));\n",
       "    rubberband_canvas.setAttribute(\n",
       "        'style',\n",
       "        'box-sizing: content-box; position: absolute; left: 0; top: 0; z-index: 1;'\n",
       "    );\n",
       "\n",
       "    // Apply a ponyfill if ResizeObserver is not implemented by browser.\n",
       "    if (this.ResizeObserver === undefined) {\n",
       "        if (window.ResizeObserver !== undefined) {\n",
       "            this.ResizeObserver = window.ResizeObserver;\n",
       "        } else {\n",
       "            var obs = _JSXTOOLS_RESIZE_OBSERVER({});\n",
       "            this.ResizeObserver = obs.ResizeObserver;\n",
       "        }\n",
       "    }\n",
       "\n",
       "    this.resizeObserverInstance = new this.ResizeObserver(function (entries) {\n",
       "        var nentries = entries.length;\n",
       "        for (var i = 0; i < nentries; i++) {\n",
       "            var entry = entries[i];\n",
       "            var width, height;\n",
       "            if (entry.contentBoxSize) {\n",
       "                if (entry.contentBoxSize instanceof Array) {\n",
       "                    // Chrome 84 implements new version of spec.\n",
       "                    width = entry.contentBoxSize[0].inlineSize;\n",
       "                    height = entry.contentBoxSize[0].blockSize;\n",
       "                } else {\n",
       "                    // Firefox implements old version of spec.\n",
       "                    width = entry.contentBoxSize.inlineSize;\n",
       "                    height = entry.contentBoxSize.blockSize;\n",
       "                }\n",
       "            } else {\n",
       "                // Chrome <84 implements even older version of spec.\n",
       "                width = entry.contentRect.width;\n",
       "                height = entry.contentRect.height;\n",
       "            }\n",
       "\n",
       "            // Keep the size of the canvas and rubber band canvas in sync with\n",
       "            // the canvas container.\n",
       "            if (entry.devicePixelContentBoxSize) {\n",
       "                // Chrome 84 implements new version of spec.\n",
       "                canvas.setAttribute(\n",
       "                    'width',\n",
       "                    entry.devicePixelContentBoxSize[0].inlineSize\n",
       "                );\n",
       "                canvas.setAttribute(\n",
       "                    'height',\n",
       "                    entry.devicePixelContentBoxSize[0].blockSize\n",
       "                );\n",
       "            } else {\n",
       "                canvas.setAttribute('width', width * fig.ratio);\n",
       "                canvas.setAttribute('height', height * fig.ratio);\n",
       "            }\n",
       "            canvas.setAttribute(\n",
       "                'style',\n",
       "                'width: ' + width + 'px; height: ' + height + 'px;'\n",
       "            );\n",
       "\n",
       "            rubberband_canvas.setAttribute('width', width);\n",
       "            rubberband_canvas.setAttribute('height', height);\n",
       "\n",
       "            // And update the size in Python. We ignore the initial 0/0 size\n",
       "            // that occurs as the element is placed into the DOM, which should\n",
       "            // otherwise not happen due to the minimum size styling.\n",
       "            if (fig.ws.readyState == 1 && width != 0 && height != 0) {\n",
       "                fig.request_resize(width, height);\n",
       "            }\n",
       "        }\n",
       "    });\n",
       "    this.resizeObserverInstance.observe(canvas_div);\n",
       "\n",
       "    function on_mouse_event_closure(name) {\n",
       "        return function (event) {\n",
       "            return fig.mouse_event(event, name);\n",
       "        };\n",
       "    }\n",
       "\n",
       "    rubberband_canvas.addEventListener(\n",
       "        'mousedown',\n",
       "        on_mouse_event_closure('button_press')\n",
       "    );\n",
       "    rubberband_canvas.addEventListener(\n",
       "        'mouseup',\n",
       "        on_mouse_event_closure('button_release')\n",
       "    );\n",
       "    // Throttle sequential mouse events to 1 every 20ms.\n",
       "    rubberband_canvas.addEventListener(\n",
       "        'mousemove',\n",
       "        on_mouse_event_closure('motion_notify')\n",
       "    );\n",
       "\n",
       "    rubberband_canvas.addEventListener(\n",
       "        'mouseenter',\n",
       "        on_mouse_event_closure('figure_enter')\n",
       "    );\n",
       "    rubberband_canvas.addEventListener(\n",
       "        'mouseleave',\n",
       "        on_mouse_event_closure('figure_leave')\n",
       "    );\n",
       "\n",
       "    canvas_div.addEventListener('wheel', function (event) {\n",
       "        if (event.deltaY < 0) {\n",
       "            event.step = 1;\n",
       "        } else {\n",
       "            event.step = -1;\n",
       "        }\n",
       "        on_mouse_event_closure('scroll')(event);\n",
       "    });\n",
       "\n",
       "    canvas_div.appendChild(canvas);\n",
       "    canvas_div.appendChild(rubberband_canvas);\n",
       "\n",
       "    this.rubberband_context = rubberband_canvas.getContext('2d');\n",
       "    this.rubberband_context.strokeStyle = '#000000';\n",
       "\n",
       "    this._resize_canvas = function (width, height, forward) {\n",
       "        if (forward) {\n",
       "            canvas_div.style.width = width + 'px';\n",
       "            canvas_div.style.height = height + 'px';\n",
       "        }\n",
       "    };\n",
       "\n",
       "    // Disable right mouse context menu.\n",
       "    this.rubberband_canvas.addEventListener('contextmenu', function (_e) {\n",
       "        event.preventDefault();\n",
       "        return false;\n",
       "    });\n",
       "\n",
       "    function set_focus() {\n",
       "        canvas.focus();\n",
       "        canvas_div.focus();\n",
       "    }\n",
       "\n",
       "    window.setTimeout(set_focus, 100);\n",
       "};\n",
       "\n",
       "mpl.figure.prototype._init_toolbar = function () {\n",
       "    var fig = this;\n",
       "\n",
       "    var toolbar = document.createElement('div');\n",
       "    toolbar.classList = 'mpl-toolbar';\n",
       "    this.root.appendChild(toolbar);\n",
       "\n",
       "    function on_click_closure(name) {\n",
       "        return function (_event) {\n",
       "            return fig.toolbar_button_onclick(name);\n",
       "        };\n",
       "    }\n",
       "\n",
       "    function on_mouseover_closure(tooltip) {\n",
       "        return function (event) {\n",
       "            if (!event.currentTarget.disabled) {\n",
       "                return fig.toolbar_button_onmouseover(tooltip);\n",
       "            }\n",
       "        };\n",
       "    }\n",
       "\n",
       "    fig.buttons = {};\n",
       "    var buttonGroup = document.createElement('div');\n",
       "    buttonGroup.classList = 'mpl-button-group';\n",
       "    for (var toolbar_ind in mpl.toolbar_items) {\n",
       "        var name = mpl.toolbar_items[toolbar_ind][0];\n",
       "        var tooltip = mpl.toolbar_items[toolbar_ind][1];\n",
       "        var image = mpl.toolbar_items[toolbar_ind][2];\n",
       "        var method_name = mpl.toolbar_items[toolbar_ind][3];\n",
       "\n",
       "        if (!name) {\n",
       "            /* Instead of a spacer, we start a new button group. */\n",
       "            if (buttonGroup.hasChildNodes()) {\n",
       "                toolbar.appendChild(buttonGroup);\n",
       "            }\n",
       "            buttonGroup = document.createElement('div');\n",
       "            buttonGroup.classList = 'mpl-button-group';\n",
       "            continue;\n",
       "        }\n",
       "\n",
       "        var button = (fig.buttons[name] = document.createElement('button'));\n",
       "        button.classList = 'mpl-widget';\n",
       "        button.setAttribute('role', 'button');\n",
       "        button.setAttribute('aria-disabled', 'false');\n",
       "        button.addEventListener('click', on_click_closure(method_name));\n",
       "        button.addEventListener('mouseover', on_mouseover_closure(tooltip));\n",
       "\n",
       "        var icon_img = document.createElement('img');\n",
       "        icon_img.src = '_images/' + image + '.png';\n",
       "        icon_img.srcset = '_images/' + image + '_large.png 2x';\n",
       "        icon_img.alt = tooltip;\n",
       "        button.appendChild(icon_img);\n",
       "\n",
       "        buttonGroup.appendChild(button);\n",
       "    }\n",
       "\n",
       "    if (buttonGroup.hasChildNodes()) {\n",
       "        toolbar.appendChild(buttonGroup);\n",
       "    }\n",
       "\n",
       "    var fmt_picker = document.createElement('select');\n",
       "    fmt_picker.classList = 'mpl-widget';\n",
       "    toolbar.appendChild(fmt_picker);\n",
       "    this.format_dropdown = fmt_picker;\n",
       "\n",
       "    for (var ind in mpl.extensions) {\n",
       "        var fmt = mpl.extensions[ind];\n",
       "        var option = document.createElement('option');\n",
       "        option.selected = fmt === mpl.default_extension;\n",
       "        option.innerHTML = fmt;\n",
       "        fmt_picker.appendChild(option);\n",
       "    }\n",
       "\n",
       "    var status_bar = document.createElement('span');\n",
       "    status_bar.classList = 'mpl-message';\n",
       "    toolbar.appendChild(status_bar);\n",
       "    this.message = status_bar;\n",
       "};\n",
       "\n",
       "mpl.figure.prototype.request_resize = function (x_pixels, y_pixels) {\n",
       "    // Request matplotlib to resize the figure. Matplotlib will then trigger a resize in the client,\n",
       "    // which will in turn request a refresh of the image.\n",
       "    this.send_message('resize', { width: x_pixels, height: y_pixels });\n",
       "};\n",
       "\n",
       "mpl.figure.prototype.send_message = function (type, properties) {\n",
       "    properties['type'] = type;\n",
       "    properties['figure_id'] = this.id;\n",
       "    this.ws.send(JSON.stringify(properties));\n",
       "};\n",
       "\n",
       "mpl.figure.prototype.send_draw_message = function () {\n",
       "    if (!this.waiting) {\n",
       "        this.waiting = true;\n",
       "        this.ws.send(JSON.stringify({ type: 'draw', figure_id: this.id }));\n",
       "    }\n",
       "};\n",
       "\n",
       "mpl.figure.prototype.handle_save = function (fig, _msg) {\n",
       "    var format_dropdown = fig.format_dropdown;\n",
       "    var format = format_dropdown.options[format_dropdown.selectedIndex].value;\n",
       "    fig.ondownload(fig, format);\n",
       "};\n",
       "\n",
       "mpl.figure.prototype.handle_resize = function (fig, msg) {\n",
       "    var size = msg['size'];\n",
       "    if (size[0] !== fig.canvas.width || size[1] !== fig.canvas.height) {\n",
       "        fig._resize_canvas(size[0], size[1], msg['forward']);\n",
       "        fig.send_message('refresh', {});\n",
       "    }\n",
       "};\n",
       "\n",
       "mpl.figure.prototype.handle_rubberband = function (fig, msg) {\n",
       "    var x0 = msg['x0'] / fig.ratio;\n",
       "    var y0 = (fig.canvas.height - msg['y0']) / fig.ratio;\n",
       "    var x1 = msg['x1'] / fig.ratio;\n",
       "    var y1 = (fig.canvas.height - msg['y1']) / fig.ratio;\n",
       "    x0 = Math.floor(x0) + 0.5;\n",
       "    y0 = Math.floor(y0) + 0.5;\n",
       "    x1 = Math.floor(x1) + 0.5;\n",
       "    y1 = Math.floor(y1) + 0.5;\n",
       "    var min_x = Math.min(x0, x1);\n",
       "    var min_y = Math.min(y0, y1);\n",
       "    var width = Math.abs(x1 - x0);\n",
       "    var height = Math.abs(y1 - y0);\n",
       "\n",
       "    fig.rubberband_context.clearRect(\n",
       "        0,\n",
       "        0,\n",
       "        fig.canvas.width / fig.ratio,\n",
       "        fig.canvas.height / fig.ratio\n",
       "    );\n",
       "\n",
       "    fig.rubberband_context.strokeRect(min_x, min_y, width, height);\n",
       "};\n",
       "\n",
       "mpl.figure.prototype.handle_figure_label = function (fig, msg) {\n",
       "    // Updates the figure title.\n",
       "    fig.header.textContent = msg['label'];\n",
       "};\n",
       "\n",
       "mpl.figure.prototype.handle_cursor = function (fig, msg) {\n",
       "    var cursor = msg['cursor'];\n",
       "    switch (cursor) {\n",
       "        case 0:\n",
       "            cursor = 'pointer';\n",
       "            break;\n",
       "        case 1:\n",
       "            cursor = 'default';\n",
       "            break;\n",
       "        case 2:\n",
       "            cursor = 'crosshair';\n",
       "            break;\n",
       "        case 3:\n",
       "            cursor = 'move';\n",
       "            break;\n",
       "    }\n",
       "    fig.rubberband_canvas.style.cursor = cursor;\n",
       "};\n",
       "\n",
       "mpl.figure.prototype.handle_message = function (fig, msg) {\n",
       "    fig.message.textContent = msg['message'];\n",
       "};\n",
       "\n",
       "mpl.figure.prototype.handle_draw = function (fig, _msg) {\n",
       "    // Request the server to send over a new figure.\n",
       "    fig.send_draw_message();\n",
       "};\n",
       "\n",
       "mpl.figure.prototype.handle_image_mode = function (fig, msg) {\n",
       "    fig.image_mode = msg['mode'];\n",
       "};\n",
       "\n",
       "mpl.figure.prototype.handle_history_buttons = function (fig, msg) {\n",
       "    for (var key in msg) {\n",
       "        if (!(key in fig.buttons)) {\n",
       "            continue;\n",
       "        }\n",
       "        fig.buttons[key].disabled = !msg[key];\n",
       "        fig.buttons[key].setAttribute('aria-disabled', !msg[key]);\n",
       "    }\n",
       "};\n",
       "\n",
       "mpl.figure.prototype.handle_navigate_mode = function (fig, msg) {\n",
       "    if (msg['mode'] === 'PAN') {\n",
       "        fig.buttons['Pan'].classList.add('active');\n",
       "        fig.buttons['Zoom'].classList.remove('active');\n",
       "    } else if (msg['mode'] === 'ZOOM') {\n",
       "        fig.buttons['Pan'].classList.remove('active');\n",
       "        fig.buttons['Zoom'].classList.add('active');\n",
       "    } else {\n",
       "        fig.buttons['Pan'].classList.remove('active');\n",
       "        fig.buttons['Zoom'].classList.remove('active');\n",
       "    }\n",
       "};\n",
       "\n",
       "mpl.figure.prototype.updated_canvas_event = function () {\n",
       "    // Called whenever the canvas gets updated.\n",
       "    this.send_message('ack', {});\n",
       "};\n",
       "\n",
       "// A function to construct a web socket function for onmessage handling.\n",
       "// Called in the figure constructor.\n",
       "mpl.figure.prototype._make_on_message_function = function (fig) {\n",
       "    return function socket_on_message(evt) {\n",
       "        if (evt.data instanceof Blob) {\n",
       "            /* FIXME: We get \"Resource interpreted as Image but\n",
       "             * transferred with MIME type text/plain:\" errors on\n",
       "             * Chrome.  But how to set the MIME type?  It doesn't seem\n",
       "             * to be part of the websocket stream */\n",
       "            evt.data.type = 'image/png';\n",
       "\n",
       "            /* Free the memory for the previous frames */\n",
       "            if (fig.imageObj.src) {\n",
       "                (window.URL || window.webkitURL).revokeObjectURL(\n",
       "                    fig.imageObj.src\n",
       "                );\n",
       "            }\n",
       "\n",
       "            fig.imageObj.src = (window.URL || window.webkitURL).createObjectURL(\n",
       "                evt.data\n",
       "            );\n",
       "            fig.updated_canvas_event();\n",
       "            fig.waiting = false;\n",
       "            return;\n",
       "        } else if (\n",
       "            typeof evt.data === 'string' &&\n",
       "            evt.data.slice(0, 21) === 'data:image/png;base64'\n",
       "        ) {\n",
       "            fig.imageObj.src = evt.data;\n",
       "            fig.updated_canvas_event();\n",
       "            fig.waiting = false;\n",
       "            return;\n",
       "        }\n",
       "\n",
       "        var msg = JSON.parse(evt.data);\n",
       "        var msg_type = msg['type'];\n",
       "\n",
       "        // Call the  \"handle_{type}\" callback, which takes\n",
       "        // the figure and JSON message as its only arguments.\n",
       "        try {\n",
       "            var callback = fig['handle_' + msg_type];\n",
       "        } catch (e) {\n",
       "            console.log(\n",
       "                \"No handler for the '\" + msg_type + \"' message type: \",\n",
       "                msg\n",
       "            );\n",
       "            return;\n",
       "        }\n",
       "\n",
       "        if (callback) {\n",
       "            try {\n",
       "                // console.log(\"Handling '\" + msg_type + \"' message: \", msg);\n",
       "                callback(fig, msg);\n",
       "            } catch (e) {\n",
       "                console.log(\n",
       "                    \"Exception inside the 'handler_\" + msg_type + \"' callback:\",\n",
       "                    e,\n",
       "                    e.stack,\n",
       "                    msg\n",
       "                );\n",
       "            }\n",
       "        }\n",
       "    };\n",
       "};\n",
       "\n",
       "// from http://stackoverflow.com/questions/1114465/getting-mouse-location-in-canvas\n",
       "mpl.findpos = function (e) {\n",
       "    //this section is from http://www.quirksmode.org/js/events_properties.html\n",
       "    var targ;\n",
       "    if (!e) {\n",
       "        e = window.event;\n",
       "    }\n",
       "    if (e.target) {\n",
       "        targ = e.target;\n",
       "    } else if (e.srcElement) {\n",
       "        targ = e.srcElement;\n",
       "    }\n",
       "    if (targ.nodeType === 3) {\n",
       "        // defeat Safari bug\n",
       "        targ = targ.parentNode;\n",
       "    }\n",
       "\n",
       "    // pageX,Y are the mouse positions relative to the document\n",
       "    var boundingRect = targ.getBoundingClientRect();\n",
       "    var x = e.pageX - (boundingRect.left + document.body.scrollLeft);\n",
       "    var y = e.pageY - (boundingRect.top + document.body.scrollTop);\n",
       "\n",
       "    return { x: x, y: y };\n",
       "};\n",
       "\n",
       "/*\n",
       " * return a copy of an object with only non-object keys\n",
       " * we need this to avoid circular references\n",
       " * http://stackoverflow.com/a/24161582/3208463\n",
       " */\n",
       "function simpleKeys(original) {\n",
       "    return Object.keys(original).reduce(function (obj, key) {\n",
       "        if (typeof original[key] !== 'object') {\n",
       "            obj[key] = original[key];\n",
       "        }\n",
       "        return obj;\n",
       "    }, {});\n",
       "}\n",
       "\n",
       "mpl.figure.prototype.mouse_event = function (event, name) {\n",
       "    var canvas_pos = mpl.findpos(event);\n",
       "\n",
       "    if (name === 'button_press') {\n",
       "        this.canvas.focus();\n",
       "        this.canvas_div.focus();\n",
       "    }\n",
       "\n",
       "    var x = canvas_pos.x * this.ratio;\n",
       "    var y = canvas_pos.y * this.ratio;\n",
       "\n",
       "    this.send_message(name, {\n",
       "        x: x,\n",
       "        y: y,\n",
       "        button: event.button,\n",
       "        step: event.step,\n",
       "        guiEvent: simpleKeys(event),\n",
       "    });\n",
       "\n",
       "    /* This prevents the web browser from automatically changing to\n",
       "     * the text insertion cursor when the button is pressed.  We want\n",
       "     * to control all of the cursor setting manually through the\n",
       "     * 'cursor' event from matplotlib */\n",
       "    event.preventDefault();\n",
       "    return false;\n",
       "};\n",
       "\n",
       "mpl.figure.prototype._key_event_extra = function (_event, _name) {\n",
       "    // Handle any extra behaviour associated with a key event\n",
       "};\n",
       "\n",
       "mpl.figure.prototype.key_event = function (event, name) {\n",
       "    // Prevent repeat events\n",
       "    if (name === 'key_press') {\n",
       "        if (event.which === this._key) {\n",
       "            return;\n",
       "        } else {\n",
       "            this._key = event.which;\n",
       "        }\n",
       "    }\n",
       "    if (name === 'key_release') {\n",
       "        this._key = null;\n",
       "    }\n",
       "\n",
       "    var value = '';\n",
       "    if (event.ctrlKey && event.which !== 17) {\n",
       "        value += 'ctrl+';\n",
       "    }\n",
       "    if (event.altKey && event.which !== 18) {\n",
       "        value += 'alt+';\n",
       "    }\n",
       "    if (event.shiftKey && event.which !== 16) {\n",
       "        value += 'shift+';\n",
       "    }\n",
       "\n",
       "    value += 'k';\n",
       "    value += event.which.toString();\n",
       "\n",
       "    this._key_event_extra(event, name);\n",
       "\n",
       "    this.send_message(name, { key: value, guiEvent: simpleKeys(event) });\n",
       "    return false;\n",
       "};\n",
       "\n",
       "mpl.figure.prototype.toolbar_button_onclick = function (name) {\n",
       "    if (name === 'download') {\n",
       "        this.handle_save(this, null);\n",
       "    } else {\n",
       "        this.send_message('toolbar_button', { name: name });\n",
       "    }\n",
       "};\n",
       "\n",
       "mpl.figure.prototype.toolbar_button_onmouseover = function (tooltip) {\n",
       "    this.message.textContent = tooltip;\n",
       "};\n",
       "\n",
       "///////////////// REMAINING CONTENT GENERATED BY embed_js.py /////////////////\n",
       "// prettier-ignore\n",
       "var _JSXTOOLS_RESIZE_OBSERVER=function(A){var t,i=new WeakMap,n=new WeakMap,a=new WeakMap,r=new WeakMap,o=new Set;function s(e){if(!(this instanceof s))throw new TypeError(\"Constructor requires 'new' operator\");i.set(this,e)}function h(){throw new TypeError(\"Function is not a constructor\")}function c(e,t,i,n){e=0 in arguments?Number(arguments[0]):0,t=1 in arguments?Number(arguments[1]):0,i=2 in arguments?Number(arguments[2]):0,n=3 in arguments?Number(arguments[3]):0,this.right=(this.x=this.left=e)+(this.width=i),this.bottom=(this.y=this.top=t)+(this.height=n),Object.freeze(this)}function d(){t=requestAnimationFrame(d);var s=new WeakMap,p=new Set;o.forEach((function(t){r.get(t).forEach((function(i){var r=t instanceof window.SVGElement,o=a.get(t),d=r?0:parseFloat(o.paddingTop),f=r?0:parseFloat(o.paddingRight),l=r?0:parseFloat(o.paddingBottom),u=r?0:parseFloat(o.paddingLeft),g=r?0:parseFloat(o.borderTopWidth),m=r?0:parseFloat(o.borderRightWidth),w=r?0:parseFloat(o.borderBottomWidth),b=u+f,F=d+l,v=(r?0:parseFloat(o.borderLeftWidth))+m,W=g+w,y=r?0:t.offsetHeight-W-t.clientHeight,E=r?0:t.offsetWidth-v-t.clientWidth,R=b+v,z=F+W,M=r?t.width:parseFloat(o.width)-R-E,O=r?t.height:parseFloat(o.height)-z-y;if(n.has(t)){var k=n.get(t);if(k[0]===M&&k[1]===O)return}n.set(t,[M,O]);var S=Object.create(h.prototype);S.target=t,S.contentRect=new c(u,d,M,O),s.has(i)||(s.set(i,[]),p.add(i)),s.get(i).push(S)}))})),p.forEach((function(e){i.get(e).call(e,s.get(e),e)}))}return s.prototype.observe=function(i){if(i instanceof window.Element){r.has(i)||(r.set(i,new Set),o.add(i),a.set(i,window.getComputedStyle(i)));var n=r.get(i);n.has(this)||n.add(this),cancelAnimationFrame(t),t=requestAnimationFrame(d)}},s.prototype.unobserve=function(i){if(i instanceof window.Element&&r.has(i)){var n=r.get(i);n.has(this)&&(n.delete(this),n.size||(r.delete(i),o.delete(i))),n.size||r.delete(i),o.size||cancelAnimationFrame(t)}},A.DOMRectReadOnly=c,A.ResizeObserver=s,A.ResizeObserverEntry=h,A}; // eslint-disable-line\n",
       "mpl.toolbar_items = [[\"Home\", \"Reset original view\", \"fa fa-home icon-home\", \"home\"], [\"Back\", \"Back to previous view\", \"fa fa-arrow-left icon-arrow-left\", \"back\"], [\"Forward\", \"Forward to next view\", \"fa fa-arrow-right icon-arrow-right\", \"forward\"], [\"\", \"\", \"\", \"\"], [\"Pan\", \"Left button pans, Right button zooms\\nx/y fixes axis, CTRL fixes aspect\", \"fa fa-arrows icon-move\", \"pan\"], [\"Zoom\", \"Zoom to rectangle\\nx/y fixes axis, CTRL fixes aspect\", \"fa fa-square-o icon-check-empty\", \"zoom\"], [\"\", \"\", \"\", \"\"], [\"Download\", \"Download plot\", \"fa fa-floppy-o icon-save\", \"download\"]];\n",
       "\n",
       "mpl.extensions = [\"eps\", \"jpeg\", \"pdf\", \"png\", \"ps\", \"raw\", \"svg\", \"tif\"];\n",
       "\n",
       "mpl.default_extension = \"png\";/* global mpl */\n",
       "\n",
       "var comm_websocket_adapter = function (comm) {\n",
       "    // Create a \"websocket\"-like object which calls the given IPython comm\n",
       "    // object with the appropriate methods. Currently this is a non binary\n",
       "    // socket, so there is still some room for performance tuning.\n",
       "    var ws = {};\n",
       "\n",
       "    ws.close = function () {\n",
       "        comm.close();\n",
       "    };\n",
       "    ws.send = function (m) {\n",
       "        //console.log('sending', m);\n",
       "        comm.send(m);\n",
       "    };\n",
       "    // Register the callback with on_msg.\n",
       "    comm.on_msg(function (msg) {\n",
       "        //console.log('receiving', msg['content']['data'], msg);\n",
       "        // Pass the mpl event to the overridden (by mpl) onmessage function.\n",
       "        ws.onmessage(msg['content']['data']);\n",
       "    });\n",
       "    return ws;\n",
       "};\n",
       "\n",
       "mpl.mpl_figure_comm = function (comm, msg) {\n",
       "    // This is the function which gets called when the mpl process\n",
       "    // starts-up an IPython Comm through the \"matplotlib\" channel.\n",
       "\n",
       "    var id = msg.content.data.id;\n",
       "    // Get hold of the div created by the display call when the Comm\n",
       "    // socket was opened in Python.\n",
       "    var element = document.getElementById(id);\n",
       "    var ws_proxy = comm_websocket_adapter(comm);\n",
       "\n",
       "    function ondownload(figure, _format) {\n",
       "        window.open(figure.canvas.toDataURL());\n",
       "    }\n",
       "\n",
       "    var fig = new mpl.figure(id, ws_proxy, ondownload, element);\n",
       "\n",
       "    // Call onopen now - mpl needs it, as it is assuming we've passed it a real\n",
       "    // web socket which is closed, not our websocket->open comm proxy.\n",
       "    ws_proxy.onopen();\n",
       "\n",
       "    fig.parent_element = element;\n",
       "    fig.cell_info = mpl.find_output_cell(\"<div id='\" + id + \"'></div>\");\n",
       "    if (!fig.cell_info) {\n",
       "        console.error('Failed to find cell for figure', id, fig);\n",
       "        return;\n",
       "    }\n",
       "    fig.cell_info[0].output_area.element.on(\n",
       "        'cleared',\n",
       "        { fig: fig },\n",
       "        fig._remove_fig_handler\n",
       "    );\n",
       "};\n",
       "\n",
       "mpl.figure.prototype.handle_close = function (fig, msg) {\n",
       "    var width = fig.canvas.width / fig.ratio;\n",
       "    fig.cell_info[0].output_area.element.off(\n",
       "        'cleared',\n",
       "        fig._remove_fig_handler\n",
       "    );\n",
       "    fig.resizeObserverInstance.unobserve(fig.canvas_div);\n",
       "\n",
       "    // Update the output cell to use the data from the current canvas.\n",
       "    fig.push_to_output();\n",
       "    var dataURL = fig.canvas.toDataURL();\n",
       "    // Re-enable the keyboard manager in IPython - without this line, in FF,\n",
       "    // the notebook keyboard shortcuts fail.\n",
       "    IPython.keyboard_manager.enable();\n",
       "    fig.parent_element.innerHTML =\n",
       "        '<img src=\"' + dataURL + '\" width=\"' + width + '\">';\n",
       "    fig.close_ws(fig, msg);\n",
       "};\n",
       "\n",
       "mpl.figure.prototype.close_ws = function (fig, msg) {\n",
       "    fig.send_message('closing', msg);\n",
       "    // fig.ws.close()\n",
       "};\n",
       "\n",
       "mpl.figure.prototype.push_to_output = function (_remove_interactive) {\n",
       "    // Turn the data on the canvas into data in the output cell.\n",
       "    var width = this.canvas.width / this.ratio;\n",
       "    var dataURL = this.canvas.toDataURL();\n",
       "    this.cell_info[1]['text/html'] =\n",
       "        '<img src=\"' + dataURL + '\" width=\"' + width + '\">';\n",
       "};\n",
       "\n",
       "mpl.figure.prototype.updated_canvas_event = function () {\n",
       "    // Tell IPython that the notebook contents must change.\n",
       "    IPython.notebook.set_dirty(true);\n",
       "    this.send_message('ack', {});\n",
       "    var fig = this;\n",
       "    // Wait a second, then push the new image to the DOM so\n",
       "    // that it is saved nicely (might be nice to debounce this).\n",
       "    setTimeout(function () {\n",
       "        fig.push_to_output();\n",
       "    }, 1000);\n",
       "};\n",
       "\n",
       "mpl.figure.prototype._init_toolbar = function () {\n",
       "    var fig = this;\n",
       "\n",
       "    var toolbar = document.createElement('div');\n",
       "    toolbar.classList = 'btn-toolbar';\n",
       "    this.root.appendChild(toolbar);\n",
       "\n",
       "    function on_click_closure(name) {\n",
       "        return function (_event) {\n",
       "            return fig.toolbar_button_onclick(name);\n",
       "        };\n",
       "    }\n",
       "\n",
       "    function on_mouseover_closure(tooltip) {\n",
       "        return function (event) {\n",
       "            if (!event.currentTarget.disabled) {\n",
       "                return fig.toolbar_button_onmouseover(tooltip);\n",
       "            }\n",
       "        };\n",
       "    }\n",
       "\n",
       "    fig.buttons = {};\n",
       "    var buttonGroup = document.createElement('div');\n",
       "    buttonGroup.classList = 'btn-group';\n",
       "    var button;\n",
       "    for (var toolbar_ind in mpl.toolbar_items) {\n",
       "        var name = mpl.toolbar_items[toolbar_ind][0];\n",
       "        var tooltip = mpl.toolbar_items[toolbar_ind][1];\n",
       "        var image = mpl.toolbar_items[toolbar_ind][2];\n",
       "        var method_name = mpl.toolbar_items[toolbar_ind][3];\n",
       "\n",
       "        if (!name) {\n",
       "            /* Instead of a spacer, we start a new button group. */\n",
       "            if (buttonGroup.hasChildNodes()) {\n",
       "                toolbar.appendChild(buttonGroup);\n",
       "            }\n",
       "            buttonGroup = document.createElement('div');\n",
       "            buttonGroup.classList = 'btn-group';\n",
       "            continue;\n",
       "        }\n",
       "\n",
       "        button = fig.buttons[name] = document.createElement('button');\n",
       "        button.classList = 'btn btn-default';\n",
       "        button.href = '#';\n",
       "        button.title = name;\n",
       "        button.innerHTML = '<i class=\"fa ' + image + ' fa-lg\"></i>';\n",
       "        button.addEventListener('click', on_click_closure(method_name));\n",
       "        button.addEventListener('mouseover', on_mouseover_closure(tooltip));\n",
       "        buttonGroup.appendChild(button);\n",
       "    }\n",
       "\n",
       "    if (buttonGroup.hasChildNodes()) {\n",
       "        toolbar.appendChild(buttonGroup);\n",
       "    }\n",
       "\n",
       "    // Add the status bar.\n",
       "    var status_bar = document.createElement('span');\n",
       "    status_bar.classList = 'mpl-message pull-right';\n",
       "    toolbar.appendChild(status_bar);\n",
       "    this.message = status_bar;\n",
       "\n",
       "    // Add the close button to the window.\n",
       "    var buttongrp = document.createElement('div');\n",
       "    buttongrp.classList = 'btn-group inline pull-right';\n",
       "    button = document.createElement('button');\n",
       "    button.classList = 'btn btn-mini btn-primary';\n",
       "    button.href = '#';\n",
       "    button.title = 'Stop Interaction';\n",
       "    button.innerHTML = '<i class=\"fa fa-power-off icon-remove icon-large\"></i>';\n",
       "    button.addEventListener('click', function (_evt) {\n",
       "        fig.handle_close(fig, {});\n",
       "    });\n",
       "    button.addEventListener(\n",
       "        'mouseover',\n",
       "        on_mouseover_closure('Stop Interaction')\n",
       "    );\n",
       "    buttongrp.appendChild(button);\n",
       "    var titlebar = this.root.querySelector('.ui-dialog-titlebar');\n",
       "    titlebar.insertBefore(buttongrp, titlebar.firstChild);\n",
       "};\n",
       "\n",
       "mpl.figure.prototype._remove_fig_handler = function (event) {\n",
       "    var fig = event.data.fig;\n",
       "    if (event.target !== this) {\n",
       "        // Ignore bubbled events from children.\n",
       "        return;\n",
       "    }\n",
       "    fig.close_ws(fig, {});\n",
       "};\n",
       "\n",
       "mpl.figure.prototype._root_extra_style = function (el) {\n",
       "    el.style.boxSizing = 'content-box'; // override notebook setting of border-box.\n",
       "};\n",
       "\n",
       "mpl.figure.prototype._canvas_extra_style = function (el) {\n",
       "    // this is important to make the div 'focusable\n",
       "    el.setAttribute('tabindex', 0);\n",
       "    // reach out to IPython and tell the keyboard manager to turn it's self\n",
       "    // off when our div gets focus\n",
       "\n",
       "    // location in version 3\n",
       "    if (IPython.notebook.keyboard_manager) {\n",
       "        IPython.notebook.keyboard_manager.register_events(el);\n",
       "    } else {\n",
       "        // location in version 2\n",
       "        IPython.keyboard_manager.register_events(el);\n",
       "    }\n",
       "};\n",
       "\n",
       "mpl.figure.prototype._key_event_extra = function (event, _name) {\n",
       "    var manager = IPython.notebook.keyboard_manager;\n",
       "    if (!manager) {\n",
       "        manager = IPython.keyboard_manager;\n",
       "    }\n",
       "\n",
       "    // Check for shift+enter\n",
       "    if (event.shiftKey && event.which === 13) {\n",
       "        this.canvas_div.blur();\n",
       "        // select the cell after this one\n",
       "        var index = IPython.notebook.find_cell_index(this.cell_info[0]);\n",
       "        IPython.notebook.select(index + 1);\n",
       "    }\n",
       "};\n",
       "\n",
       "mpl.figure.prototype.handle_save = function (fig, _msg) {\n",
       "    fig.ondownload(fig, null);\n",
       "};\n",
       "\n",
       "mpl.find_output_cell = function (html_output) {\n",
       "    // Return the cell and output element which can be found *uniquely* in the notebook.\n",
       "    // Note - this is a bit hacky, but it is done because the \"notebook_saving.Notebook\"\n",
       "    // IPython event is triggered only after the cells have been serialised, which for\n",
       "    // our purposes (turning an active figure into a static one), is too late.\n",
       "    var cells = IPython.notebook.get_cells();\n",
       "    var ncells = cells.length;\n",
       "    for (var i = 0; i < ncells; i++) {\n",
       "        var cell = cells[i];\n",
       "        if (cell.cell_type === 'code') {\n",
       "            for (var j = 0; j < cell.output_area.outputs.length; j++) {\n",
       "                var data = cell.output_area.outputs[j];\n",
       "                if (data.data) {\n",
       "                    // IPython >= 3 moved mimebundle to data attribute of output\n",
       "                    data = data.data;\n",
       "                }\n",
       "                if (data['text/html'] === html_output) {\n",
       "                    return [cell, data, j];\n",
       "                }\n",
       "            }\n",
       "        }\n",
       "    }\n",
       "};\n",
       "\n",
       "// Register the function which deals with the matplotlib target/channel.\n",
       "// The kernel may be null if the page has been refreshed.\n",
       "if (IPython.notebook.kernel !== null) {\n",
       "    IPython.notebook.kernel.comm_manager.register_target(\n",
       "        'matplotlib',\n",
       "        mpl.mpl_figure_comm\n",
       "    );\n",
       "}\n"
      ],
      "text/plain": [
       "<IPython.core.display.Javascript object>"
      ]
     },
     "metadata": {},
     "output_type": "display_data"
    },
    {
     "data": {
      "text/html": [
       "<img src=\"data:image/png;base64,iVBORw0KGgoAAAANSUhEUgAAAyAAAAJYCAYAAACadoJwAAAAAXNSR0IArs4c6QAAIABJREFUeF7t3XuwV/V1//+VgjhU2j9oJsQIcu0lsYCgTRHS6lgNzcQCBdpGw4xcTgAh/KAKBKEdocPFgtVSRMDCIDMyrY3SC2ZKetEyBVIrpNwaCuUmEKBoGZyhUAXMb97vbw/hHM6Bvfda+/J+7+dnxrHl7L323o+1gu/X2Z/9+XzqRz/60Y+EFwIIIIAAAggggAACCCBQgMCnCCAFKHMIBBBAAAEEEEAAAQQQ8AIEEAYBAQQQQAABBBBAAAEEChMggBRGzYEQQAABBBBAAAEEEECAAMIMIIAAAggggAACCCCAQGECBJDCqDkQAggggAACCCCAAAIIEECYAQQQQAABBBBAAAEEEChMgABSGDUHQgABBBBAAAEEEEAAAQIIM4AAAggggAACCCCAAAKFCRBACqPmQAgggAACCCCAAAIIIEAAYQYQQAABBBBAAAEEEECgMAECSGHUHAgBBBBAAAEEEEAAAQQIIMwAAggggAACCCCAAAIIFCZAACmMmgMhgAACCCCAAAIIIIAAAYQZQAABBBBAAAEEEEAAgcIECCCFUXMgBBBAAAEEEEAAAQQQIIAwAwgggAACCCCAAAIIIFCYAAGkMGoOhAACCCCAAAIIIIAAAgQQZgABBBBAAAEEEEAAAQQKEyCAFEbNgRBAAAEEEEAAAQQQQIAAwgwggAACCCCAAAIIIIBAYQIEkMKoORACCCCAAAIIIIAAAggQQJgBBBBAAAEEEEAAAQQQKEyAAFIYNQdCAAEEEEAAAQQQQAABAggzgAACCCCAAAIIIIAAAoUJEEAKo+ZACCCAAAIIIIAAAgggQABhBhBAAAEEEEAAAQQQQKAwAQJIYdQcCAEEEEAAAQQQQAABBAggzAACCCCAAAIIIIAAAggUJkAAKYyaAyGAAAIIIIAAAggggAABhBlAAAEEEEAAAQQQQACBwgQIIIVRcyAEEEAAAQQQQAABBBAggDADCCCAAAIIIIAAAgggUJgAAaQwag6EAAIIIIAAAggggAACBBBmAAEEEEAAAQQQQAABBAoTIIAURs2BEEAAAQQQQAABBBBAgADCDCCAAAIIIIAAAggggEBhAgSQwqg5EAIIIIAAAggggAACCBBAmAEEEEAAAQQQQAABBBAoTIAAUhg1B0IAAQQQQAABBBBAAAECCDOAAAIIIIAAAggggAAChQkQQAqj5kAIIIAAAggggAACCCBAAGEGEEAAAQQQQAABBBBAoDABAkhh1BwIAQQQQAABBBBAAAEECCDMAAIIIIAAAggggAACCBQmQAApjJoDIYAAAggggAACCCCAAAGEGUAAAQQQQAABBBBAAIHCBAgghVFzIAQQQAABBBBAAAEEECCAMAMIIIAAAggggAACCCBQmAABpDBqDoQAAggggAACCCCAAAIEEGYAAQQQQAABBBBAAAEEChMggBRGzYEQQAABBBBAAAEEEECAAMIMIIAAAggggAACCCCAQGECBJDCqDkQAggggAACCCCAAAIIEECYAQQQQAABBBBAAAEEEChMgABSGDUHQgABBBBAAAEEEEAAAQIIM4AAAggggAACCCCAAAKFCRBACqPmQAgggAACCCCAAAIIIEAAYQYQQAABBBBAAAEEEECgMAECSGHUHAgBBBBAAAEEEEAAAQQIIMwAAggggAACCCCAAAIIFCZAACmMmgMhgAACCCCAAAIIIIAAAYQZQAABBBBAAAEEEEAAgcIECCCFUXMgBBBAAAEEEEAAAQQQIIAwAwgggAACCCCAAAIIIFCYAAGkMGoOhAACCCCAAAIIIIAAAgQQZgABBBBAAAEEEEAAAQQKEyCAFEbNgRBAAAEEEEAAAQQQQIAAwgwggAACCCCAAAIIIIBAYQIEkMKoORACCCCAAAIIIIAAAggQQJgBBBBAAAEEEEAAAQQQKEyAAFIY9c0P9MEHH8h3v/td6datm7Rv3/7mO7AFAggggAACCCCAQKECFy9elKNHj8rgwYPl05/+dKHHjuVgBJAKdXL9+vUyatSoCp0Rp4IAAggggAACCCDQksCrr74qX//618HJIEAAyYCW1y5bt26VL33pS+IG+vOf/3xeh6EuAggggAACCCCAQEaBffv2+V8Yb9myRQYNGpSxSr13I4BUqP/f//735Z577pEdO3ZI//79K3RmnAoCCCCAAAIIIICAE2C9pp8DAoje0KwCA21GSSEEEEAAAQQQQCAXAdZrelYCiN7QrAIDbUZJIQQQQAABBBBAIBcB1mt6VgKI3tCsAgNtRkkhBBBAAAEEEEAgFwHWa3pWAoje0KwCA21GSSEEEEAAAQQQQCAXAdZrelYCiN7QrAIDbUZJIQQQQAABBBBAIBcB1mt6VgKI3tCsAgNtRkkhBBBAAAEEEEAgFwHWa3pWAoje0KwCA21GSSEEEEAAAQQQQCAXAdZrelYCiN7QrAIDbUZJIQQQQAABBBBAIBcB1mt6VgKI3tCsAgNtRkkhBBBAAAEEEEAgFwHWa3pWAoje0KwCA21GSSEEEEAAAQQQQCAXAdZrelYCiN7QrAIDbUZJIQQQQAABBBBAIBcB1mt6VgKI3tCsAgNtRkkhBBBAAAEEEEAgFwHWa3pWAoje0KwCA21GSSEEEEAAAQQQQCAXAdZrelYCiN7QrAIDbUZJIQQQQAABBBBAIBcB1mt6VgKI3tCsAgNtRkkhBBBAAAEEEEAgFwHWa3pWAoje0KwCA21GSSEEEEAAAQQQQCAXAdZrelYCiN7QrAIDbUZJIQQQQAABBBBAIBcB1mt6VgKI3tCsAgNtRkkhBBBAAAEEEEAgFwHWa3pWAoje0KwCA21GSSEEEEAAAQQQQCAXAdZrelYCiN7QrAIDbUZJIQQQQOCmAt1mfeem2yTZ4OizX02yGdsggEAkAqzX9I0kgOgNzSow0GaUFEIAAQRuKkAAuSkRGyCAQAsCrNf0Y0EA0RuaVWCgzSgphAACCNxUgAByUyI2QAABAkguM0AAyYU1W1ECSDY39kIAAQSyCBBAsqixDwIIsF7TzwABRG9oVoGBNqOkEAIIIHBTAQLITYnYAAEEuAOSywwQQHJhzVaUAJLNjb0QQACBLAIEkCxq7IMAAqzX9DNAANEbmlVgoM0oKYQAAgjcVIAAclMiNkAAAe6A5DIDBJBcWLMVJYBkc2MvBBBAIIsAASSLGvsggADrNf0MEED0hmYVGGgzSgohgAACNxUggNyUiA0QQIA7ILnMAAEkF9ZsRQkg2dzYCwEEEMgiQADJosY+CCDAek0/A5UJINu3b5dXX31V3nrrLTly5Ijcdtttctddd8nTTz8tDz30UJMrvXLliixZskRWr14tx48fly5dukhDQ4PMmDFD2rRpU7ltk7aJgU4qxXYIIFBXAavQYOnHN6FbalILgeoLsF7T96gyAWTkyJGyefNmGTFihPTv31/Onz8va9eulb1798pLL70kTzzxxNWrnTRpkqxYsULGjBkjAwcOlG3btvlt3Z8vX768iUoVtk3aJgY6qRTbIYBAXQUIIHXtPNeNQHUEWK/pe1GZALJ161a599575dZbb716VRcvXpS7775b3n//fTlz5oy0bdtW9uzZI3379pUpU6bI0qVLr247depUWbZsmezatUt69+7t/7wK26ZpEQOdRottEUCgjgIEkDp2nWtGoFoCrNf0/ahMAGntUp566il5/vnn5dixY/6tVnPmzJGFCxfK4cOHpXv37ld3c2/b6tGjh8yePVsWLFjg/7wK26ZpEQOdRottEUCgjgIEkDp2nWtGoFoCrNf0/ah8AHn00Ufl9ddfl3PnzvnnQgYPHuzvcpw+ffq6q+/UqZP069dPNm3a5H9WhW3TtIiBTqPFtgggUEcBAkgdu841I1AtAdZr+n5UOoDs27fPvwXrkUcekTfeeMNfrXt7Vbt27WTHjh3XXb17duTSpUv+rVdV2ba1Fp06dUrcP9e+3PWOGjXKX5u7Fl4IIIAAAk0FCCBMBAIIlC1AANF3oLIB5MMPP5T77rvPL9LdHY8777zTX23Pnj3F3elwD543f7kH0t2zIgcPHqzMtq21aO7cuTJv3rwWf0wA0Q82FRBAIE4BAkicfeWqEAhJgACi71YlA4h7+Ny9ferdd9/1b6e6//77r14pd0D0TacCAgggEKoAASTUznHeCMQjQADR97JyAeTjjz+WIUOG+O8D2bBhg3/71bWvKjzXkeYc0rSIgU6jxbYIIFBHAQJIHbvONSNQLQHWa/p+VCqAXL58Wdz3gWzcuFHWr18vX/va1667QvcpV4sWLUr0KVhV2DZNixjoNFpsiwACdRQggNSx61wzAtUSYL2m70dlAsgnn3wijz32mLz22mvy8ssvyze+8Y0Wr849D+I+6aq17wHZuXOn9OnTx+9bhW3TtIiBTqPFtgggUEcBAkgdu841I1AtAdZr+n5UJoA8+eST8sILL/jnPRoaGq67socfftg/fO5eEydOlFWrVvlvQh80aJC4LzF034Q+YcIEWblyZZN9q7Bt0jYx0Eml2A4BBOoqQACpa+e5bgSqI8B6Td+LygSQBx54QDZv3tzqFb399tvitnEv91atxYsXy+rVq+XEiRPSuXNnH1pmzpzpvy392lcVtk3aJgY6qRTbIYBAXQUIIHXtPNeNQHUEWK/pe1GZAKK/lPArMNDh95ArQACBfAUIIPn6Uh0BBG4uwHrt5kY324IAcjOhAn/OQBeIzaEQQCBIAQJIkG3jpBGISoD1mr6dBBC9oVkFBtqMkkIIIBCpAAEk0sZyWQgEJMB6Td8sAoje0KwCA21GSSEEEIhUgAASaWO5LAQCEmC9pm8WAURvaFaBgTajpBACCEQqQACJtLFcFgIBCbBe0zeLAKI3NKvAQJtRUggBBCIVIIBE2lguC4GABFiv6ZtFANEbmlVgoM0oKYQAApEKVDGAWFIfffarluWohQACOQiwXtOjEkD0hmYVGGgzSgohgECkAgSQSBvLZSEQkADrNX2zCCB6Q7MKDLQZJYUQQCBSAQJIpI3lshAISID1mr5ZBBC9oVkFBtqMkkIIIBCpAAEk0sZyWQgEJMB6Td8sAoje0KwCA21GSSEEEIhUgAASaWO5LAQCEmC9pm8WAURvaFaBgTajpBACCEQqQACJtLFcFgIBCbBe0zeLAKI3NKvAQJtRUggBBCIVIIBE2lguC4GABFiv6ZtFANEbmlVgoM0oKYQAApEKEEAibSyXhUBAAqzX9M0igOgNzSow0GaUFEIAgUgFCCCRNpbLQiAgAdZr+mYRQPSGZhUYaDNKCiGAQKQCBJBIG8tlIRCQAOs1fbMIIHpDswoMtBklhRBAIFIBAkikjeWyEAhIgPWavlkEEL2hWQUG2oySQgggEKkAASTSxnJZCAQkwHpN3ywCiN7QrAIDbUZJIQQQiFSAABJpY7ksBAISYL2mbxYBRG9oVoGBNqOkEAIIRCoQewCxbNvRZ79qWY5aCCDwfwKs1/SjQADRG5pVYKDNKCmEAAKRChBAkjeWAJLcii0RSCPAei2NVsvbEkD0hmYVGGgzSgohgECkAgSQ5I0lgCS3YksE0giwXkujRQDRa+VcgYHOGZjyCCAQvAABJHkLCSDJrdgSgTQCrNfSaBFA9Fo5V2CgcwamPAIIBC9AAEneQgJIciu2RCCNAOu1NFoEEL1WzhUY6JyBKY8AAsELEECSt5AAktyKLRFII8B6LY0WAUSvlXMFBjpnYMojgEDwAgSQ5C0kgCS3YksE0giwXkujRQDRa+VcgYHOGZjyCCAQvAABJHkLCSDJrdgSgTQCrNfSaBFA9Fo5V2CgcwamPAIIBC9AAEneQgJIciu2RCCNAOu1NFoEEL1WzhUY6JyBKY8AAqUIEBpKYRcCSDnuHDV+AdZr+h7zPSB6Q7MKDLQZJYUQQKBCAgSQcppBACnHnaPGL8B6Td9jAoje0KwCA21GSSEEEKiQAAGknGYQQMpx56jxC7Be0/eYAKI3NKvAQJtRUggBBCokQAAppxkEkHLcOWr8AqzX9D0mgOgNzSow0GaUFEIAgQoJEEDKaQYBpBx3jhq/AOs1fY8JIHpDswoMtBklhRBAoEICBJBymkEAKcedo8YvwHpN32MCiN7QrAIDbUZJIQQQqJAAAaScZhBAynHnqPELsF7T95gAojc0q8BAm1FSCAEEKiRAACmnGQSQctw5avwCrNf0PSaA6A3NKjDQZpQUQgCBCgkQQMppBgGkHHeOGr8A6zV9jwkgekOzCgy0GSWFEECgQgIEkHKaQQApx52jxi/Aek3fYwKI3tCsAgNtRkkhBBCokAABpJxmEEDKceeo8QuwXtP3mACiNzSrwECbUVIIAQQqJEAAKacZBJBy3Dlq/AKs1/Q9rlQAOX/+vDz33HOyY8cO2b59u5w+fVoef/xxeeWVV5pc6ejRo2XdunWtXv38+fNlzpw5/udHjx6V7t27t7jtuHHjZPXq1U1+duXKFVmyZIn/8+PHj0uXLl2koaFBZsyYIW3atMm8bZJWMdBJlNgGAQRCEyCAlNMxAkg57hw1fgHWa/oeVyqANIaF22+/Xe655x558803Wwwg3/ve9+TQoUPXXf3SpUt9cHEBpn///k0CyNChQ2XkyJFN9unVq5cMGDCgyZ9NmjRJVqxYIWPGjJGBAwfKtm3bZO3ateL+fPny5Zm3TdIqBjqJEtsggEBoAgSQcjpGACnHnaPGL8B6Td/jSgWQjz76SD744AO544475PLly3LLLbe0GEBauuwLFy7IZz/7WenWrZvs3r376iaNocbdEXF3Rm702rNnj/Tt21emTJkiLsw0vqZOnSrLli2TXbt2Se/evf0fp9k2aZsY6KRSbIcAAiEJEEDK6RYBpBx3jhq/AOs1fY8rFUCuvZy0AWT9+vUyatQo/xaup556qsUA0vi2rPbt27co536+cOFCOXz4cJO3bR05ckR69Oghs2fPlgULFvh902ybtE0MdFIptkMAgZAECCDldIsAUo47R41fgPWavsfRBJAvf/nL8vbbb8uJEyekU6dO1wWQDh06iHvGxL3cW6+mTZsmkydPbiI4ePBgf5fDPXvS/OVq9uvXTzZt2uR/lGbbpG1ioJNKsR0CCIQkQAApp1sEkHLcOWr8AqzX9D2OIoD88Ic/lDvvvFO+8pWv+OdGrn0dO3ZMxo4dK8OGDZOuXbvKyZMn/QPm7lmR6dOn+wfOG1/u7VXt2rXzz5A0f7lnSi5duuTfeuVeabZtqU2nTp0S98+1r3379vm7ONc+w6JvMRUQQACBcgUIIOX4E0DKceeo8QsQQPQ9jiKAPPvss/L000/Lt7/97eseNG+JyH3S1YMPPihbtmyRAwcOSM+ePf1m7t/uTod78Lz5yz2QfubMGTl48GDqbVs6h7lz58q8efNa7CABRD/YVEAAgeoIEEDK6QUBpBx3jhq/AAFE3+MoAsgXvvAF/7Ypd0fh1ltvTaSyceNGGTJkiKxatUrGjx/v90lzVyPNti2dEHdAErWJjRBAIAIBAkg5TSSAlOPOUeMXIIDoexx8AHn33Xfli1/8Yosfk3sjHvdJWe4Tr9xD5e7hcvdK81xHmm2TtomBTirFdgggEJIAAaScbhFAynHnqPELsF7T9zj4APLNb37Tfz/HO++844NI0teGDRtkxIgR/nkQ94WE7uWCyKJFixJ9ClaabZOeEwOdVIrtEEAgJAECSDndIoCU485R4xdgvabvcdAB5OOPP5bPfe5z8pnPfEZ+8IMftKhx9uxZ6dixY5OfXbx4UQYNGiR79+71X2jovu3cvdwnYLlPumrte0B27twpffr0Sb1t0jYx0Eml2A4BBEISIICU0y0CSDnuHDV+AdZr+h5XLoC8+OKLcu7cOfnkk0/kmWee8YFg+PDh/krdMxuNAcD9/413MdxD6N/61rda1HD7ui8pdN943rlzZ/8pWOvWrfN3OdzdjlmzZjXZb+LEif65EPdN6C6kbN261X8T+oQJE2TlypWZt03SKgY6iRLbIIBAaAIEkHI6RgApx52jxi/Aek3f48oFEPdN5u+9916LV+aCwOjRo6/+bOjQof5jd48fP+7vhLT0WrNmjQ8c+/fvF3c3xH0fiPtIXfft5i7QNH+5L0BcvHixf2uW+04RF1oaGhpk5syZ0rZt2yabp9k2SasY6CRKbIMAAqEJEEDK6RgBpBx3jhq/AOs1fY8rF0D0lxRuBQY63N5x5ggg0LoAAaSc6SCAlOPOUeMXYL2m7zEBRG9oVoGBNqOkEAIIVEiAAFJOMwgg5bhz1PgFWK/pe0wA0RuaVWCgzSgphAACFRIggJTTDAJIOe4cNX4B1mv6HhNA9IZmFRhoM0oKIYBAhQQIIOU0gwBSjjtHjV+A9Zq+xwQQvaFZBQbajJJCCCBQIQECSDnNIICU485R4xdgvabvMQFEb2hWgYE2o6QQAghUSIAAUk4zCCDluHPU+AVYr+l7TADRG5pVYKDNKCmEAAIVEiCAlNMMAkg57hw1fgHWa/oeE0D0hmYVGGgzSgohgECFBAgg5TSDAFKOO0eNX4D1mr7HBBC9oVkFBtqMkkIIIFAhAQJIOc0ggJTjzlHjF2C9pu8xAURvaFaBgTajpBACCFRIgABSTjMIIOW4c9T4BViv6XtMANEbmlVgoM0oKYQAAhUSIICU0wwCSDnuHDV+AdZr+h4TQPSGZhUYaDNKCiGAQIUECCDlNIMAUo47R41fgPWavscEEL2hWQUG2oySQgggUCEBAkg5zSCAlOPOUeMXYL2m7zEBRG9oVoGBNqOkEAIIVEiAAFJOMwgg5bhz1PgFWK/pe0wA0RuaVWCgzSgphAACFRIggJTTDAJIOe4cNX4B1mv6HhNA9IZmFRhoM0oKIYBAhQQIIOU0gwBSjjtHjV+A9Zq+xwQQvaFZBQbajJJCCCBQIQECSDnNIICU485R4xdgvabvMQFEb2hWgYE2o6QQAghUSIAAUk4zCCDluHPU+AVYr+l7TADRG5pVYKDNKCmEAAIVEiCAlNMMAkg57hw1fgHWa/oeE0D0hmYVGGgzSgohgECFBAgg5TSDAFKOO0eNX4D1mr7HBBC9oVkFBtqMkkIIIFAhAQJIOc0ggJTjzlHjF2C9pu8xAURvaFaBgTajpBACCFRIgABSTjMIIOW4c9T4BViv6XtMANEbmlVgoM0oKYQAAhUSIICU0wwCSDnuHDV+AdZr+h4TQPSGZhUYaDNKCiGAQIUECCDlNIMAUo47R41fgPWavscEEL2hWQUG2oySQgggUCEBAkg5zSCAlOPOUeMXYL2m7zEBRG9oVoGBNqOkEAIIVEiAAFJOMwgg5bhz1PgFWK/pe0wA0RuaVWCgzSgphAACFRIggJTTDAJIOe4cNX4B1mv6HhNA9IZmFRhoM0oKIYBAhQQIIBVqRsZTIcxkhGO3KAVYr+nbSgDRG5pVYKDNKCmEAAIVEiCAVKgZGU+FAJIRjt2iFGC9pm8rAURvaFaBgTajpBACCFRIgABSoWZkPBUCSEY4dotSgPWavq0EEL2hWQUG2oySQgggUCEBAkiFmpHxVAggGeHYLUoB1mv6thJA9IZmFRhoM0oKIYBAhQQIIBVqRsZTIYBkhGO3KAVYr+nbSgDRG5pVYKDNKCmEAAIVEiCAVKgZGU+FAJIRjt2iFGC9pm8rAURvaFaBgTajpBACCFRIgABSoWZkPBUCSEY4dotSgPWavq0EEL2hWQUG2oySQgggUCEBAkiFmpHxVAggGeHYLUoB1mv6thJA9IZmFRhoM0oKIYBAhQQIIBVqRsZTIYBkhGO3KAVYr+nbSgDRG5pVYKDNKCmEAAIVEiCAVKgZGU+FAJIRjt2iFGC9pm8rAURvaFaBgTajpBACCFRIgABSoWZkPBUCSEY4dotSgPWavq0EEL2hWQUG2oySQgggUCEBAkiFmpHxVAggGeHYLUoB1mv6thJA9IZmFRhoM0oKIYBAhQQIIBVqRsZTIYBkhGO3KAVYr+nbWqkAcv78eXnuuedkx44dsn37djl9+rQ8/vjj8sorrzS50qNHj0r37t1bvPpx48bJ6tWrm/zsypUrsmTJEv/nx48fly5dukhDQ4PMmDFD2rRpU8i2SVrFQCdRYhsEEAhNgAASWseuP18CSPg95ArsBFiv6S0rFUAag8Xtt98u99xzj7z55ps3DCBDhw6VkSNHNlHo1auXDBgwoMmfTZo0SVasWCFjxoyRgQMHyrZt22Tt2rXi/nz58uWFbJukVQx0EiW2QQCB0AQIIKF1jAASfse4gjwFWK/pdSsVQD766CP54IMP5I477pDLly/LLbfccsMAMmfOHJk/f/4NFfbs2SN9+/aVKVOmyNKlS69uO3XqVFm2bJns2rVLevfu7f88r22TtomBTirFdgggEJIAASSkbrV8rtwBCb+HXIGdAOs1vWWlAsi1l5M0gLgQ4l7t27dvUcP9fOHChXL48OEmb9s6cuSI9OjRQ2bPni0LFizw++a1bdI2MdBJpdgOAQRCEiCAhNQtAkj43eIK8hZgvaYXDjqAdOjQQdxzI+7l3no1bdo0mTx5chOVwYMH+7sc7nmS5q9OnTpJv379ZNOmTf5HeW2btE0MdFIptkMAgZAECCAhdYsAEn63uIK8BViv6YWDDCDHjh2TsWPHyrBhw6Rr165y8uRJ/4C5e3B9+vTp/oHzxpd7e1W7du38g+3NX/3795dLly75t165V17bttSmU6dOifvn2te+fftk1KhR/lzdufFCAAEEYhAggITfRd6CFX4PuQI7AQKI3jLIANLSZbtPunrwwQdly5YtcuDAAenZs6ffzP3b3elwD543f7kH0s+cOSMHDx7MdduWznfu3Lkyb968FjtIANEPNhUQQKA6AgSQ6vQi65kQQLLKsV+MAgQQfVejCSCOYuPGjTJkyBBZtWqVjB8/3uvkdVcjTd2W2sQdEP1TWpOnAAAgAElEQVTwUgEBBMIQIICE0acbnSUBJPwecgV2AgQQvWVUAWT37t3+E6/cQ+Xu4XL3yuu5jjR1k7aJgU4qxXYIIBCSAAEkpG61fK4EkPB7yBXYCbBe01tGFUA2bNggI0aM8M+DuC8kdC8XRBYtWpToU7Dy2jZpmxjopFJshwACIQkQQELqFgEk/G5xBXkLsF7TCwcZQM6ePSsdO3ZscvUXL16UQYMGyd69e+XQoUP+287dy30Clvukq9a+B2Tnzp3Sp0+fXLdN2iYGOqkU2yGAQEgCBJCQukUACb9bXEHeAqzX9MKVCyAvvviinDt3Tj755BN55plnfHgYPny4v1L3fIcLC+7/v3Dhgv/G886dO/tPwVq3bp2/y+HudsyaNauJzMSJE/1zIe6b0F1I2bp1q/8m9AkTJsjKlSsL2TZJqxjoJEpsgwACoQkQQELr2PXny1uwwu8hV2AnwHpNb1m5ANKtWzd57733WrwyFxpGjx4ta9as8YFj//794u6GuO8DcR9b677d3IWU5i/3pYaLFy/2b806ceKEDy0NDQ0yc+ZMadu2bZPN89o2SasY6CRKbIMAAqEJEEBC6xgBJPyOcQV5CrBe0+tWLoDoLyncCgx0uL3jzBFAoHUBAkj408EdkPB7yBXYCbBe01sSQPSGZhUYaDNKCiGAQIUECCAVakbGUyGAZIRjtygFWK/p20oA0RuaVWCgzSgphAACFRIggFSoGRlPhQCSEY7dohRgvaZvKwFEb2hWgYE2o6QQAghUSIAAUqFmZDwVAkhGOHaLUoD1mr6tBBC9oVkFBtqMkkIIIFAhAQJIhZqR8VQIIBnh2C1KAdZr+rYSQPSGZhUYaDNKCiGAQIUECCAVakbGUyGAZIRjtygFWK/p20oA0RuaVWCgzSgphAACFRIggFSoGRlPhQCSEY7dohRgvaZvKwFEb2hWgYE2o6QQAghUSIAAUqFmZDwVAkhGOHaLUoD1mr6tBBC9oVkFBtqMkkIIIFAhAQJIhZqR8VQIIBnh2C1KAdZr+rYSQPSGZhUYaDNKCiGAQIUECCAVakbGUyGAZIRjtygFWK/p20oA0RuaVWCgzSgphAACFRIggFSoGRlPhQCSEY7dohRgvaZvKwFEb2hWgYE2o6QQAghUSIAAUqFmZDwVAkhGOHaLUoD1mr6tBBC9oVkFBtqMkkIIIFAhAQJIhZqR8VQIIBnh2C1KAdZr+rYSQPSGZhUYaDNKCiGAQIUECCAVakbGUyGAZIRjtygFWK/p20oA0RuaVWCgzSgphAACFRIggFSoGRlPhQCSEY7dohRgvaZvKwFEb2hWgYE2o6QQAghUSIAAUqFmZDwVAkhGOHaLUoD1mr6tBBC9oVkFBtqMkkIIIFAhAQJIhZqR8VQIIBnh2C1KAdZr+rYSQPSGZhUYaDNKCiGAQIUECCAVakbGUyGAZIRjtygFWK/p20oA0RuaVWCgzSgphAACFRIggFSoGRlPhQCSEY7dohRgvaZvKwFEb2hWgYE2o6QQAghUSIAAUqFmZDwVAkhGOHaLUoD1mr6tBBC9oVkFBtqMkkIIIKAUIDQoASPbnQASWUO5HJUA6zUVn9+ZAKI3NKvAQJtRUggBBJQCBBAlYGS7E0AiayiXoxJgvabiI4Do+WwrMNC2nlRDAIHsAgSQ7HYx7kkAibGrXFNWAdZrWeV+vB93QPSGZhUYaDNKCiGAgFKAAKIEjGx3AkhkDeVyVAKs11R83AHR89lWYKBtPamGAALZBQgg2e1i3JMAEmNXuaasAqzXsspxB0Qvl0MFBjoHVEoigEAmAQJIJrZodyKARNtaLiyDAOu1DGjNduEtWHpDswoMtBklhRBAQClAAFECRrY7ASSyhnI5KgHWayo+vzMBRG9oVoGBNqOkEAIIKAUIIErAyHYngETWUC5HJcB6TcVHANHz2VZgoG09qYYAAtkFCCDZ7WLckwASY1e5pqwCrNeyyv14P+6A6A3NKjDQZpQUQgABpQABRAkY2e4EkMgayuWoBFivqfi4A6Lns63AQNt6Ug0BBLILEECy28W4JwEkxq5yTVkFWK9lleMOiF4uhwoMdA6olEQAgUwCBJBMbNHuRACJtrVcWAYB1msZ0Jrtwluw9IZmFRhoM0oKIYCAUoAAogSMbHcCSGQN5XJUAqzXVHx+ZwKI3tCsAgNtRkkhBBBQChBAlICR7U4AiayhXI5KgPWaio8AouezrcBA23pSDQEEsgsQQLLbxbgnASTGrnJNWQVYr2WV+/F+3AHRG5pVYKDNKCmEAAJKAQKIEjCy3QkgkTWUy1EJsF5T8XEHRM9nW4GBtvWkGgIIZBcggGS3i3FPAkiMXeWasgqwXssqxx0QvVwOFRjoHFApiQACmQQIIJnYot2JABJta7mwDAKs1zKgNduFt2DpDc0qMNBmlBRCAAGlAAFECRjZ7gSQyBrK5agEWK+p+PzOBBC9oVkFBtqMkkIIIKAUIIAoASPbnQASWUO5HJUA6zUVX/UCyPnz5+W5556THTt2yPbt2+X06dPy+OOPyyuvvNLkSt3PXn31VXnrrbfkyJEjctttt8ldd90lTz/9tDz00ENNtj169Kh07969Ralx48bJ6tWrm/zsypUrsmTJEv/nx48fly5dukhDQ4PMmDFD2rRpk3nbJK1ioJMosQ0CCBQhQAApQjmcYxBAwukVZ5q/AOs1vXGl7oA0hoXbb79d7rnnHnnzzTdbDCAjR46UzZs3y4gRI6R///7igsvatWtl79698tJLL8kTTzxxVaax5tChQ8Xtd+2rV69eMmDAgCZ/NmnSJFmxYoWMGTNGBg4cKNu2bfO13Z8vX74887ZJWsVAJ1FiGwQQKEKAAFKEcjjHIICE0yvONH8B1mt640oFkI8++kg++OADueOOO+Ty5ctyyy23tBhAtm7dKvfee6/ceuutVwUuXrwod999t7z//vty5swZadu2rf9ZYwCZM2eOzJ8//4Zie/bskb59+8qUKVNk6dKlV7edOnWqLFu2THbt2iW9e/f2f55m26RtYqCTSrEdAgjkLUAAyVs4rPoEkLD6xdnmK8B6Te9bqQBy7eXcKIC0dtlPPfWUPP/883Ls2DH/1qnmAcSFEPdq3759iyXczxcuXCiHDx9u8rYt9zavHj16yOzZs2XBggV+3zTbJm0TA51Uiu0QQCBvAQJI3sJh1SeAhNUvzjZfAdZret+oAsijjz4qr7/+upw7d84/F3JtAOnQoYN/q5Z7ubdeTZs2TSZPntxEcPDgwf4uh3v2pPmrU6dO0q9fP9m0aZP/UZptk7aJgU4qxXYIIJC3AAEkb+Gw6hNAwuoXZ5uvAOs1vW80AWTfvn3+LViPPPKIvPHGG1dl3N2QsWPHyrBhw6Rr165y8uRJ/4C5e5B9+vTp/oHzxpd7e1W7du38Q/DNX+5Zk0uXLvm3XrlXmm1batOpU6fE/XPty13DqFGj/PHd8XghgAACZQkQQMqSr+ZxCSDV7AtnVY4AAUTvHkUA+fDDD+W+++7zC3p3B+POO++8oYz7pKsHH3xQtmzZIgcOHJCePXv67d2/3Z0O9+B585d7IN09W3Lw4MHU27Z0MnPnzpV58+a1eJ4EEP1gUwEBBHQCBBCdX2x7E0Bi6yjXoxEggGj0/t++wQcQ9/C5ezvUu+++698edf/99ydS2bhxowwZMkRWrVol48eP9/ukuauRZtuWTog7IInaxEYIIFCSAAGkJPiKHpYAUtHGcFqlCBBA9OxBB5CPP/7Yhwj3fSAbNmzwb79K+tq9e7f/xCv3ULl7uNy90jzXkWbbpOfEQCeVYjsEEMhbgACSt3BY9QkgYfWLs81XgPWa3jfYAOI+Jct9r4e7k7F+/Xr52te+lkrDBRb3PSLueRD3hYTu5YLIokWLEn0KVpptk54YA51Uiu0QQCBvAQJI3sJh1SeAhNUvzjZfAdZret8gA8gnn3wijz32mLz22mvy8ssvyze+8Y1WJc6ePSsdO3Zs8nP3tq1Bgwb5Ly48dOjQ1Y/sdc+PuE+6au17QHbu3Cl9+vTxtdJsm7RNDHRSKbZDAIG8BQggeQuHVZ8AEla/ONt8BViv6X0rF0BefPFF/zG6LmQ888wzPhAMHz7cX6l7u5ULAE8++aS88MIL/nmPhoaG6xQefvhh/zC5e7l9L1y44L/xvHPnzv5TsNatW+fvcri7HbNmzWqy/8SJE/1zIe6b0F1IcV966L4JfcKECbJy5crM2yZpFQOdRIltEECgCAECSBHK4RyDABJOrzjT/AVYr+mNKxdAunXrJu+9916LV+aCwOjRo+WBBx6QzZs3t3r1b7/9tt/GvdasWeMDx/79+8XdDXHfB+I+4tZ9u7kLNM1f7q1dixcv9m/NOnHihA8tLuTMnDnz6rerN+6TZtskrWKgkyixDQIIFCFAAClCOZxjEEDC6RVnmr8A6zW9ceUCiP6Swq3AQIfbO84cgdgECCCxdVR3PQQQnR97xyXAek3fTwKI3tCsAgNtRkkhBBBQChBAlICR7U4AiayhXI5KgPWais/vTADRG5pVYKDNKCmEAAJKAQKIEjCy3QkgkTWUy1EJsF5T8RFA9Hy2FRhoW0+qIYBAdgECSHa7GPckgMTYVa4pqwDrtaxyP96POyB6Q7MKDLQZJYUQQEApQABRAka2OwEksoZyOSoB1msqPu6A6PlsKzDQtp5UQwCB7AIEkOx2Me5JAImxq1xTVgHWa1nluAOil8uhAgOdAyolEUAgkwABJBNbtDsRQKJtLReWQYD1Wga0ZrvwFiy9oVkFBtqMkkIIIKAUIIAoASPbnQASWUO5HJUA6zUVn9+ZAKI3NKvAQJtRUggBBJQCBBAlYGS7E0AiayiXoxJgvabiI4Do+WwrMNC2nlRDAIHsAgSQ7HYx7kkAibGrXFNWAdZrWeV+vB93QPSGZhUYaDNKCiGAgFKAAKIEjGx3AkhkDeVyVAKs11R83AHR89lWYKBtPamGAALZBQgg2e1i3JMAEmNXuaasAqzXsspxB0Qvl0MFBjoHVEoigEAmAQJIJrZodyKARNtaLiyDAOu1DGjNduEtWHpDswoMtBklhRBAQClAAFECRrY7ASSyhnI5KgHWayo+vzMBRG9oVoGBNqOkEAIIKAUIIErAyHYngETWUC5HJcB6TcVHANHz2VZgoG09qYYAAtkFCCDZ7WLckwASY1e5pqwCrNeyyv14P+6A6A3NKjDQZpQUQgABpQABRAkY2e4EkMgayuWoBFivqfi4A6Lns63AQNt6Ug0BBLILEECy28W4JwEkxq5yTVkFWK9lleMOiF4uhwoMdA6olEQAgUwCBJBMbNHuRACJtrVcWAYB1msZ0Jrtwluw9IZmFRhoM0oKIYCAUoAAogSMbHcCSGQN5XJUAqzXVHx+ZwKI3tCsAgNtRkkhBBBQChBAlIDs3qoAYYbhCF2A9Zq+gwQQvaFZBQbajJJCCCCgFCCAKAHZnQDCDEQrwHpN31oCiN7QrAIDbUZJIQQQUAoQQJSA7E4AYQaiFWC9pm8tAURvaFaBgTajpBACCCgFCCBKQHYngDAD0QqwXtO3lgCiNzSrwECbUVIIAQSUAgQQJSC7E0CYgWgFWK/pW0sA0RuaVWCgzSgphAACSgECiBKQ3QkgzEC0AqzX9K0lgOgNzSow0GaUFEIAAaUAAUQJyO4EEGYgWgHWa/rWEkD0hmYVGGgzSgohgIBSgACiBGR3AggzEK0A6zV9awkgekOzCgy0GSWFEEBAKUAAUQKyOwGEGYhWgPWavrUEEL2hWQUG2oySQgggoBQggCgB2Z0AwgxEK8B6Td9aAoje0KwCA21GSSEEEFAKEECUgOxOAGEGohVgvaZvLQFEb2hWgYE2o6QQAggoBQggSkB2J4AwA9EKsF7Tt5YAojc0q8BAm1FSCAEElAIEECUguxNAmIFoBViv6VtLANEbmlVgoM0oKYQAAkoBAogSkN0JIMxAtAKs1/StJYDoDc0qMNBmlBRCAAGlAAFECcjuBBBmIFoB1mv61hJA9IZmFRhoM0oKIYCAUoAAogRkdwIIMxCtAOs1fWsJIHpDswoMtBklhRBAQClAAFECsjsBhBmIVoD1mr61BBC9oVkFBtqMkkIIIKAUIIAoAdmdAMIMRCvAek3fWgKI3tCsAgNtRkkhBBBQChBAlIDsTgBhBqIVYL2mby0BRG9oVoGBNqOkEAIIKAUIIEpAdieAMAPRCrBe07e2UgHk/Pnz8txzz8mOHTtk+/btcvr0aXn88cfllVdeue5Kr1y5IkuWLJHVq1fL8ePHpUuXLtLQ0CAzZsyQNm3aNNm+CtsmaRUDnUSJbRBAoAgBAkgRyvU8xtFnv1rPC+eqoxFgvaZvZaUCyNGjR6V79+5y++23yz333CNvvvlmqwFk0qRJsmLFChkzZowMHDhQtm3bJmvXrhX358uXL28iU4Vtk7SKgU6ixDYIIFCEAAGkCOV6HoMAUs++x3TVrNf03axUAPnoo4/kgw8+kDvuuEMuX74st9xyS4sBZM+ePdK3b1+ZMmWKLF269KrC1KlTZdmyZbJr1y7p3bu3//MqbJu0TQx0Uim2QwCBvAUIIHkL17c+AaS+vY/lylmv6TtZqQBy7eXcKIDMmTNHFi5cKIcPH/Z3TBpfR44ckR49esjs2bNlwYIF/o+rsG3SNjHQSaXYDgEE8hYggOQtXN/6BJD69j6WK2e9pu9kkAFk8ODB/i6He0ak+atTp07Sr18/2bRpk/9RFbZN2iYGOqkU2yGAQN4CBJC8hetbnwBS397HcuWs1/SdDDKAuLdXtWvXzj+s3vzVv39/uXTpkn/rlXtVYduW2nTq1Clx/1z72rdvn4waNcpfl7sOXggggEBZAgSQsuTjPy4BJP4ex36FBBB9h4MMID179hR3p8M9eN785R5IP3PmjBw8eND/qArbttSmuXPnyrx581rsIAFEP9hUQAABnQABROfH3q0LEECYjtAFCCD6DgYZQKpwVyPNOXAHRD+oVEAAgWIFCCDFetfpaASQOnU7zmslgOj7GmQAqcJzHWnOIWmbGOikUmyHAAJ5CxBA8haub30CSH17H8uVs17TdzLIAOI+5WrRokWJPgWrCtsmbRMDnVSK7RBAIG8BAkjewvWtTwCpb+9juXLWa/pOBhlA3CdguU+6au17QHbu3Cl9+vTxOlXYNmmbGOikUmyHAAJ5CxBA8haub30CSH17H8uVs17Td7JyAeTFF1+Uc+fOySeffCLPPPOMDxrDhw/3VzpkyJCrwWLixImyatUq/03ogwYNkq1bt/pvQp8wYYKsXLmyiUwVtk3SKgY6iRLbIIBAEQIEkCKU63kMAkg9+x7TVbNe03ezcgGkW7du8t5777V4ZS5gjB492v/MfVHh4sWLZfXq1XLixAnp3LmzNDQ0yMyZM6Vt27ZN9q/CtklaxUAnUWIbBBAoQoAAUoRyPY9BAKln32O6atZr+m5WLoDoLyncCgx0uL3jzBGITYAAEltHq3M9BJDq9IIzySbAei2b27V7EUD0hmYVGGgzSgohUEsBQkMt2x7cRRNAgmsZJ9xMgPWafiQIIHpDswoMtBklhRCopQABpJZtD+6iCSDBtYwTJoCYzwABxJw0e0ECSHY79kQAARECCFMQggABJIQucY43EmC9pp8PAoje0KwCA21GSSEEailAAKll24O7aAJIcC3jhLkDYj4DBBBz0uwFCSDZ7dgTAQS4A8IMhCFAAAmjT5xl6wKs1/TTQQDRG5pVYKDNKCmEQC0FuANSy7YHd9EEkOBaxglzB8R8Bggg5qTZCxJAstuxJwIIcAeEGQhDgAASRp84S+6A5DkDBJA8dVPWJoCkBGNzBBBoIsAdEAYiBAECSAhd4hxvJMB6TT8fBBC9oVkFBtqMkkII1FKAAFLLtgd30QSQ4FrGCTcTYL2mHwkCiN7QrAIDbUZJIQRqKUAAqWXbg7toAkhwLeOECSDmM0AAMSfNXpAAkt2OPRFAgGdAmIEwBAggYfSJs2xdgPWafjoIIHpDswoMtBklhRCopQB3QGrZ9uAumgASXMs4Ye6AmM8AAcScNHtBAkh2O/ZEAAHugDADYQgQQMLoE2fJHZA8Z4AAkqduytoEkJRgbI4AAk0EuAPCQIQgQAAJoUuc440EWK/p54MAojc0q8BAm1FSCIFaChBAatn24C6aABJcyzjhZgKs1/QjQQDRG5pVYKDNKCmEQC0FCCC1bHtwF00ACa5lnDABxHwGCCDmpNkLEkCy27EnAgjwDAgzEIYAASSMPnGWrQuwXtNPBwFEb2hWgYE2o6QQArUU4A5ILdse3EUTQIJrGSfMHRDzGSCAmJNmL0gAyW7HngggwB0QZiAMAQJIGH3iLLkDkucMEEDy1E1ZmwCSEozNEUCgiQB3QBiIEAQIICF0iXO8kQDrNf18EED0hmYVGGgzSgohUEsBAkgt2x7cRRNAgmsZJ9xMgPWafiQIIHpDswoMtBklhRCopQABpJZtD+6iCSDBtYwTJoCYzwABxJw0e0ECSHY79kQAAZ4BYQbCECCAhNEnzrJ1AdZr+ukggOgNzSow0GaUFEKglgLcAall24O7aAJIcC3jhLkDYj4DBBBz0uwFCSDZ7dgTAQS4A8IMhCFAAAmjT5wld0DynAECSJ66KWsTQFKCsTkCCDQR4A4IAxGCAAEkhC5xjjcSYL2mnw8CiN7QrAIDbUZJIQRqKUAAqWXbg7toAkhwLeOEmwmwXtOPBAFEb2hWgYE2o6QQArUUIIDUsu3BXTQBJLiWccIEEPMZIICYk2YvSADJbseeCCDAMyDMQBgCBJAw+sRZti7Aek0/HQQQvaFZBQbajJJCCNRSgDsgtWx7cBdNAAmuZZwwd0DMZ4AAYk6avSABJLsdeyKAAHdAmIEwBAggYfSJs+QOSJ4zQADJUzdlbQJISjA2RwCBJgLcAWEgQhAggITQJc7xRgKs1/TzQQDRG5pVYKDNKCmEQC0FCCC1bHtwF00ACa5lnHAzAdZr+pEggOgNzSow0GaUFEKglgIEkFq2PbiLJoAE1zJOmABiPgMEEHPS7AUJINnt2BMBBHgGhBkIQ4AAEkafOMvWBViv6aeDAKI3NKvAQJtRUgiBWgpwB6SWbQ/uogkgwbWME+YOiPkMEEDMSbMXJIBkt2NPBBDgDggzEIYAASSMPnGW3AHJcwYIIHnqpqxNAEkJxuYIINBEgDsgDEQIAgSQELrEOd5IgPWafj4IIHpDswoMtBklhRCopQABpJZtD+6iCSDBtYwTbibAek0/EkEGkNGjR8u6detavfr58+fLnDlz5OjRo9K9e/cWtxs3bpysXr26yc+uXLkiS5Ys8X9+/Phx6dKlizQ0NMiMGTOkTZs2mbdN2iYGOqkU2yGAQEsCBBDmIgQBAkgIXeIcuQOS7wwEGUC+973vyaFDh66TWbp0qWzfvl127Ngh/fv3vxpAhg4dKiNHjmyyfa9evWTAgAFN/mzSpEmyYsUKGTNmjAwcOFC2bdsma9euFffny5cvz7xt0hYSQJJKsR0CCBBAmIFQBQggoXaO824UYL2mn4UgA0hLl33hwgX57Gc/K926dZPdu3f7TRrvgLi7Ie6uyI1ee/bskb59+8qUKVPEBZnG19SpU2XZsmWya9cu6d27t//jNNumaREDnUaLbRFAoLkAd0CYiRAECCAhdIlzvJEA6zX9fEQTQNavXy+jRo2S5557Tp566qnrAogLIe7Vvn37FtXczxcuXCiHDx9u8ratI0eOSI8ePWT27NmyYMECv2+abdO0iIFOo8W2CCBAAGEGQhQggITYNc75WgHWa/p5iCaAfPnLX5a3335bTpw4IZ06dWoSQDp06CDnz5/3f+beejVt2jSZPHlyE73Bgwf7uxynT5++TtXV69evn2zatMn/LM22aVrEQKfRYlsEECCAMAMhChBAQuwa50wAsZ2BKALID3/4Q7nzzjvlK1/5irz55ptXhY4dOyZjx46VYcOGSdeuXeXkyZP+AXP3nMj06dP9A+eNL/f2qnbt2vnnR5q/3PMkly5d8m+9cq8027bWrlOnTon759rXvn37/F2cxmdYbFtNNQQQiF2At2DF3uE4ro8AEkcf63wV/MJY3/0oAsizzz4rTz/9tHz729++7mHz5kTuk64efPBB2bJlixw4cEB69uzpN3H/dnc63IPnzV/ugfQzZ87IwYMHU2/bWovmzp0r8+bNa/HHBBD9YFMBgToKEEDq2PX6XjNBpr69L/vKCSD6DkQRQL7whS/4t065Owq33nrrTVU2btwoQ4YMkVWrVsn48eP99mnuaqTZtrWT4Q7ITdvEBgggkFKAAJISjM2DFiCABN2+oE+eAKJvX/AB5N1335UvfvGLLX5Ubms87lOy3CdeuYfK3cPl7pXmuY4026ZpEQOdRottEUCguQABhJmokwABpE7drta1sl7T9yP4APLNb37Tf0fHO++844NIkteGDRtkxIgR/nkQ94WE7uWCyKJFixJ9ClaabZOcT+M2DHQaLbZFAAECCDNQZwECSJ27X+61s17T+wcdQD7++GP53Oc+J5/5zGfkBz/4wXUaZ8+elY4dOzb584sXL8qgQYNk7969/ssM3bedu5f7BCz3SVetfQ/Izp07pU+fPqm3TdMiBjqNFtsigAABhBmoswABpM7dL/faWa/p/YMOII13MtxD6N/61reu0xg+fLi4Lyh033jeuXNn/ylY69at83c53N2OWbNmNdln4sSJ/rkQ903oLqRs3brVfxP6hAkTZOXKlZm3TdomBjqpFNshgEBLArwFi7mokwABpE7drta1sl7T9yPoADJ06FD/sbvHjx/3d0Kav9asWeMDx/79+8XdDXHfB+I+Utd9u7l7CL356/Lly7J48WL/1iz3fSIutDQ0NMjMmTOlbdu2TTZPs23SNjHQSaXYDgEECDWhmUAAACAASURBVCDMQN0FCCB1n4Dyrp/1mt4+6ACiv/xqVWCgq9UPzgaB0AS4AxJaxzhfjQABRKPHvhoB1msavf+3LwFEb2hWgYE2o6QQArUUIIDUsu21vWgCSG1bX/qFs17Tt4AAojc0q8BAm1FSCIFaChBAatn22l40AaS2rS/9wlmv6VtAANEbmlVgoM0oKYRALQUIILVse20vmgBS29aXfuGs1/QtIIDoDc0qMNBmlBRCoJYCBJBatr22F00AqW3rS79w1mv6FhBA9IZmFRhoM0oKIVBLAQJILdte24smgNS29aVfOOs1fQsIIHpDswoMtBklhRCopQABpJZtr+1FE0Bq2/rSL5z1mr4FBBC9oVkFBtqMkkII1FKAAFLLttf2ogkgtW196RfOek3fAgKI3tCsAgNtRkkhBGopQACpZdtre9EEkNq2vvQLZ72mbwEBRG9oVoGBNqOkEAK1FCCA1LLttb1oAkhtW1/6hbNe07eAAKI3NKvAQJtRUgiBWgoQQGrZ9tpeNAGktq0v/cJZr+lbQADRG5pVYKDNKCmEQC0FCCC1bHttL5oAUtvWl37hrNf0LSCA6A3NKjDQZpQUQqCWAgSQWra9thdNAKlt60u/cNZr+hYQQPSGZhUYaDNKCiFQSwECSC3bXtuLJoDUtvWlXzjrNX0LCCB6Q7MKDLQZJYUQqKUAAaSWba/tRRNAatv60i+c9Zq+BQQQvaFZBQbajJJCCNRSgABSy7bX9qIJILVtfekXznpN3wICiN7QrAIDbUZJIQRqKUAAqWXba3vRBJDatr70C2e9pm8BAURvaFaBgTajpBACtRQggNSy7bW9aAJIbVtf+oWzXtO3gACiNzSrwECbUVIIgVoKEEBq2fbaXjQBpLatL/3CWa/pW0AA0RuaVWCgzSgphEAtBQggtWx7bS+aAFLb1pd+4azX9C0ggOgNzSow0GaUFEKglgIEkFq2vbYXTQCpbetLv3DWa/oWEED0hmYVGGgzSgohEJQAwSGodnGyFREggFSkETU8DdZr+qYTQPSGZhUYaDNKCiEQlAABJKh2cbIVESCAVKQRNTwN1mv6phNA9IZmFRhoM0oKIRCUAAEkqHZxshURIIBUpBE1PA3Wa/qmE0D0hmYVGGgzSgohEJQAASSodnGyFREggFSkETU8DdZr+qYTQPSGZhUYaDNKCiEQlAABJKh2cbIVESCAVKQRNTwN1mv6phNA9IZmFRhoM0oKIRCUAAEkqHZxshURIIBUpBE1PA3Wa/qmE0D0hmYVGGgzSgohEJQAASSodnGyFREggFSkETU8DdZr+qYTQPSGZhUYaDNKCiEQlAABJKh2cbIVESCAVKQRNTwN1mv6phNA9IZmFRhoM0oKIRCUAAEkqHZxshURIIBUpBE1PA3Wa/qmE0D0hmYVGGgzSgohEJQAASSodnGyFREggFSkETU8DdZr+qYTQPSGZhUYaDNKCiEQlAABJKh2cbIVESCAVKQRNTwN1mv6phNA9IZmFRhoM0oKIRCUAAEkqHZxshURIIBUpBE1PA3Wa/qmE0D0hmYVGGgzSgohEJQAASSodnGyFREggFSkETU8DdZr+qYTQPSGZhUYaDNKCiEQlAABJKh2cbIVESCAVKQRNTwN1mv6phNA9IZmFRhoM0oKIRCUAAEkqHZxshURIIBUpBE1PA3Wa/qmE0D0hmYVGGgzSgohEJQAASSodnGyFREggFSkETU8DdZr+qYTQPSGZhUYaDNKCiEQlAABJKh2cbIVESCAVKQRNTwN1mv6phNA9IZmFRhoM0oKIRCUAAEkqHZxshURIIBUpBE1PA3Wa/qmE0D0hmYVGGgzSgohEJQAASSodnGyFREggFSkETU8DdZr+qYHGUCOHj0q3bt3b/Hqx40bJ6tXr776sytXrsiSJUv8nx0/fly6dOkiDQ0NMmPGDGnTpk2TGnltm7RNDHRSKbZDIC4BAkhc/eRqihEggBTjzFGuF2C9pp+KoAPI0KFDZeTIkU0UevXqJQMGDLj6Z5MmTZIVK1bImDFjZODAgbJt2zZZu3atuD9fvnx5k33z2jZpmxjopFJsh0BcAgSQuPrJ1RQjQAApxpmjEEDymIGgA8icOXNk/vz5rbrs2bNH+vbtK1OmTJGlS5de3W7q1KmybNky2bVrl/Tu3dv/eV7bpmkaASSNFtsiEI8AASSeXnIlxQkQQIqz5khNBViv6Sci+ADiQoh7tW/f/joN97OFCxfK4cOHm7xl68iRI9KjRw+ZPXu2LFiwwO+X17ZpWsRAp9FiWwTiESCAxNNLrqQ4AQJIcdYciQBiPQNBB5AOHTrI+fPnvYl769W0adNk8uTJV40GDx7s73KcPn36OrdOnTpJv379ZNOmTf5neW2bpmEEkDRabItAPAIEkHh6yZUUJ0AAKc6aIxFArGcgyABy7NgxGTt2rAwbNky6du0qJ0+e9A+Zb9++XaZPn+4fOncv9/aqdu3ayY4dO65z69+/v1y6dMm/9SrPbVtr2KlTp8T9c+1r3759MmrUKH++7vx4IYBAPQQIIPXoM1dpK0AAsfWkWnIBfmGc3Kq1LYMMIC1djPsEqwcffFC2bNkiBw4ckJ49e/p/3J0O9+B585d7IP3MmTNy8OBB/6O8tm0Nfu7cuTJv3rwWf0wA0Q82FRAISYAAElK3ONeqCBBAqtKJ+p0HAUTf82gCiKPYuHGjDBkyRFatWiXjx4/nDoh+PqiAAAIFCBBACkDmEAjcQIAww3ikESCApNFqeduoAsju3bv9p165B8vdA+Z5PdeRpm6aFjHQabTYFoF4BAgg8fSSKwlTgAASZt/KOmvWa3r5qALIhg0bZMSIEf55EPeFhC6ELFq0KNGnYOW1bZoWMdBptNgWgXgECCDx9JIrCVOAABJm38o6a9ZrevkgA8jZs2elY8eOTa7+4sWLMmjQINm7d68cOnTIf+O5+wQs90lXrX0PyM6dO6VPnz6+Tl7bpmkRA51Gi20RiEeAABJPL7mSMAUIIGH2rayzZr2mlw8ygAwfPlwuXLjgv/G8c+fO/lOw1q1b5+90uDses2bNuiozceJE/0yI+yZ0F1C2bt3qvwl9woQJsnLlyiaCeW2btE0MdFIptkMgLgECSFz95GrCEyCAhNezMs+Y9ZpeP8gAsmbNGh849u/fL+5uiPs+EPexte4bzt1D6Ne+Ll++LIsXL/Zvyzpx4oQPLA0NDTJz5kxp27ZtIdsmbRMDnVSK7RCIS4AAElc/uZrwBAgg4fWszDNmvabXDzKA6C+7mhUY6Gr2hbNCIG8BAkjewtRH4MYCBBAmJI0A67U0Wi1vSwDRG5pVYKDNKCmEQFACBJCg2sXJRihAAImwqTleEus1PS4BRG9oVoGBNqOkEAJBCRBAgmoXJxuhAAEkwqbmeEms1/S4BBC9oVkFBtqMkkIIBCVAAAmqXZxshAIEkAibmuMlsV7T4xJA9IZmFRhoM0oKIRCUAAEkqHZxshEKEEAibGqOl8R6TY9LANEbmlVgoM0oKYRAUAIEkKDaxclGKEAAibCpOV4S6zU9LgFEb2hWgYE2o6QQAkEJEECCahcnG6EAASTCpuZ4SazX9LgEEL2hWQUG2oySQggEJUAACapdnGyEAgSQCJua4yWxXtPjEkD0hmYVGGgzSgohEJQAASSodnGyEQoQQCJsao6XxHpNj0sA0RuaVWCgzSgphEBQAgSQoNrFyUYoQACJsKk5XhLrNT0uAURvaFaBgTajpBACQQkQQIJqFycboQABJMKm5nhJrNf0uAQQvaFZBQbajJJCCAQlQAAJql2cbIQCBJAIm5rjJbFe0+MSQPSGZhUYaDNKCiGQuwChIXdiDoBAYQIEkMKoozgQ6zV9GwkgekOzCgy0GSWFEMhdgACSOzEHQKAwAQJIYdRRHIj1mr6NBBC9oVkFBtqMkkII5C5AAMmdmAMgUJgAAaQw6igOxHpN30YCiN7QrAIDbUZJIQRyFyCA5E7MARAoTIAAUhh1FAdivaZvIwFEb2hWgYE2o6QQArkLEEByJ+YACBQmQAApjDqKA7Fe07eRAKI3NKvAQJtRUgiB3AUIILkTcwAEChMggBRGHcWBWK/p20gA0RuaVWCgzSgphEDuAgSQ3Ik5AAKFCRBACqOO4kCs1/RtJIDoDc0qMNBmlBRCIHcBAkjuxBwAgcIECCCFUUdxINZr+jYSQPSGZhUYaDNKCiGQuwABJHdiDoBAYQIEkMKoozgQ6zV9GwkgekOzCgy0GSWFEMhdgACSOzEHQKAwAQJIYdRRHIj1mr6NBBC9oVkFBtqMkkII5C5AAMmdmAMgUJgAAaQw6igOxHpN30YCiN7QrAIDbUZJIQRyFyCA5E7MARAoTIAAUhh1FAdivaZvIwFEb2hWgYE2o6QQArkLEEByJ+YACBQmQAApjDqKA7Fe07eRAKI3NKvAQJtRUgiB3AUIILkTcwAEChMggBRGHcWBWK/p20gA0RuaVWCgzSgphEDuAgSQ3Ik5AAKFCRBACqOO4kCs1/RtJIDoDc0qMNBmlBRCIHcBAkjuxBwAgcIECCCFUUdxINZr+jYSQPSGZhUYaDNKCiGQuwABJHdiDoBAYQIEkMKoozgQ6zV9GwkgekOzCgy0GSWFEMhdgACSOzEHQKAwAQJIYdRRHIj1mr6NBBC9oVkFBtqMkkII5C5AAMmdmAMgUJgAAaQw6igOxHpN30YCiN7QrAIDbUZJIQRyFyCA5E7MARAoTIAAUhh1FAdivaZvIwFEb2hWgYE2o6QQArkLEEByJ+YACBQmQAApjDqKA7Fe07eRAKI3NKvAQJtRUgiB3AUIILkTcwAEChMggBRGHcWBWK/p20gA0RuaVWCgzSgphEDuAgSQ3Ik5AAKFCRBACqOO4kCs1/RtJIDoDc0qMNBmlBRCIHcBAkjuxBwAgcIECCCFUUdxINZr+jYSQPSGZhUYaDNKCiGQuwABJHdiDoBAYQIEkMKoozgQ6zV9GwkgekOzCgy0GSWFEMhdgACSOzEHQKAwAQJIYdRRHIj1mr6NBBC9oVkFBtqMkkII5C5AAMmdmAMgUJgAAaQw6igOxHpN30YCiN7QrAIDbUZJIQRyFyCA5E7MARAIUoAwE2TbUp0067VUXC1uHGQA2b59u7z66qvy1ltvyZEjR+S2226Tu+66S55++ml56KGHrl7o0aNHpXv37i1e+Lhx42T16tVNfnblyhVZsmSJ//Pjx49Lly5dpKGhQWbMmCFt2rTJvG3SNjHQSaXYDoHyBQgg5feAM0CgigIEkCp2xfacWK/pPYMMICNHjpTNmzfLiBEjpH///nL+/HlZu3at7N27V1566SV54oknvExjABk6dKi4fa599erVSwYMGNDkzyZNmiQrVqyQMWPGyMCBA2Xbtm2+rvvz5cuXZ942aZsY6KRSbIdA+QIEkPJ7wBkgUEUBAkgVu2J7TqzX9J5BBpCtW7fKvffeK7feeutVgYsXL8rdd98t77//vpw5c0batm17NYDMmTNH5s+ff0OtPXv2SN++fWXKlCmydOnSq9tOnTpVli1bJrt27ZLevXv7P0+zbZoWMdBptNgWgXIFCCDl+nN0BKoqQACpamfszov1mt4yyADS2mU/9dRT8vzzz8uxY8f826ca74C4AOL+ca/27du3uLv7+cKFC+Xw4cNN3rbl3uLVo0cPmT17tixYsMDvm2bbNC1ioNNosS0C5QoQQMr15+gIVFWAAFLVztidF+s1vWVUAeTRRx+V119/Xc6dO+efC2kMIB06dPBv03Iv99aradOmyeTJk5voDR482N/lOH369HWqnTp1kn79+smmTZv8z9Jsm6ZFDHQaLbZFIL0AoSG9GXsggEA6AQJIOq8Qt2a9pu9aNAFk3759/i1YjzzyiLzxxhtext0JGTt2rAwbNky6du0qJ0+e9A+Yu4fYp0+f7h84b3y5t1e1a9dOduzYcZ2qe87k0qVL/q1X7pVm29ZadOrUKXH/XPty1zBq1Ch/Du6YvBBAwFaAAGLrSTUEELhegAAS/1QQQPQ9jiKAfPjhh3Lffff5Bb27i3HnnXe2KuM+6erBBx+ULVu2yIEDB6Rnz55+W/dvd6fDPXje/OUeSHfPlRw8eDD1tq2dyNy5c2XevHkt/pgAoh9sKiDQkgABhLlAAIG8BQggeQuXX58Aou9B8AHEPXzu3hL17rvv+rdI3X///TdV2bhxowwZMkRWrVol48eP99unuauRZtvWToY7IDdtExsgYC5AADEnpSACCDQTIIDEPxIEEH2Pgw4gH3/8sQ8S7vtANmzY4N9+leS1e/du/4lX7qFy93C5e6V5riPNtknOp3EbBjqNFtsikF6AAJLejD0QQCCdAAEknVeIW7Ne03ct2ABy+fJl/90e7m7G+vXr5Wtf+1piDRdW3HeIuOdB3BcSupcLIosWLUr0KVhptk18UiLCQKfRYlsE0gsQQNKbsQcCCKQTIICk8wpxa9Zr+q4FGUA++eQTeeyxx+S1116Tl19+Wb7xjW+0KHH27Fnp2LFjk5+5t2wNGjTIf2nhoUOH/Mf1upd7dsR90lVr3wOyc+dO6dOnT+pt07SIgU6jxbYIpBcggKQ3Yw8EEEgnQABJ5xXi1qzX9F0LMoA8+eST8sILL/jnPRoaGq5TePjhh/0D5cOHD5cLFy74bzzv3Lmz/xSsdevW+bsc7m7HrFmzmuw7ceJE/1yI+yZ0F1LcFx66b0KfMGGCrFy5MvO2SdvEQCeVYjsEsgkQQLK5sRcCCCQXIIAktwp1S9Zr+s4FGUAeeOAB2bx5c6tX//bbb4vbZs2aNT5w7N+/X9zdEPd9IO7jbd23m7tnR5q/3Nu6Fi9e7N+adeLECR9aXMCZOXOm/2b1a19ptk3aJgY6qRTbIZBNgACSzY29EEAguQABJLlVqFuyXtN3LsgAor/salZgoKvZF84qHgECSDy95EoQqKoAAaSqnbE7L9ZreksCiN7QrAIDbUZJIQRaFCCAMBgIIJC3AAEkb+Hy67Ne0/eAAKI3NKvAQJtRUggBAggzgAACpQgQQEphL/SgrNf03AQQvaFZBQbajJJCCBBAmAEEEChFgABSCnuhB2W9pucmgOgNzSow0GaUFEKAAMIMIIBAKQIEkFLYCz0o6zU9NwFEb2hWgYE2o6QQAgQQZgABBEoRIICUwl7oQVmv6bkJIHpDswoMtBklhRAggDADCCBQigABpBT2Qg/Kek3PTQDRG5pVYKDNKCkUkQCfXBVRM7kUBGogQACJv8ms1/Q9JoDoDc0qMNBmlBSKSIAAElEzuRQEaiBAAIm/yazX9D0mgOgNzSow0GaUFIpIgAASUTO5FARqIEAAib/JrNf0PSaA6A3NKjDQZpQUikiAABJRM7kUBGogQACJv8ms1/Q9JoDoDc0qMNBmlBSKSIAAElEzuRQEaiBAAIm/yazX9D0mgOgNzSow0GaUFIpIgAASUTO5FARqIEAAib/JrNf0PSaA6A3NKjDQZpQUikiAABJRM7kUBGogQACJv8ms1/Q9JoDoDc0qMNBmlBSKSIAAElEzuRQEaiBAAIm/yazX9D0mgOgNzSow0GaUFIpIgAASUTO5FAQQSCVAmEnFVdjGrNf01AQQvaFZBQbajJJCEQkQQCJqJpeCAAKpBAggqbgK25j1mp6aAKI3NKvAQJtRUigiAQJIRM3kUhBAIJUAASQVV2Ebs17TUxNA9IZmFRhoM0oKRSRAAImomVwKAgikEiCApOIqbGPWa3pqAoje0KwCA21GSaGIBAggETWTS0EAgVQCBJBUXIVtzHpNT00A0RuaVWCgzSgpVLIAoaHkBnB4BBCIQoAAUs02sl7T94UAojc0q8BAm1FSqGQBAkjJDeDwCCAQhQABpJptZL2m7wsBRG9oVoGBNqOkUMkCBJCSG8DhEUAgCgECSDXbyHpN3xcCiN7QrAIDbUZJoZIFCCAlN4DDI4BAFAIEkGq2kfWavi8EEL2hWQUG2oySQiULEEBKbgCHRwCBKAQIINVsI+s1fV8IIHpDswoMtBklhUoWIICU3AAOjwACUQgQQKrZRtZr+r4QQPSGZhUYaDNKCpUsQAApuQEcHgEEohAggFSzjazX9H0hgOgNzSow0GaUFCpZgABScgM4PAIIRCFAAKlmG1mv6ftCANEbmlVgoM0oKVSyAAGk5AZweAQQiEKAAFLNNrJe0/eFAKI3NKvAQJtRUqhkAQJIyQ3g8AggEIUAAaSabWS9pu8LAURvaFaBgTajpFDJAgSQkhvA4RFAAIFrBAgytuPAek3vSQDRG5pVYKDNKClUsgABpOQGcHgEEECAAJLbDLBe09MSQPSGZhUYaDNKCpUsQAApuQEcHgEEECCA5DYDrNf0tAQQvaFZBQbajJJCJQsQQEpuAIdHAAEECCC5zQDrNT0tAURvaFaBgTajpFDJAgSQkhvA4RFAAAECSG4zwHpNT0sA0RuaVWCgzSgplFGA4JARjt0QQACBCgvwELptc1iv6T0JIHpDswoMtBklhTIKEEAywrEbAgggUGEBAohtc1iv6T0JIHpDswoMtBklhTIKEEAywrEbAgggUGEBAohtc1iv6T0JIHpDswoMtBklhTIKEEAywrEbAgggUGEBAohtc1iv6T0JIHpDswoMtBklhTIKEEAywrEbAgggUGEBAohtc1iv6T0JIArDK1euyJIlS2T16tVy/Phx6dKlizQ0NMiMGTOkTZs2qSsz0KnJ2EFECA2MAQIIIIDAjQQIILbzwXpN70kAURhOmjRJVqxYIWPGjJGBAwfKtm3bZO3ateL+fPny5akrM9CpydiBAMIMIIAAAggUKECYEWG9ph84AkhGwz179kjfvn1lypQpsnTp0qtVpk6dKsuWLZNdu3ZJ7969U1VnoFNxsfH/CXAHhFFAAAEEEChKgABCALGYNQJIRsU5c+bIwoUL5fDhw9K9e/erVY4cOSI9evSQ2bNny4IFC1JVJ4Ck4gp6Y0JD0O3j5BFAAIHaChBACCAWw08Ayag4ePBgf5fj9OnT11Xo1KmT9OvXTzZt2pSqOgEkFVfhGxMaCifngAgggAACEQuEGmZYr+mHkgCS0dC9vapdu3ayY8eO6yr0799fLl26JO5tWq29Tp06Je6fa187d+6UcePGyauvviqf//znM54ZuzUX+Oqf/DMoCCCAAAIIIBCxwHf+v18p7Or27dsno0aNki1btsigQYMKO25MByKAZOxmz549xd3pcA+eN3+5B9LPnDkjBw8ebLX63LlzZd68eRmPzm4IIIAAAggggAACZQq4Xxh//etfL/MUgj02ASRj6/K4A/LOO+/4T9Bas2aN3H333RnPjN3SCDT+FoO7TmnUsm+Ld3a7rHtinlUu2354Z3PLuhfeWeWy74e5yMWLF+Xo0aPi3o7/6U9/OjtmjfckgGRsPs+AZISr2G68j7PYhuBdrLc7GubFmuONd7ECxR+NGS/ePMYjEkAydtV9ytWiRYv4FKyMflXZjb9Ii+0E3sV6E0DwLl6g2CPyd0qx3vydUrx3rEckgGTsrPsELPdJV619D4h7oLxPnz6pqvMXaSouk40xN2FMXATvxFRmG2JuRpmoEN6JmMw2wtuMMnEhzBNTseENBAggivGYOHGirFq1yn8TuvsUhK1bt/pvQp8wYYKsXLkydWX+R52aTL0D5mrCVAXwTsVlsjHmJoyJi+CdmMpkQ7xNGFMVwTwVFxu3IkAAUYzG5cuXZfHixbJ69Wo5ceKEdO7cWRoaGmTmzJnStm3b1JXdx/K6QOMCzO233556f3ZIL4B5ejPNHnhr9LLti3k2t6x74Z1VLtt+eGdz0+yFuUaPfRsFCCDMAgIIIIAAAggggAACCBQmQAApjJoDIYAAAggggAACCCCAAAGEGUAAAQQQQAABBBBAAIHCBAgghVFzIAQQQAABBBBAAAEEECCAMAMIIIAAAggggAACCCBQmAABpDBqDoQAAggggAACCCCAAAIEkAJnYN++fTJv3jzZsWOHuI+x+4mf+Anp0aOHjB49Wp544gm59dZbr57NlStXZMmSJf4jfo8fPy5dunTxH/E7Y8YMadOmTYFnHdeh3nrrLfm1X/s1f1H/+Z//Kb169cLcsMVHjx6V7t27t1hx3Lhxfp4bX8y4Hbz7++QP/uAP5Dvf+Y7813/9l/zMz/yMfPGLX/Qf692pUyd/ILz13u7v6nXr1rVaaP78+TJnzhy89dRNKrj/Brr5/sd//Ef/30430/fff7+3/rmf+zn+TsnB+/d+7/dk06ZNcu7cOenZs6e47z1zX7z8qU99Cm9j77qWI4AU2Pm/+7u/k+eee05++Zd/2X9niFsQuC8v/LM/+zP56le/Khs3brx6NpMmTZIVK1b4LzkcOHCgbNu2zX/Jofvz5cuXF3jW8Rzq448/lr59+/pA9z//8z/XBRDM9b1uDCBDhw6VkSNHNinowt6AAQOYcT1zkwouSP/qr/6qtG/f3v8yw/3d8v7778v3vvc9/0uMn/3Zn/XbM996eGd66NCh6wotXbpUtm/f7n+51L9/f7z11Fcr/Pd//7f84i/+ori/v90v6twvOA4ePOj/++gWw3v27PEzz4zboJ88eVLuvfdeOX/+vHzzm9+UO++80we/119/XZ566im/hml88XeKjXldqxBAKtB59z9yFyr+4z/+Q37+53/e/4XqFsrutw3uP2yNr6lTp8qyZctk165d0rt37wqceVinsGjRIvnjP/5jeeyxx/y/r70DgrlNLxsDiPvNpPttcGsvvG28f/SjH/lfaLhfZmzevFk6dOjQYmG8bbxbqnLhwgX57Gc/K926dZPdu3f7TfC2837ppZdk8uTJ8jd/8zfyG7/xG1cLv/HGG/6XHC+88IJMmzYNcyNyt+5w65F//ud/lkGDBl2t6nqwcuVK2bt3r3z+85/H28i7zmUIIBXon4Q++gAACsxJREFUvvuNgntr1b/8y7/4xYRbvC1cuFAOHz7c5O0sR44c8W/Zmj17tixYsKACZx7OKbz33nvyhS98QV588UVx/7d7K9y1AQRzm15eG0Aa34rifjPf/IW3jXfjWwrd3dNHHnlE/vd//9e/tbNdu3ZNDoC3jXdLVdavXy+jRo3yvxl2vyF2L7ztvJ999ll5+umn5d133/W/mW98ubtR7t0B7m2G48ePx9yIvE+fPuJCtbvLdO3L+bu3df7+7/++fzscM24EXuMyBJASmu/+x+3+cW8D+td//Vf/251bbrnF/w/eLdYGDx7s73KcPn36urNz733t16+ff28mr+QC7i1BZ86c8W9lc+GjeQDBPLnljbZsDCDuN/HuFr57ubdeud9QujlvfOFt4z1z5kz/Nqt/+qd/8r+YcPPt3pbifpHx/PPPy3333ecPhLeNd0tVvvzlL8vbb78tJ06cuPq8Dd523o0LX/f2TRfy3J0m99/KJ5980v8d437+0z/908y4Efkv/MIv+F9gNN7Nayz77//+7/6tcL/+678uf/u3f4u3kXedyxBASuj+3Llz/QK48eUWCy+//LK43zy4l3t7lfsLwL2fuPnLvb/40qVL/vYnr2QCb775prgA4sLePffcI43+194BwTyZ5c22OnbsmIwdO1aGDRsmXbt2Ffd+YvfguXt//PTp0/1imRm/mWLynzvnv/7rv5ZPf/rT8iu/8ivy6KOPenP3G0r3Sw438262me/kpmm2/OEPf+jfI/+Vr3xF3N8zjS+80yjefFv330cXsN3zII0v99zThg0b/Acu8HfKzQ2TbvGbv/mbPmC4d1zcfvvtV3dz7x5wb89ys+3CCTOeVJTtWhMggJQwG+6tVe4f95epewuF+x+zez7hgQce8GfjPnHC3elwv81s/nK3nN1v8pvfHi3hMoI45MWLF+Wuu+6Shx9+2N+qd6+WAgjm+bXTPZ/w4IMPypYtW+TAgQN+vvG28X7ooYf8A6Luk93+4R/+4WpR9/5tt0D7rd/6LfmLv/gLvG24r6vS+Pagb3/7200+dIH5tgX/y7/8S//8gbuz5O6oul/AuV9muN/If/e735XbbruNGTcid2sS9/fKL/3SL8kf/dEf+Qf83R2+3/3d3/Xv2nC/WHLrD2bcCLzGZQggFWi+e4juW9/6ln/blXu4i98s2DXFfZSge4jRLXzdb4lbCyCY25m3VMk9ozBkyJCr79fG28bbPZTrfvP+yiuvyOOPP96kqHurigvg7mN58bbxbl7FPVfm3irrPhr22o9Rx9vO293l+J3f+R35/ve/3+TDV9ynSrpA8od/+Ifi3oqIuZ25+6hp9xa3s2fP+qLureHu7W/ul3d33HGH/Nu//Rvedty1rUQAqUDr3QLBfYpK48PlvH/YpinurSjuoX33/IH7DpXG15/8yZ/4TxNzvzl2izS3DeY25q1VcXf53Ce7uQ9PcHOOt423+2x+d2fPvWXCvTf72pd7z7xbtLmPL8XbxvvaKo3PJrT00eh423m77/twHyv9gx/84Lqi7tkPd6fPhXDM7cxdJff3hvt72/3b3Wlq27at/NRP/ZS/q/rnf/7neNty17IaAaQCbW98cNd9xrn7bb1boLm3ZPEpWLrm7Ny50z+wf6OXu3XvHmTEXGd9s73dbzFHjBjhnwdxX0iI983Ekv18zZo1Plz/6Z/+aZOQ7fZu/G4E93A03sk802zV+PHp77zzjv90oGtfeKeRvPG27qPp3Wv//v1NNnQfQe0WxF/60pf8h7JgbmfeUqW/+qu/Evd8iPs+Mvd9Q3jn612H6gSQArvsnt34zGc+c90RGz/JpvFtFO6tWG7h3Nr3gLiFdeMD6wWefnCH+vDDD+Xv//7vrztv9554955tdxfELdLcg7yY27TX3bLv2LFjk2LubUDu8+Td58e7L3Hr0qUL3jbc8sEHH/j3ZLu3n7gvNW3Tpo2v7H4j7N6e1fjt88y3Efj/lXG/Ff7c5z7n/z5v6TfzeNt5uw8QcW/hdPPd+Klurrr7Yjz32/jG7xzC3M68eSX331L3/Kn7YAs37+4tWXjn512XygSQAjvtfnvgHjx3D5u7Rdi5c+f8A3TurUDutzjuQS93m9O9Gt9a4b4J3S3e3F++7jcPEyZM8A/j8cou0NJD6Jhn97x2z+HDh/v/SLm3/7hw594G595P7O7mubt6s2bNuro5M25j7r6s1L3N0H0K1m//9m+L+2Qm9zZDd3fPfZKe+7uG+baxbqzSeEfPPYTunt9r6cV825i7D2Nx/810z9i4t7u5h5/dQ+juk7HcLzvc8wjuLczMuI23e6bJvZ3T/WLO/d3hnm9yd67dL5fcL/Tcp3Y2vphxG/O6ViGAFNj51157zT8s6t5X6d7T6v5CdZ+57R6wc3c7rn2I8fLly7J48WL/P3z3Fgq3mHNvtXB3SxpDSoGnHtWhWgsgmOvb7N4S5AKHe7uE+w+W+z4Q99HRU6dO9Q+hX/vCW+/dWOHVV1/13/vhfjv5kz/5k/5T31zgc883Nb7wtvN2v5V3d5mOHz/u74S09MLbztv9N9N9tLT7OG/3Sw0XPNyMz58/398BZMbtrN1bkt1brNxbC93zqY3WzzzzjP8EMv4Ot7OueyUCSN0ngOtHAAEEEEAAAQQQQKBAAQJIgdgcCgEEEEAAAQQQQACBugsQQOo+AVw/AggggAACCCCAAAIFChBACsTmUAgggAACCCCAAAII1F2AAFL3CeD6EUAAAQQQQAABBBAoUIAAUiA2h0IAAQQQQAABBBBAoO4CBJC6TwDXjwACCCCAAAIIIIBAgQIEkAKxORQCCCCAAAIIIIAAAnUXIIDUfQK4fgQQQAABBBBAAAEEChQggBSIzaEQQAABBBBAAAEEEKi7AAGk7hPA9SOAAAIIIIAAAgggUKAAAaRAbA6FAAIIIIAAAggggEDdBQggdZ8Arh8BBBBAAAEEEEAAgQIFCCAFYnMoBBBAAAEEEEAAAQTqLkAAqfsEcP0IIIAAAggggAACCBQoQAApEJtDIYAAAggggAACCCBQdwECSN0ngOtHAAEEEEAAAQQQQKBAAQJIgdgcCgEEEEAAAQQQQACBugsQQOo+AVw/AggggAACCCCAAAIFChBACsTmUAgggAACCCCAAAII1F2AAFL3CeD6EUAAAQQQQAABBBAoUIAAUiA2h0IAAQQQQAABBBBAoO4CBJC6TwDXjwACCCCAAAIIIIBAgQIEkAKxORQCCCCAAAIIIIAAAnUXIIDUfQK4fgQQQAABBBBAAAEEChQggBSIzaEQQAABBBBAAAEEEKi7AAGk7hPA9SOAAAIIIIAAAgggUKAAAaRAbA6FAAIIIIAAAggggEDdBQggdZ8Arh8BBBBAAAEEEEAAgQIFCCAFYnMoBBBAAAEEEEAAAQTqLkAAqfsEcP0IIIAAAggggAACCBQoQAApEJtDIYAAAggggAACCCBQdwECSN0ngOtHAAEEEEAAAQQQQKBAAQJIgdgcCgEEEEAAAQQQQACBugsQQOo+AVw/AggggAACCCCAAAIFChBACsTmUAgggAACCCCAAAII1F2AAFL3CeD6EUAAAQQQQAABBBAoUIAAUiA2h0IAAQQQQAABBBBAoO4CBJC6TwDXjwACCCCAAAIIIIBAgQIEkAKxORQCCCCAAAIIIIAAAnUX+P8B7y/7qhuIiy8AAAAASUVORK5CYII=\" width=\"640\">"
      ],
      "text/plain": [
       "<IPython.core.display.HTML object>"
      ]
     },
     "metadata": {},
     "output_type": "display_data"
    },
    {
     "data": {
      "text/plain": [
       "(array([7.0000e+00, 6.0000e+00, 2.0000e+01, 6.5000e+01, 9.4000e+01,\n",
       "        1.4200e+02, 2.9400e+02, 5.2600e+02, 1.2510e+03, 1.8450e+03,\n",
       "        2.5780e+03, 4.0870e+03, 6.1890e+03, 9.6500e+03, 1.3745e+04,\n",
       "        1.8366e+04, 2.0310e+04, 2.0773e+04, 1.9382e+04, 1.8784e+04,\n",
       "        1.5915e+04, 1.1254e+04, 7.5250e+03, 4.9470e+03, 2.8290e+03,\n",
       "        1.4590e+03, 7.4800e+02, 2.2800e+02, 8.4000e+01, 3.9000e+01]),\n",
       " array([33.        , 35.03333333, 37.06666667, 39.1       , 41.13333333,\n",
       "        43.16666667, 45.2       , 47.23333333, 49.26666667, 51.3       ,\n",
       "        53.33333333, 55.36666667, 57.4       , 59.43333333, 61.46666667,\n",
       "        63.5       , 65.53333333, 67.56666667, 69.6       , 71.63333333,\n",
       "        73.66666667, 75.7       , 77.73333333, 79.76666667, 81.8       ,\n",
       "        83.83333333, 85.86666667, 87.9       , 89.93333333, 91.96666667,\n",
       "        94.        ]),\n",
       " <BarContainer object of 30 artists>)"
      ]
     },
     "execution_count": 10,
     "metadata": {},
     "output_type": "execute_result"
    }
   ],
   "source": [
    "plt.hist(target, 30, range=(33, 94))"
   ]
  },
  {
   "cell_type": "code",
   "execution_count": 11,
   "id": "267a4d2a",
   "metadata": {},
   "outputs": [],
   "source": [
    "y = target.fillna(target.mean())"
   ]
  },
  {
   "cell_type": "code",
   "execution_count": 12,
   "id": "1610582e",
   "metadata": {},
   "outputs": [
    {
     "data": {
      "text/plain": [
       "False"
      ]
     },
     "execution_count": 12,
     "metadata": {},
     "output_type": "execute_result"
    }
   ],
   "source": [
    "y.isnull().values.any()"
   ]
  },
  {
   "cell_type": "code",
   "execution_count": 13,
   "id": "9ed85aa1",
   "metadata": {},
   "outputs": [
    {
     "data": {
      "text/plain": [
       "Index(['id', 'player_fifa_api_id', 'player_api_id', 'date', 'potential',\n",
       "       'preferred_foot', 'attacking_work_rate', 'defensive_work_rate',\n",
       "       'crossing', 'finishing', 'heading_accuracy', 'short_passing', 'volleys',\n",
       "       'dribbling', 'curve', 'free_kick_accuracy', 'long_passing',\n",
       "       'ball_control', 'acceleration', 'sprint_speed', 'agility', 'reactions',\n",
       "       'balance', 'shot_power', 'jumping', 'stamina', 'strength', 'long_shots',\n",
       "       'aggression', 'interceptions', 'positioning', 'vision', 'penalties',\n",
       "       'marking', 'standing_tackle', 'sliding_tackle', 'gk_diving',\n",
       "       'gk_handling', 'gk_kicking', 'gk_positioning', 'gk_reflexes'],\n",
       "      dtype='object')"
      ]
     },
     "execution_count": 13,
     "metadata": {},
     "output_type": "execute_result"
    }
   ],
   "source": [
    "df.columns"
   ]
  },
  {
   "cell_type": "code",
   "execution_count": 14,
   "id": "104c990e",
   "metadata": {},
   "outputs": [
    {
     "name": "stdout",
     "output_type": "stream",
     "text": [
      "id--> 183978..int64\n",
      "player_fifa_api_id--> 11062..int64\n",
      "player_api_id--> 11060..int64\n",
      "date--> 197..object\n",
      "potential--> 57..float64\n",
      "preferred_foot--> 3..object\n",
      "attacking_work_rate--> 9..object\n",
      "defensive_work_rate--> 20..object\n",
      "crossing--> 96..float64\n",
      "finishing--> 98..float64\n",
      "heading_accuracy--> 97..float64\n",
      "short_passing--> 96..float64\n",
      "volleys--> 94..float64\n",
      "dribbling--> 98..float64\n",
      "curve--> 93..float64\n",
      "free_kick_accuracy--> 98..float64\n",
      "long_passing--> 96..float64\n",
      "ball_control--> 94..float64\n",
      "acceleration--> 87..float64\n",
      "sprint_speed--> 86..float64\n",
      "agility--> 82..float64\n",
      "reactions--> 79..float64\n",
      "balance--> 82..float64\n",
      "shot_power--> 97..float64\n",
      "jumping--> 80..float64\n",
      "stamina--> 85..float64\n",
      "strength--> 83..float64\n",
      "long_shots--> 97..float64\n",
      "aggression--> 92..float64\n",
      "interceptions--> 97..float64\n",
      "positioning--> 96..float64\n",
      "vision--> 98..float64\n",
      "penalties--> 95..float64\n",
      "marking--> 96..float64\n",
      "standing_tackle--> 96..float64\n",
      "sliding_tackle--> 95..float64\n",
      "gk_diving--> 94..float64\n",
      "gk_handling--> 91..float64\n",
      "gk_kicking--> 98..float64\n",
      "gk_positioning--> 95..float64\n",
      "gk_reflexes--> 93..float64\n"
     ]
    }
   ],
   "source": [
    "for col in df.columns:\n",
    "    unique_cat = len(df[col].unique())\n",
    "    print(\"{col}--> {unique_cat}..{typ}\".format(col=col, unique_cat=unique_cat, typ=df[col].dtype))"
   ]
  },
  {
   "cell_type": "code",
   "execution_count": 15,
   "id": "60d8770b",
   "metadata": {},
   "outputs": [
    {
     "data": {
      "text/html": [
       "<div>\n",
       "<style scoped>\n",
       "    .dataframe tbody tr th:only-of-type {\n",
       "        vertical-align: middle;\n",
       "    }\n",
       "\n",
       "    .dataframe tbody tr th {\n",
       "        vertical-align: top;\n",
       "    }\n",
       "\n",
       "    .dataframe thead th {\n",
       "        text-align: right;\n",
       "    }\n",
       "</style>\n",
       "<table border=\"1\" class=\"dataframe\">\n",
       "  <thead>\n",
       "    <tr style=\"text-align: right;\">\n",
       "      <th></th>\n",
       "      <th>id</th>\n",
       "      <th>player_fifa_api_id</th>\n",
       "      <th>player_api_id</th>\n",
       "      <th>date</th>\n",
       "      <th>potential</th>\n",
       "      <th>crossing</th>\n",
       "      <th>finishing</th>\n",
       "      <th>heading_accuracy</th>\n",
       "      <th>short_passing</th>\n",
       "      <th>volleys</th>\n",
       "      <th>...</th>\n",
       "      <th>defensive_work_rate_9</th>\n",
       "      <th>defensive_work_rate__0</th>\n",
       "      <th>defensive_work_rate_ean</th>\n",
       "      <th>defensive_work_rate_es</th>\n",
       "      <th>defensive_work_rate_high</th>\n",
       "      <th>defensive_work_rate_low</th>\n",
       "      <th>defensive_work_rate_medium</th>\n",
       "      <th>defensive_work_rate_o</th>\n",
       "      <th>defensive_work_rate_ormal</th>\n",
       "      <th>defensive_work_rate_tocky</th>\n",
       "    </tr>\n",
       "  </thead>\n",
       "  <tbody>\n",
       "    <tr>\n",
       "      <th>0</th>\n",
       "      <td>1</td>\n",
       "      <td>218353</td>\n",
       "      <td>505942</td>\n",
       "      <td>2016-02-18 00:00:00</td>\n",
       "      <td>71.0</td>\n",
       "      <td>49.0</td>\n",
       "      <td>44.0</td>\n",
       "      <td>71.0</td>\n",
       "      <td>61.0</td>\n",
       "      <td>44.0</td>\n",
       "      <td>...</td>\n",
       "      <td>0</td>\n",
       "      <td>0</td>\n",
       "      <td>0</td>\n",
       "      <td>0</td>\n",
       "      <td>0</td>\n",
       "      <td>0</td>\n",
       "      <td>1</td>\n",
       "      <td>0</td>\n",
       "      <td>0</td>\n",
       "      <td>0</td>\n",
       "    </tr>\n",
       "    <tr>\n",
       "      <th>1</th>\n",
       "      <td>2</td>\n",
       "      <td>218353</td>\n",
       "      <td>505942</td>\n",
       "      <td>2015-11-19 00:00:00</td>\n",
       "      <td>71.0</td>\n",
       "      <td>49.0</td>\n",
       "      <td>44.0</td>\n",
       "      <td>71.0</td>\n",
       "      <td>61.0</td>\n",
       "      <td>44.0</td>\n",
       "      <td>...</td>\n",
       "      <td>0</td>\n",
       "      <td>0</td>\n",
       "      <td>0</td>\n",
       "      <td>0</td>\n",
       "      <td>0</td>\n",
       "      <td>0</td>\n",
       "      <td>1</td>\n",
       "      <td>0</td>\n",
       "      <td>0</td>\n",
       "      <td>0</td>\n",
       "    </tr>\n",
       "    <tr>\n",
       "      <th>2</th>\n",
       "      <td>3</td>\n",
       "      <td>218353</td>\n",
       "      <td>505942</td>\n",
       "      <td>2015-09-21 00:00:00</td>\n",
       "      <td>66.0</td>\n",
       "      <td>49.0</td>\n",
       "      <td>44.0</td>\n",
       "      <td>71.0</td>\n",
       "      <td>61.0</td>\n",
       "      <td>44.0</td>\n",
       "      <td>...</td>\n",
       "      <td>0</td>\n",
       "      <td>0</td>\n",
       "      <td>0</td>\n",
       "      <td>0</td>\n",
       "      <td>0</td>\n",
       "      <td>0</td>\n",
       "      <td>1</td>\n",
       "      <td>0</td>\n",
       "      <td>0</td>\n",
       "      <td>0</td>\n",
       "    </tr>\n",
       "    <tr>\n",
       "      <th>3</th>\n",
       "      <td>4</td>\n",
       "      <td>218353</td>\n",
       "      <td>505942</td>\n",
       "      <td>2015-03-20 00:00:00</td>\n",
       "      <td>65.0</td>\n",
       "      <td>48.0</td>\n",
       "      <td>43.0</td>\n",
       "      <td>70.0</td>\n",
       "      <td>60.0</td>\n",
       "      <td>43.0</td>\n",
       "      <td>...</td>\n",
       "      <td>0</td>\n",
       "      <td>0</td>\n",
       "      <td>0</td>\n",
       "      <td>0</td>\n",
       "      <td>0</td>\n",
       "      <td>0</td>\n",
       "      <td>1</td>\n",
       "      <td>0</td>\n",
       "      <td>0</td>\n",
       "      <td>0</td>\n",
       "    </tr>\n",
       "    <tr>\n",
       "      <th>4</th>\n",
       "      <td>5</td>\n",
       "      <td>218353</td>\n",
       "      <td>505942</td>\n",
       "      <td>2007-02-22 00:00:00</td>\n",
       "      <td>65.0</td>\n",
       "      <td>48.0</td>\n",
       "      <td>43.0</td>\n",
       "      <td>70.0</td>\n",
       "      <td>60.0</td>\n",
       "      <td>43.0</td>\n",
       "      <td>...</td>\n",
       "      <td>0</td>\n",
       "      <td>0</td>\n",
       "      <td>0</td>\n",
       "      <td>0</td>\n",
       "      <td>0</td>\n",
       "      <td>0</td>\n",
       "      <td>1</td>\n",
       "      <td>0</td>\n",
       "      <td>0</td>\n",
       "      <td>0</td>\n",
       "    </tr>\n",
       "  </tbody>\n",
       "</table>\n",
       "<p>5 rows × 67 columns</p>\n",
       "</div>"
      ],
      "text/plain": [
       "   id  player_fifa_api_id  player_api_id                 date  potential  \\\n",
       "0   1              218353         505942  2016-02-18 00:00:00       71.0   \n",
       "1   2              218353         505942  2015-11-19 00:00:00       71.0   \n",
       "2   3              218353         505942  2015-09-21 00:00:00       66.0   \n",
       "3   4              218353         505942  2015-03-20 00:00:00       65.0   \n",
       "4   5              218353         505942  2007-02-22 00:00:00       65.0   \n",
       "\n",
       "   crossing  finishing  heading_accuracy  short_passing  volleys  ...  \\\n",
       "0      49.0       44.0              71.0           61.0     44.0  ...   \n",
       "1      49.0       44.0              71.0           61.0     44.0  ...   \n",
       "2      49.0       44.0              71.0           61.0     44.0  ...   \n",
       "3      48.0       43.0              70.0           60.0     43.0  ...   \n",
       "4      48.0       43.0              70.0           60.0     43.0  ...   \n",
       "\n",
       "   defensive_work_rate_9  defensive_work_rate__0  defensive_work_rate_ean  \\\n",
       "0                      0                       0                        0   \n",
       "1                      0                       0                        0   \n",
       "2                      0                       0                        0   \n",
       "3                      0                       0                        0   \n",
       "4                      0                       0                        0   \n",
       "\n",
       "   defensive_work_rate_es  defensive_work_rate_high  defensive_work_rate_low  \\\n",
       "0                       0                         0                        0   \n",
       "1                       0                         0                        0   \n",
       "2                       0                         0                        0   \n",
       "3                       0                         0                        0   \n",
       "4                       0                         0                        0   \n",
       "\n",
       "   defensive_work_rate_medium  defensive_work_rate_o  \\\n",
       "0                           1                      0   \n",
       "1                           1                      0   \n",
       "2                           1                      0   \n",
       "3                           1                      0   \n",
       "4                           1                      0   \n",
       "\n",
       "   defensive_work_rate_ormal  defensive_work_rate_tocky  \n",
       "0                          0                          0  \n",
       "1                          0                          0  \n",
       "2                          0                          0  \n",
       "3                          0                          0  \n",
       "4                          0                          0  \n",
       "\n",
       "[5 rows x 67 columns]"
      ]
     },
     "execution_count": 15,
     "metadata": {},
     "output_type": "execute_result"
    }
   ],
   "source": [
    "dummy_df = pd.get_dummies(df, columns=['preferred_foot', 'attacking_work_rate', 'defensive_work_rate'])\n",
    "dummy_df.head()"
   ]
  },
  {
   "cell_type": "code",
   "execution_count": 16,
   "id": "a2474137",
   "metadata": {},
   "outputs": [],
   "source": [
    "X = dummy_df.drop(['id', 'date'], axis=1)"
   ]
  },
  {
   "cell_type": "code",
   "execution_count": 17,
   "id": "76a4914e",
   "metadata": {},
   "outputs": [],
   "source": [
    "X_train, X_test, y_train, y_test = train_test_split(X, y, test_size=0.25, random_state=42)"
   ]
  },
  {
   "cell_type": "code",
   "execution_count": 18,
   "id": "29feed36",
   "metadata": {},
   "outputs": [],
   "source": [
    "imputer = SimpleImputer(missing_values=np.nan, strategy='mean')\n",
    "X_train = imputer.fit_transform(X_train)\n",
    "X_test = imputer.fit_transform(X_test)"
   ]
  },
  {
   "cell_type": "code",
   "execution_count": 19,
   "id": "3c545977",
   "metadata": {},
   "outputs": [
    {
     "name": "stdout",
     "output_type": "stream",
     "text": [
      "[0.0112063  0.01328359 0.16840546 0.01479726 0.00693286 0.02923344\n",
      " 0.02684482 0.00141261 0.01633997 0.00142012 0.00089428 0.00336454\n",
      " 0.05596948 0.00311885 0.00745351 0.00146221 0.3133247  0.00111532\n",
      " 0.02715905 0.00230193 0.00448559 0.02142001 0.00503636 0.0047115\n",
      " 0.01690763 0.01669931 0.00246637 0.00140508 0.02284729 0.05204851\n",
      " 0.00592539 0.02880221 0.02403816 0.00703669 0.03812633 0.022119\n",
      " 0.00037242 0.         0.00078061 0.00141978 0.00046924 0.00049927\n",
      " 0.0007586  0.00086996 0.00040868 0.00098631 0.         0.\n",
      " 0.         0.00204254 0.00125616 0.         0.00173628 0.\n",
      " 0.0006331  0.         0.00087684 0.         0.         0.00092218\n",
      " 0.00059731 0.00364412 0.00161083 0.         0.        ]\n"
     ]
    }
   ],
   "source": [
    "model = XGBRegressor()\n",
    "model.fit(X_train, y_train)\n",
    "print(model.feature_importances_)"
   ]
  },
  {
   "cell_type": "code",
   "execution_count": 20,
   "id": "fbb10d51",
   "metadata": {},
   "outputs": [
    {
     "data": {
      "text/plain": [
       "(137983, 19)"
      ]
     },
     "execution_count": 20,
     "metadata": {},
     "output_type": "execute_result"
    }
   ],
   "source": [
    "selection = SelectFromModel(model, threshold=0.01, prefit=True)\n",
    "\n",
    "select_X_train = selection.transform(X_train)\n",
    "select_X_test = selection.transform(X_test)\n",
    "select_X_train.shape"
   ]
  },
  {
   "cell_type": "code",
   "execution_count": 21,
   "id": "9c41d4fc",
   "metadata": {},
   "outputs": [
    {
     "data": {
      "text/plain": [
       "array([[ 1.0567811 ,  2.90118168, -0.37370531, ..., -0.69862488,\n",
       "        -0.31949444, -0.49199125],\n",
       "       [ 0.83239093,  1.11023832, -0.67788964, ..., -0.25617622,\n",
       "        -0.25716519, -0.55033053],\n",
       "       [ 0.17077907,  1.07420333,  0.38675551, ..., -0.12976231,\n",
       "        -0.19483593, -0.55033053],\n",
       "       ...,\n",
       "       [-2.07758255, -0.8212941 ,  1.2993085 , ...,  0.31268635,\n",
       "         0.30379811,  0.26641949],\n",
       "       [ 0.44157109, -0.11639067,  0.99512417, ...,  0.37589331,\n",
       "         0.36612736,  0.32475878],\n",
       "       [ 0.22002412, -0.64891505,  1.755585  , ..., -0.69862488,\n",
       "        -0.50648221, -0.2586341 ]])"
      ]
     },
     "execution_count": 21,
     "metadata": {},
     "output_type": "execute_result"
    }
   ],
   "source": [
    "scalar = StandardScaler()\n",
    "x_scaled_train = scalar.fit_transform(select_X_train)\n",
    "x_scaled_train"
   ]
  },
  {
   "cell_type": "code",
   "execution_count": 22,
   "id": "02bef768",
   "metadata": {},
   "outputs": [
    {
     "data": {
      "text/plain": [
       "array([[ 0.5825465 ,  0.37577743,  1.14364038, ..., -0.69951284,\n",
       "        -0.19548251, -0.08516627],\n",
       "       [ 0.7131656 ,  0.14588373, -0.22328168, ..., -0.63646818,\n",
       "        -0.19548251, -0.2013609 ],\n",
       "       [ 0.2307514 , -0.78242149, -0.52704214, ..., -0.51037885,\n",
       "        -0.00935998, -0.37565285],\n",
       "       ...,\n",
       "       [ 0.7233016 ,  0.76992259,  0.83987993, ..., -0.13211088,\n",
       "        -0.13344167, -0.2013609 ],\n",
       "       [ 0.71524098,  1.61776501,  0.6879997 , ..., -0.25820021,\n",
       "        -0.50568674, -0.31755554],\n",
       "       [ 0.90691696,  2.24229255, -1.74208398, ..., -0.25820021,\n",
       "        -0.38160505, -0.31755554]])"
      ]
     },
     "execution_count": 22,
     "metadata": {},
     "output_type": "execute_result"
    }
   ],
   "source": [
    "x_scaled_test = scalar.fit_transform(select_X_test)\n",
    "x_scaled_test"
   ]
  },
  {
   "cell_type": "code",
   "execution_count": 23,
   "id": "af59abcf",
   "metadata": {},
   "outputs": [
    {
     "data": {
      "text/plain": [
       "0.848719468089193"
      ]
     },
     "execution_count": 23,
     "metadata": {},
     "output_type": "execute_result"
    }
   ],
   "source": [
    "# Linear Regression :\n",
    "linear_reg = LinearRegression()\n",
    "linear_reg.fit(x_scaled_train, y_train)\n",
    "LinearRegression(copy_X=True, fit_intercept=True, n_jobs=None, normalize=False)\n",
    "linear_reg.score(x_scaled_test, y_test)"
   ]
  },
  {
   "cell_type": "code",
   "execution_count": 24,
   "id": "8c18a14c",
   "metadata": {},
   "outputs": [],
   "source": [
    "cv = ShuffleSplit(random_state=0)   #defining type of cross_validation(shuffle spliting)\n",
    "\n",
    "param_grid = {'n_jobs': [-1]}     #parameters for model tunning\n",
    "\n",
    "grid = GridSearchCV(linear_reg, param_grid=param_grid, cv=cv)"
   ]
  },
  {
   "cell_type": "code",
   "execution_count": 25,
   "id": "ef06f5be",
   "metadata": {},
   "outputs": [
    {
     "data": {
      "text/plain": [
       "GridSearchCV(cv=ShuffleSplit(n_splits=10, random_state=0, test_size=None, train_size=None),\n",
       "             estimator=LinearRegression(), param_grid={'n_jobs': [-1]})"
      ]
     },
     "execution_count": 25,
     "metadata": {},
     "output_type": "execute_result"
    }
   ],
   "source": [
    "grid.fit(select_X_train, y_train) "
   ]
  },
  {
   "cell_type": "code",
   "execution_count": 26,
   "id": "0925e2a0",
   "metadata": {},
   "outputs": [
    {
     "data": {
      "text/plain": [
       "{'n_jobs': -1}"
      ]
     },
     "execution_count": 26,
     "metadata": {},
     "output_type": "execute_result"
    }
   ],
   "source": [
    "grid.best_params_"
   ]
  },
  {
   "cell_type": "code",
   "execution_count": 27,
   "id": "33dc0441",
   "metadata": {},
   "outputs": [
    {
     "data": {
      "text/plain": [
       "LinearRegression(n_jobs=-1)"
      ]
     },
     "execution_count": 27,
     "metadata": {},
     "output_type": "execute_result"
    }
   ],
   "source": [
    "grid.best_estimator_"
   ]
  },
  {
   "cell_type": "code",
   "execution_count": 28,
   "id": "baf6b767",
   "metadata": {},
   "outputs": [
    {
     "data": {
      "text/plain": [
       "LinearRegression(n_jobs=-1)"
      ]
     },
     "execution_count": 28,
     "metadata": {},
     "output_type": "execute_result"
    }
   ],
   "source": [
    "new_linear_reg = LinearRegression(copy_X=True, fit_intercept=True, n_jobs=-1, normalize=False)\n",
    "new_linear_reg.fit(x_scaled_train, y_train)"
   ]
  },
  {
   "cell_type": "code",
   "execution_count": 29,
   "id": "f6e6ecb1",
   "metadata": {},
   "outputs": [
    {
     "data": {
      "text/plain": [
       "0.848719468089193"
      ]
     },
     "execution_count": 29,
     "metadata": {},
     "output_type": "execute_result"
    }
   ],
   "source": [
    "new_linear_reg.score(x_scaled_test, y_test)"
   ]
  },
  {
   "cell_type": "code",
   "execution_count": 30,
   "id": "b9c7163a",
   "metadata": {},
   "outputs": [
    {
     "data": {
      "text/plain": [
       "DecisionTreeRegressor(random_state=0)"
      ]
     },
     "execution_count": 30,
     "metadata": {},
     "output_type": "execute_result"
    }
   ],
   "source": [
    "# Decision Tree\n",
    "decision_tree = DecisionTreeRegressor(criterion='mse', random_state=0)         #estimator\n",
    "decision_tree.fit(x_scaled_train, y_train)"
   ]
  },
  {
   "cell_type": "code",
   "execution_count": 31,
   "id": "b8caa9cf",
   "metadata": {},
   "outputs": [],
   "source": [
    "cv = ShuffleSplit(n_splits=10, random_state=42)        #cross validation\n",
    "\n",
    "param_grid = {'max_depth': [3, 5, 7, 9, 13],\n",
    "             'criterion': ['mse', 'friedman_mse']}\n",
    "\n",
    "grid = GridSearchCV(decision_tree, param_grid=param_grid, cv=cv)"
   ]
  },
  {
   "cell_type": "code",
   "execution_count": 32,
   "id": "4f02ddad",
   "metadata": {},
   "outputs": [
    {
     "data": {
      "text/plain": [
       "GridSearchCV(cv=ShuffleSplit(n_splits=10, random_state=42, test_size=None, train_size=None),\n",
       "             estimator=DecisionTreeRegressor(random_state=0),\n",
       "             param_grid={'criterion': ['mse', 'friedman_mse'],\n",
       "                         'max_depth': [3, 5, 7, 9, 13]})"
      ]
     },
     "execution_count": 32,
     "metadata": {},
     "output_type": "execute_result"
    }
   ],
   "source": [
    "grid.fit(select_X_train, y_train)          #training"
   ]
  },
  {
   "cell_type": "code",
   "execution_count": 33,
   "id": "1b98bb67",
   "metadata": {},
   "outputs": [
    {
     "data": {
      "text/plain": [
       "{'criterion': 'friedman_mse', 'max_depth': 13}"
      ]
     },
     "execution_count": 33,
     "metadata": {},
     "output_type": "execute_result"
    }
   ],
   "source": [
    "grid.best_params_"
   ]
  },
  {
   "cell_type": "code",
   "execution_count": 34,
   "id": "465692b9",
   "metadata": {},
   "outputs": [
    {
     "data": {
      "text/plain": [
       "DecisionTreeRegressor(criterion='friedman_mse', max_depth=13, random_state=0)"
      ]
     },
     "execution_count": 34,
     "metadata": {},
     "output_type": "execute_result"
    }
   ],
   "source": [
    "grid.best_estimator_"
   ]
  },
  {
   "cell_type": "code",
   "execution_count": 35,
   "id": "461f17fe",
   "metadata": {},
   "outputs": [
    {
     "data": {
      "text/plain": [
       "DecisionTreeRegressor(criterion='friedman_mse', max_depth=24, random_state=45)"
      ]
     },
     "execution_count": 35,
     "metadata": {},
     "output_type": "execute_result"
    }
   ],
   "source": [
    "new_deci_tree = DecisionTreeRegressor(criterion='friedman_mse', max_depth=24,\n",
    "           max_features=None, max_leaf_nodes=None,\n",
    "           min_impurity_decrease=0.0, min_impurity_split=None,\n",
    "           min_samples_leaf=1, min_samples_split=2,\n",
    "           min_weight_fraction_leaf=0.0, random_state=45,\n",
    "           splitter='best')\n",
    "new_deci_tree.fit(x_scaled_train, y_train)"
   ]
  },
  {
   "cell_type": "code",
   "execution_count": 36,
   "id": "e3aacaea",
   "metadata": {},
   "outputs": [
    {
     "data": {
      "text/plain": [
       "0.9573918653268987"
      ]
     },
     "execution_count": 36,
     "metadata": {},
     "output_type": "execute_result"
    }
   ],
   "source": [
    "new_deci_tree.score(x_scaled_test, y_test)"
   ]
  },
  {
   "cell_type": "code",
   "execution_count": 37,
   "id": "bd077d5c",
   "metadata": {},
   "outputs": [
    {
     "data": {
      "text/plain": [
       "RandomForestRegressor(random_state=123)"
      ]
     },
     "execution_count": 37,
     "metadata": {},
     "output_type": "execute_result"
    }
   ],
   "source": [
    "# Random Forest\n",
    "rand_forest = RandomForestRegressor(random_state=123)\n",
    "rand_forest.fit(x_scaled_train, y_train)"
   ]
  },
  {
   "cell_type": "code",
   "execution_count": 38,
   "id": "6a5bc49a",
   "metadata": {},
   "outputs": [
    {
     "data": {
      "text/plain": [
       "0.9797116517014308"
      ]
     },
     "execution_count": 38,
     "metadata": {},
     "output_type": "execute_result"
    }
   ],
   "source": [
    "rand_forest.score(x_scaled_test, y_test)"
   ]
  },
  {
   "cell_type": "code",
   "execution_count": 39,
   "id": "c4d91bf4",
   "metadata": {},
   "outputs": [],
   "source": [
    "cv = ShuffleSplit(test_size=0.2, random_state=0)\n",
    "\n",
    "param_grid = {'max_features':['sqrt', 'log2', 10],\n",
    "              'max_depth':[9, 11, 13]}                 \n",
    "\n",
    "grid = GridSearchCV(rand_forest, param_grid=param_grid, cv=cv)"
   ]
  },
  {
   "cell_type": "code",
   "execution_count": 40,
   "id": "382aa865",
   "metadata": {},
   "outputs": [
    {
     "data": {
      "text/plain": [
       "GridSearchCV(cv=ShuffleSplit(n_splits=10, random_state=0, test_size=0.2, train_size=None),\n",
       "             estimator=RandomForestRegressor(random_state=123),\n",
       "             param_grid={'max_depth': [9, 11, 13],\n",
       "                         'max_features': ['sqrt', 'log2', 10]})"
      ]
     },
     "execution_count": 40,
     "metadata": {},
     "output_type": "execute_result"
    }
   ],
   "source": [
    "grid.fit(x_scaled_train, y_train)"
   ]
  },
  {
   "cell_type": "code",
   "execution_count": 41,
   "id": "eed85e95",
   "metadata": {},
   "outputs": [
    {
     "data": {
      "text/plain": [
       "RandomForestRegressor(max_depth=13, max_features=10, random_state=123)"
      ]
     },
     "execution_count": 41,
     "metadata": {},
     "output_type": "execute_result"
    }
   ],
   "source": [
    "grid.best_estimator_"
   ]
  },
  {
   "cell_type": "code",
   "execution_count": 42,
   "id": "89c052a0",
   "metadata": {},
   "outputs": [
    {
     "data": {
      "text/plain": [
       "RandomForestRegressor(max_depth=33, max_features=10, n_estimators=10, n_jobs=1,\n",
       "                      random_state=42)"
      ]
     },
     "execution_count": 42,
     "metadata": {},
     "output_type": "execute_result"
    }
   ],
   "source": [
    "new_rand_forest = RandomForestRegressor(bootstrap=True, criterion='mse', max_depth=33,\n",
    "           max_features=10, max_leaf_nodes=None, min_impurity_decrease=0.0,\n",
    "           min_impurity_split=None, min_samples_leaf=1,\n",
    "           min_samples_split=2, min_weight_fraction_leaf=0.0,\n",
    "           n_estimators=10, n_jobs=1, oob_score=False, random_state=42,\n",
    "           verbose=0, warm_start=False)\n",
    "new_rand_forest.fit(x_scaled_train, y_train)"
   ]
  },
  {
   "cell_type": "code",
   "execution_count": 43,
   "id": "08f7b39e",
   "metadata": {},
   "outputs": [
    {
     "data": {
      "text/plain": [
       "0.9787384737336855"
      ]
     },
     "execution_count": 43,
     "metadata": {},
     "output_type": "execute_result"
    }
   ],
   "source": [
    "new_rand_forest.score(x_scaled_test, y_test)"
   ]
  },
  {
   "cell_type": "code",
   "execution_count": 44,
   "id": "6170b071",
   "metadata": {},
   "outputs": [
    {
     "data": {
      "text/plain": [
       "XGBRegressor(base_score=0.5, booster='gbtree', colsample_bylevel=1,\n",
       "             colsample_bynode=1, colsample_bytree=1, gamma=0, gpu_id=-1,\n",
       "             importance_type='gain', interaction_constraints='',\n",
       "             learning_rate=0.300000012, max_delta_step=0, max_depth=6,\n",
       "             min_child_weight=1, missing=nan, monotone_constraints='()',\n",
       "             n_estimators=100, n_jobs=16, num_parallel_tree=1, random_state=42,\n",
       "             reg_alpha=0, reg_lambda=1, scale_pos_weight=1, subsample=1,\n",
       "             tree_method='exact', validate_parameters=1, verbosity=None)"
      ]
     },
     "execution_count": 44,
     "metadata": {},
     "output_type": "execute_result"
    }
   ],
   "source": [
    "# XGBoost Regressor\n",
    "xgr = XGBRegressor(random_state=42)\n",
    "xgr.fit(x_scaled_train, y_train)"
   ]
  },
  {
   "cell_type": "code",
   "execution_count": 45,
   "id": "d1e33e89",
   "metadata": {},
   "outputs": [
    {
     "data": {
      "text/plain": [
       "0.9612268302162874"
      ]
     },
     "execution_count": 45,
     "metadata": {},
     "output_type": "execute_result"
    }
   ],
   "source": [
    "xgr.score(x_scaled_test, y_test)"
   ]
  },
  {
   "cell_type": "code",
   "execution_count": 46,
   "id": "3a3ca541",
   "metadata": {},
   "outputs": [],
   "source": [
    "cv = ShuffleSplit(n_splits=10, random_state=0)\n",
    "\n",
    "param_grid = {'max_depth': [5, 7],\n",
    "              'learning_rate': [0.1, 0.3]}\n",
    "\n",
    "grid = GridSearchCV(xgr, param_grid=param_grid, cv=cv, n_jobs= -1)"
   ]
  },
  {
   "cell_type": "code",
   "execution_count": 47,
   "id": "fc120aed",
   "metadata": {},
   "outputs": [
    {
     "data": {
      "text/plain": [
       "GridSearchCV(cv=ShuffleSplit(n_splits=10, random_state=0, test_size=None, train_size=None),\n",
       "             estimator=XGBRegressor(base_score=0.5, booster='gbtree',\n",
       "                                    colsample_bylevel=1, colsample_bynode=1,\n",
       "                                    colsample_bytree=1, gamma=0, gpu_id=-1,\n",
       "                                    importance_type='gain',\n",
       "                                    interaction_constraints='',\n",
       "                                    learning_rate=0.300000012, max_delta_step=0,\n",
       "                                    max_depth=6, min_child_weight=1,\n",
       "                                    missing=nan, monotone_constraints='()',\n",
       "                                    n_estimators=100, n_jobs=16,\n",
       "                                    num_parallel_tree=1, random_state=42,\n",
       "                                    reg_alpha=0, reg_lambda=1,\n",
       "                                    scale_pos_weight=1, subsample=1,\n",
       "                                    tree_method='exact', validate_parameters=1,\n",
       "                                    verbosity=None),\n",
       "             n_jobs=-1,\n",
       "             param_grid={'learning_rate': [0.1, 0.3], 'max_depth': [5, 7]})"
      ]
     },
     "execution_count": 47,
     "metadata": {},
     "output_type": "execute_result"
    }
   ],
   "source": [
    "grid.fit(x_scaled_train, y_train)"
   ]
  },
  {
   "cell_type": "code",
   "execution_count": 48,
   "id": "1421ceaf",
   "metadata": {},
   "outputs": [
    {
     "data": {
      "text/plain": [
       "XGBRegressor(base_score=0.5, booster='gbtree', colsample_bylevel=1,\n",
       "             colsample_bynode=1, colsample_bytree=1, gamma=0, gpu_id=-1,\n",
       "             importance_type='gain', interaction_constraints='',\n",
       "             learning_rate=0.3, max_delta_step=0, max_depth=7,\n",
       "             min_child_weight=1, missing=nan, monotone_constraints='()',\n",
       "             n_estimators=100, n_jobs=16, num_parallel_tree=1, random_state=42,\n",
       "             reg_alpha=0, reg_lambda=1, scale_pos_weight=1, subsample=1,\n",
       "             tree_method='exact', validate_parameters=1, verbosity=None)"
      ]
     },
     "execution_count": 48,
     "metadata": {},
     "output_type": "execute_result"
    }
   ],
   "source": [
    "grid.best_estimator_"
   ]
  },
  {
   "cell_type": "code",
   "execution_count": 49,
   "id": "54e1025d",
   "metadata": {},
   "outputs": [
    {
     "data": {
      "text/plain": [
       "XGBRegressor(base_score=0.5, booster='gbtree', colsample_bylevel=1,\n",
       "             colsample_bynode=1, colsample_bytree=1, gamma=0, gpu_id=-1,\n",
       "             importance_type='gain', interaction_constraints='',\n",
       "             learning_rate=0.3, max_delta_step=0, max_depth=7,\n",
       "             min_child_weight=1, missing=1, monotone_constraints='()',\n",
       "             n_estimators=100, n_jobs=1, nthread=1, num_parallel_tree=1,\n",
       "             random_state=42, reg_alpha=0, reg_lambda=1, scale_pos_weight=1,\n",
       "             seed=42, silent=None, subsample=1, tree_method='exact',\n",
       "             validate_parameters=1, verbosity=1)"
      ]
     },
     "execution_count": 49,
     "metadata": {},
     "output_type": "execute_result"
    }
   ],
   "source": [
    "new_xgr = XGBRegressor(base_score=0.5, booster='gbtree', colsample_bylevel=1,\n",
    "             colsample_bynode=1, colsample_bytree=1, gamma=0,\n",
    "             importance_type='gain', learning_rate=0.3, max_delta_step=0,\n",
    "             max_depth=7, min_child_weight=1, missing=1, n_estimators=100,\n",
    "             n_jobs=1, nthread=None, objective='reg:squarederror', random_state=42,\n",
    "             reg_alpha=0, reg_lambda=1, scale_pos_weight=1, seed=None,\n",
    "             silent=None, subsample=1, verbosity=1)\n",
    "new_xgr.fit(x_scaled_train, y_train)"
   ]
  },
  {
   "cell_type": "code",
   "execution_count": 50,
   "id": "66440e95",
   "metadata": {},
   "outputs": [
    {
     "data": {
      "text/plain": [
       "0.9652303415162796"
      ]
     },
     "execution_count": 50,
     "metadata": {},
     "output_type": "execute_result"
    }
   ],
   "source": [
    "new_xgr.score(x_scaled_test, y_test)"
   ]
  },
  {
   "cell_type": "code",
   "execution_count": 51,
   "id": "a4416c49",
   "metadata": {},
   "outputs": [
    {
     "name": "stdout",
     "output_type": "stream",
     "text": [
      "Linear Regressor accuracy is 0.848719468089193\n",
      "DecisionTree Regressor accuracy is 0.9573918653268987\n",
      "RandomForest regressor accuracy is 0.9787384737336855\n",
      "XGBoost regressor accuracy is 0.9652303415162796\n"
     ]
    }
   ],
   "source": [
    "print(\"\"\"Linear Regressor accuracy is {lin}\n",
    "DecisionTree Regressor accuracy is {Dec}\n",
    "RandomForest regressor accuracy is {ran}\n",
    "XGBoost regressor accuracy is {xgb}\"\"\".format(lin=new_linear_reg.score(x_scaled_test, y_test),\n",
    "                                                       Dec=new_deci_tree.score(x_scaled_test, y_test),\n",
    "                                                       ran=new_rand_forest.score(x_scaled_test, y_test),\n",
    "                                                       xgb=new_xgr.score(x_scaled_test, y_test)))"
   ]
  },
  {
   "cell_type": "markdown",
   "id": "51b98337",
   "metadata": {},
   "source": [
    "By accuracy comparision performed above we can say hear that Random Forest regressor gives better result than any other model. and it can predict the target function with approx 98% accuracy."
   ]
  },
  {
   "cell_type": "code",
   "execution_count": null,
   "id": "f1c8000c",
   "metadata": {},
   "outputs": [],
   "source": []
  }
 ],
 "metadata": {
  "kernelspec": {
   "display_name": "Python 3",
   "language": "python",
   "name": "python3"
  },
  "language_info": {
   "codemirror_mode": {
    "name": "ipython",
    "version": 3
   },
   "file_extension": ".py",
   "mimetype": "text/x-python",
   "name": "python",
   "nbconvert_exporter": "python",
   "pygments_lexer": "ipython3",
   "version": "3.8.10"
  }
 },
 "nbformat": 4,
 "nbformat_minor": 5
}
