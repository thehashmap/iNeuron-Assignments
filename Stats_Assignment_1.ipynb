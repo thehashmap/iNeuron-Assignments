{
 "cells": [
  {
   "cell_type": "code",
   "execution_count": 11,
   "metadata": {},
   "outputs": [],
   "source": [
    "import numpy as np\n",
    "import pandas as pd\n",
    "from scipy import stats\n",
    "import warnings\n",
    "warnings.filterwarnings('ignore')"
   ]
  },
  {
   "cell_type": "markdown",
   "metadata": {},
   "source": [
    "Calculate the mean, median, mode and standard deviation for the problem\n",
    "statements 1& 2.\n",
    "Problem Statement 1:\n",
    "The marks awarded for an assignment set for a Year 8 class of 20 students were as\n",
    "follows:\n",
    "6 7 5 7 7 8 7 6 9 7 4 10 6 8 8 9 5 6 4 8"
   ]
  },
  {
   "cell_type": "code",
   "execution_count": 12,
   "metadata": {},
   "outputs": [
    {
     "name": "stdout",
     "output_type": "stream",
     "text": [
      "Mean: 6.85\n",
      "Median: 7.0\n",
      "Mode: ModeResult(mode=array([7]), count=array([5]))\n",
      "Std deviation: 1.5898113095584647\n"
     ]
    }
   ],
   "source": [
    "marks = [6, 7, 5, 7, 7, 8 ,7, 6, 9, 7, 4, 10, 6, 8, 8, 9, 5, 6, 4, 8]\n",
    "print(\"Mean:\",np.mean(marks))\n",
    "print(\"Median:\",np.median(marks))\n",
    "print(\"Mode:\",stats.mode(marks))\n",
    "print(\"Std deviation:\",np.std(marks))"
   ]
  },
  {
   "cell_type": "markdown",
   "metadata": {},
   "source": [
    "Problem Statement 2:\n",
    "The number of calls from motorists per day for roadside service was recorded for a\n",
    "particular month:\n",
    "28, 122, 217, 130, 120, 86, 80, 90, 140, 120, 70, 40, 145, 113, 90, 68, 174, 194, 170,\n",
    "100, 75, 104, 97, 75,\n",
    "123, 100, 75, 104, 97, 75, 123, 100, 89, 120, 109"
   ]
  },
  {
   "cell_type": "code",
   "execution_count": 13,
   "metadata": {},
   "outputs": [
    {
     "name": "stdout",
     "output_type": "stream",
     "text": [
      "Mean: 107.51428571428572\n",
      "Median: 100.0\n",
      "Mode: ModeResult(mode=array([75]), count=array([4]))\n",
      "Std deviation: 38.77287080168403\n"
     ]
    }
   ],
   "source": [
    "calls = [28, 122, 217, 130, 120, 86, 80, 90, 140, 120, 70, 40, 145, 113, 90, 68, 174, 194, 170, 100, 75, 104, 97, 75, 123, 100, 75, 104, 97, 75, 123, 100, 89, 120, 109]\n",
    "print(\"Mean:\",np.mean(calls))\n",
    "print(\"Median:\",np.median(calls))\n",
    "print(\"Mode:\",stats.mode(calls))\n",
    "print(\"Std deviation:\",np.std(calls))"
   ]
  },
  {
   "cell_type": "markdown",
   "metadata": {},
   "source": [
    "Problem Statement 3:\n",
    "The number of times I go to the gym in weekdays, are given below along with its\n",
    "associated probability:\n",
    "x = 0, 1, 2, 3, 4, 5\n",
    "f(x) = 0.09, 0.15, 0.40, 0.25, 0.10, 0.01\n",
    "Calculate the mean no. of workouts in a week. Also evaluate the variance involved in\n",
    "it."
   ]
  },
  {
   "cell_type": "code",
   "execution_count": 14,
   "metadata": {},
   "outputs": [
    {
     "name": "stdout",
     "output_type": "stream",
     "text": [
      "Mean no. of workouts in a week: 2.15\n",
      "Variance: 1.2275\n"
     ]
    }
   ],
   "source": [
    "x = [0, 1, 2, 3, 4, 5]\n",
    "f = [0.09, 0.15, 0.40, 0.25, 0.10, 0.01]\n",
    "workouts = [x[i] * f[i] for i in range(len(x))]\n",
    "mean_workouts = sum(workouts)\n",
    "print(\"Mean no. of workouts in a week:\",mean_workouts)\n",
    "var = sum([((x[i]-mean_workouts)**2)*f[i] for i in range(len(x))])\n",
    "print(\"Variance:\",var)"
   ]
  },
  {
   "cell_type": "markdown",
   "metadata": {},
   "source": [
    "Problem Statement 4:\n",
    "Let the continuous random variable D denote the diameter of the hole drilled in an\n",
    "aluminum sheet. The target diameter to be achieved is 12.5mm. Random\n",
    "disturbances in the process often result in inaccuracy.\n",
    "Historical data shows that the distribution of D can be modelled by the PDF (𝑑) =\n",
    "20𝑒−20(𝑑−12.5), 𝑑 ≥ 12.5. If a part with diameter > 12.6 mm needs to be scrapped,\n",
    "what is the proportion of those parts? What is the CDF when the diameter is of 11\n",
    "mm? What is your conclusion regarding the proportion of scraps?"
   ]
  },
  {
   "cell_type": "code",
   "execution_count": 15,
   "metadata": {},
   "outputs": [
    {
     "name": "stdout",
     "output_type": "stream",
     "text": [
      "Proportion of Parts need to scrapped when d >12.6mm is :0.13533528323661398\n",
      "CDF when d= 11mm is:nan\n",
      "Proportion of CDF when d>12.5mm is : 1.0000000000000024\n"
     ]
    }
   ],
   "source": [
    "from scipy import integrate\n",
    "#PDF (𝑑) = 20𝑒−20(𝑑−12.5)\n",
    "#𝑑 ≥ 12.5\n",
    "PDF=lambda d:20*(np.exp((-20*(d-12.5))))\n",
    "x = 12.6\n",
    "P_x=integrate.quad(PDF,12.6,np.inf)\n",
    "y = 11\n",
    "CDF=integrate.quad(PDF,-np.inf,y)\n",
    "print(f\"Proportion of Parts need to scrapped when d >12.6mm is :{P_x[0]}\")\n",
    "print(f\"CDF when d= 11mm is:{CDF[0]}\")\n",
    "print(f\"Proportion of CDF when d>12.5mm is : {integrate.quad(PDF,12.5,np.inf)[0]}\")\n"
   ]
  },
  {
   "cell_type": "markdown",
   "metadata": {},
   "source": [
    "It can be concluded that the function is only valid when d>=12.5. When d<12.5, the part can be reworked to 12.5 so no scrap in this case. PDF is not defined for d=11."
   ]
  },
  {
   "cell_type": "markdown",
   "metadata": {},
   "source": [
    "Problem Statement 5:\n",
    "A company manufactures LED bulbs with a faulty rate of 30%. If I randomly select 6\n",
    "chosen LEDs, what is the probability of having 2 faulty LEDs in my sample?\n",
    "Calculate the average value of this process. Also evaluate the standard deviation\n",
    "associated with it."
   ]
  },
  {
   "cell_type": "code",
   "execution_count": 16,
   "metadata": {},
   "outputs": [
    {
     "name": "stdout",
     "output_type": "stream",
     "text": [
      "Probability will be : 0.32413499999999995\n",
      "mean : 1.7999999999999998\n",
      "std deviation : 1.1224972160321822\n"
     ]
    }
   ],
   "source": [
    "from scipy.stats import binom\n",
    "import matplotlib.pyplot as plt\n",
    "import seaborn as sns\n",
    "import math\n",
    "import pandas.util.testing as tm\n",
    "\n",
    "probab=binom.pmf(k=2,n=6,p=0.3)\n",
    "print(\"Probability will be :\",probab)\n",
    "mean,var=binom.stats(n=6,p=0.3)\n",
    "print(\"mean :\", mean)\n",
    "print(\"std deviation :\",math.sqrt(var))"
   ]
  },
  {
   "cell_type": "markdown",
   "metadata": {},
   "source": [
    "Problem Statement 6:\n",
    "Gaurav and Barakha are both preparing for entrance exams. Gaurav attempts to\n",
    "solve 8 questions per day with a correction rate of 75%, while Barakha averages\n",
    "around 12 questions per day with a correction rate of 45%. What is the probability\n",
    "that each of them will solve 5 questions correctly? What happens in cases of 4 and 6\n",
    "correct solutions? What do you infer from it? What are the two main governing\n",
    "factors affecting their ability to solve questions correctly? Give a pictorial\n",
    "representation of the same to validate your answer."
   ]
  },
  {
   "cell_type": "code",
   "execution_count": 17,
   "metadata": {},
   "outputs": [
    {
     "name": "stdout",
     "output_type": "stream",
     "text": [
      "The probability that Gaurav will solve 5 questions correctly =  0.20764160156250022\n",
      "The probability that Barkha will solve 5 questions correctly =  0.22249823843265792\n",
      "The probability that each of them will solve 5 questions correctly =  0.43013983999515815\n",
      "The probability that Gaurav will solve 4 questions correctly =  0.21875000000000014\n",
      "The probability that Barkha will solve 6 questions correctly =  0.19335937499999992\n"
     ]
    }
   ],
   "source": [
    "P1 = binom.pmf(k=5,n=8,p=0.75)\n",
    "P2 = binom.pmf(k=5,n=12,p=0.45)\n",
    "P = P1+P2\n",
    "print(\"The probability that Gaurav will solve 5 questions correctly = \",P1)\n",
    "print(\"The probability that Barkha will solve 5 questions correctly = \",P2)\n",
    "print(\"The probability that each of them will solve 5 questions correctly = \",P)\n",
    "P1new = binom.pmf(k=5,n=8,p=0.5)\n",
    "P2new = binom.pmf(k=5,n=12,p=0.5)\n",
    "Pnew = P1new + P2new\n",
    "print(\"The probability that Gaurav will solve 4 questions correctly = \",P1new)\n",
    "print(\"The probability that Barkha will solve 6 questions correctly = \",P2new)"
   ]
  },
  {
   "cell_type": "code",
   "execution_count": 18,
   "metadata": {},
   "outputs": [
    {
     "data": {
      "image/png": "[encoded data removed]",
      "text/plain": [
       "<Figure size 432x288 with 1 Axes>"
      ]
     },
     "metadata": {
      "needs_background": "light"
     },
     "output_type": "display_data"
    }
   ],
   "source": [
    "n = 8\n",
    "p = 0.75\n",
    "r1 = list(range(n + 1))\n",
    "d = [binom.pmf(r, n, p) for r in r1 ]\n",
    "plt.bar(r1, d)\n",
    "plt.title(\"Gaurav's Binomial Distribution\")\n",
    "plt.show()"
   ]
  },
  {
   "cell_type": "code",
   "execution_count": 19,
   "metadata": {},
   "outputs": [
    {
     "data": {
      "image/png": "[encoded data removed]",
      "text/plain": [
       "<Figure size 432x288 with 1 Axes>"
      ]
     },
     "metadata": {
      "needs_background": "light"
     },
     "output_type": "display_data"
    }
   ],
   "source": [
    "n = 12\n",
    "p = 0.45\n",
    "r2 = list(range(n + 1))\n",
    "dist = [binom.pmf(r, n, p) for r in r2 ] \n",
    "plt.bar(r2, dist)\n",
    "plt.title(\"Barkha's Binomial Distribution\")\n",
    "plt.show()"
   ]
  },
  {
   "cell_type": "markdown",
   "metadata": {},
   "source": [
    "Problem Statement 7:\n",
    "Customers arrive at a rate of 72 per hour to my shop. What is the probability of 𝑘\n",
    "customers arriving in 4 minutes? a) 5 customers, b) not more than 3 customers, c)\n",
    "more than 3 customers. Give a pictorial representation of the same to validate your\n",
    "answer."
   ]
  },
  {
   "cell_type": "code",
   "execution_count": 20,
   "metadata": {},
   "outputs": [
    {
     "name": "stdout",
     "output_type": "stream",
     "text": [
      "The probability of 5 customers arriving in 4 minutes =  0.17474768364388282\n",
      "The probability of not more than 3 customers arriving in 4 minutes =  0.14253921888902693\n",
      "The probability of more than 3 customers arriving in 4 minutes =  0.8574607811109731\n"
     ]
    }
   ],
   "source": [
    "mu = (72/60)*4\n",
    "x_a = 5\n",
    "P_a = math.exp(-mu)*(mu**x_a)/math.factorial(x_a)\n",
    "print(\"The probability of 5 customers arriving in 4 minutes = \",P_a)\n",
    "x_b = 3\n",
    "i = 0\n",
    "P_b =0\n",
    "while(i<x_b):\n",
    "    P_b += math.exp(-mu)*(mu**i)/math.factorial(i)\n",
    "    i +=1\n",
    "print(\"The probability of not more than 3 customers arriving in 4 minutes = \",P_b)\n",
    "P_c = 1 - P_b\n",
    "print(\"The probability of more than 3 customers arriving in 4 minutes = \",P_c)"
   ]
  },
  {
   "cell_type": "code",
   "execution_count": 21,
   "metadata": {},
   "outputs": [
    {
     "data": {
      "text/plain": [
       "<AxesSubplot:ylabel='Density'>"
      ]
     },
     "execution_count": 21,
     "metadata": {},
     "output_type": "execute_result"
    },
    {
     "data": {
      "image/png": "[encoded data removed]",
      "text/plain": [
       "<Figure size 432x288 with 1 Axes>"
      ]
     },
     "metadata": {
      "needs_background": "light"
     },
     "output_type": "display_data"
    }
   ],
   "source": [
    "from scipy.stats import poisson\n",
    "poisson_data=poisson.rvs(mu=4.8,size=1000)\n",
    "sns.distplot(poisson_data,hist=True,kde=True)"
   ]
  },
  {
   "cell_type": "markdown",
   "metadata": {},
   "source": [
    "Problem Statement 8:\n",
    "I work as a data analyst in Aeon Learning Pvt. Ltd. After analyzing data, I make\n",
    "reports, where I have the efficiency of entering 77 words per minute with 6 errors per\n",
    "hour. What is the probability that I will commit 2 errors in a 455-word financial report?\n",
    "What happens when the no. of words increases/decreases (in case of 1000 words,\n",
    "255 words)?\n",
    "How is the 𝜆 affected?\n",
    "How does it influence the PMF?\n",
    "Give a pictorial representation of the same to validate your answer."
   ]
  },
  {
   "cell_type": "code",
   "execution_count": 22,
   "metadata": {},
   "outputs": [
    {
     "name": "stdout",
     "output_type": "stream",
     "text": [
      "mu/lambda in case of 455 words =  0.5909090909090909\n",
      "The probability that I will commit 2 errors in a 455-word financial report 0.09669027375144446\n"
     ]
    }
   ],
   "source": [
    "mu = (6/60)*(455/77)\n",
    "print(\"mu/lambda in case of 455 words = \",mu)\n",
    "x = 2\n",
    "P = math.exp(-mu)*(mu**x)/math.factorial(x)\n",
    "print(\"The probability that I will commit 2 errors in a 455-word financial report\",P)"
   ]
  },
  {
   "cell_type": "code",
   "execution_count": 23,
   "metadata": {},
   "outputs": [
    {
     "name": "stdout",
     "output_type": "stream",
     "text": [
      "mu/lambda in case of 1000 words =  1.2987012987012987\n",
      "The probability that I will commit 2 errors in a 1000-word financial report 0.23012815007300153\n",
      "mu/lambda in case of 255 words =  0.3311688311688312\n",
      "The probability that I will commit 2 errors in a 255-word financial report 0.03937713539285411\n"
     ]
    }
   ],
   "source": [
    "mu_1000 = (6/60)*(1000/77)\n",
    "print(\"mu/lambda in case of 1000 words = \",mu_1000)\n",
    "P_1000 = math.exp(-mu_1000)*(mu_1000**x)/math.factorial(x)\n",
    "print(\"The probability that I will commit 2 errors in a 1000-word financial report\",P_1000)\n",
    "mu_255 = (6/60)*(255/77)\n",
    "print(\"mu/lambda in case of 255 words = \",mu_255)\n",
    "P_255 = math.exp(-mu_255)*(mu_255**x)/math.factorial(x)\n",
    "print(\"The probability that I will commit 2 errors in a 255-word financial report\",P_255)"
   ]
  },
  {
   "cell_type": "code",
   "execution_count": 24,
   "metadata": {},
   "outputs": [
    {
     "data": {
      "text/plain": [
       "[<matplotlib.lines.Line2D at 0x1b54016f880>]"
      ]
     },
     "execution_count": 24,
     "metadata": {},
     "output_type": "execute_result"
    },
    {
     "data": {
      "image/png": "[encoded data removed]",
      "text/plain": [
       "<Figure size 1080x360 with 1 Axes>"
      ]
     },
     "metadata": {
      "needs_background": "light"
     },
     "output_type": "display_data"
    }
   ],
   "source": [
    "from scipy.stats import poisson\n",
    "unit_mu=0.1/77\n",
    "def mu(n):\n",
    "    return n * unit_mu\n",
    "x=range(100,1000,50)\n",
    "mu=[i*unit_mu for i in x]\n",
    "fig,ax = plt.subplots(1,1,figsize=(15,5))\n",
    "ax.plot(x,poisson.pmf(2,mu), ms=8, label='poisson pmf')\n",
    "#ax.vlines(x,0, poisson.pmf(2,mu), colors='b', lw=5, alpha=0.5)"
   ]
  },
  {
   "cell_type": "markdown",
   "metadata": {},
   "source": [
    "We can observe that as probability of errors increases with increase in no. of words and decreases with decrease in no. of words . The same behaviour is  obsereved with lambda i.e. it varies directly proportional to change in no. of words."
   ]
  },
  {
   "cell_type": "markdown",
   "metadata": {},
   "source": [
    "Problem Statement 9:\n",
    "Let the continuous random variable D denote the diameter of the hole drilled in an\n",
    "aluminum sheet. The target diameter to be achieved is 12.5mm. Random\n",
    "disturbances in the process often result in inaccuracy.\n",
    "Historical data shows that the distribution of D can be modelled by the PDF, f(d) =\n",
    "20e−20(d−12.5), d ≥ 12.5. If a part with diameter > 12.6 mm needs to be scrapped,\n",
    "what is the proportion of those parts? What is the CDF when the diameter is of 11\n",
    "mm?\n",
    "What is the conclusion of this experiment?"
   ]
  },
  {
   "cell_type": "markdown",
   "metadata": {},
   "source": [
    "Answer : Same as Problem 4"
   ]
  },
  {
   "cell_type": "markdown",
   "metadata": {},
   "source": [
    "Problem Statement 10:\n",
    "Please compute the following:\n",
    "a) P(Z > 1.26), . P(Z < −0.86), P(Z > −1.37), P(−1.25 < Z < 0.37), . P(Z ≤ −4.6)\n",
    "b) Find the value 𝑧 such that 𝑃(𝑍 > 𝑧) = 0.05\n",
    "c) Find the value of 𝑧 such that 𝑃(−𝑧 < 𝑍 < 𝑧) = 0.99"
   ]
  },
  {
   "cell_type": "markdown",
   "metadata": {},
   "source": [
    "a) P(Z > 1.26) = 1 - P(Z <= 1.26)<br>\n",
    "               = 1 - 0.8962<br>\n",
    "               = 0.1038<br>\n",
    "               <br>\n",
    "   P(Z < −0.86)= 0.1949<br>\n",
    "   <br>\n",
    "   P(Z < -1.37)= 0.0853<br>\n",
    "   <br>\n",
    "   P(-1.25 < Z < 0.37) = P(Z < 0.37) - P(Z < -1.25)<br>\n",
    "                       = 0.6443 - 0.1056<br>\n",
    "                       = 0.5387<br>\n",
    "                       <br>\n",
    "   P(Z <= -4.6)= 0<br>\n",
    "   <br>\n",
    "b) P(Z > z) = 0.05<br>\n",
    "   => P(Z < z) = 0.95<br>\n",
    "   => z = 1.65<br>\n",
    "   <br>\n",
    "c) z = 2.575<br>"
   ]
  },
  {
   "cell_type": "markdown",
   "metadata": {},
   "source": [
    "Problem Statement 11:\n",
    "The current flow in a copper wire follow a normal distribution with a mean of 10 𝑚A\n",
    "and a variance of 4 (𝑚𝐴)2.\n",
    "What is the probability that a current measurement will exceed 13 𝑚𝐴? What is the\n",
    "probability that a current measurement is between 9 and 11mA? Determine the\n",
    "current measurement which has a probability of 0.98."
   ]
  },
  {
   "cell_type": "code",
   "execution_count": 25,
   "metadata": {},
   "outputs": [
    {
     "name": "stdout",
     "output_type": "stream",
     "text": [
      "x =  13\n",
      "z =  1.5\n"
     ]
    }
   ],
   "source": [
    "mean = 10\n",
    "variance = 4\n",
    "std_dev = 2\n",
    "x = 13\n",
    "print(\"x = \",x)\n",
    "z = (x-mean)/std_dev\n",
    "print(\"z = \",z)"
   ]
  },
  {
   "cell_type": "markdown",
   "metadata": {},
   "source": [
    "P(X>13) = P(Z>1.5) = 1 - 0.9332 = 0.0668"
   ]
  },
  {
   "cell_type": "code",
   "execution_count": 26,
   "metadata": {},
   "outputs": [
    {
     "name": "stdout",
     "output_type": "stream",
     "text": [
      "x1 =  9\n",
      "z1 =  -0.5\n",
      "x2 =  11\n",
      "z2 =  0.5\n"
     ]
    }
   ],
   "source": [
    "x1 = 9\n",
    "x2 = 11\n",
    "z1 = (x1-mean)/std_dev\n",
    "z2 = (x2-mean)/std_dev\n",
    "print(\"x1 = \",x1)\n",
    "print(\"z1 = \",z1)\n",
    "print(\"x2 = \",x2)\n",
    "print(\"z2 = \",z2)"
   ]
  },
  {
   "cell_type": "markdown",
   "metadata": {},
   "source": [
    "P(9<X<11) = P(-0.5<Z<0.5) = P(Z<0.5) - P(-0.5<Z) = 0.6915 - 0.3085 = 0.383"
   ]
  },
  {
   "cell_type": "code",
   "execution_count": 27,
   "metadata": {},
   "outputs": [
    {
     "name": "stdout",
     "output_type": "stream",
     "text": [
      "The current measurement which has a probability of 0.98 =  14.108\n"
     ]
    }
   ],
   "source": [
    "P = 0.98\n",
    "z = 2.054\n",
    "x = (z*std_dev) + mean\n",
    "print(\"The current measurement which has a probability of 0.98 = \",x)"
   ]
  },
  {
   "cell_type": "markdown",
   "metadata": {},
   "source": [
    "Problem Statement 12:\n",
    "The shaft in a piston has its diameter normally distributed with a mean of 0.2508 inch\n",
    "and a standard deviation of 0.0005 inch. The specifications of the shaft are 0.2500 ∓\n",
    "0.0015 inch. What proportion of shafts are in sync with the specifications? If the\n",
    "process is centered so that the mean is equal to the target value of 0.2500, what\n",
    "proportion of shafts conform to the new specifications? What is your conclusion from\n",
    "this experiment?"
   ]
  },
  {
   "cell_type": "code",
   "execution_count": 28,
   "metadata": {},
   "outputs": [
    {
     "name": "stdout",
     "output_type": "stream",
     "text": [
      "Proportion of shafts with dia in range of 0.2485<d<0.2515 when mean diameter:(0.2508, None)\n",
      "Proportion of shafts with dia in range of 0.2485<d<0.2515 when mean diameter:(0.25, None)\n"
     ]
    }
   ],
   "source": [
    "mean_dia=0.2508\n",
    "std_dia=0.0005\n",
    "#specified dia in the range of 0.2485<d<0.2515\n",
    "#case-1 if mean_dia=0.2508\n",
    "def I(mean,std,a,b) :\n",
    "  #gives P(Z<=x)\n",
    "  a=(a-mean)/std\n",
    "  b=(b-mean)/std\n",
    "print(f\"Proportion of shafts with dia in range of 0.2485<d<0.2515 when mean diameter:{0.2508,I(0.2508,0.0005,0.2485,0.2515)}\")\n",
    "print(f\"Proportion of shafts with dia in range of 0.2485<d<0.2515 when mean diameter:{0.2500,I(0.2500,0.0005,0.2485,0.2515)}\")"
   ]
  },
  {
   "cell_type": "markdown",
   "metadata": {},
   "source": [
    "Within the range of 0.2485<d<0.2515 A manufacturing process with mean of 0.25 gives maximum proportion of required shafts, there by reducing amount of scrap and reprocessing time.\n",
    "When compared to any other manufacturing process whose mean deviates from that of 0.25 less proportion of required shafts are obtained. The more the manufucaturing process deviaties from 0.25, lesser will be the proportion of reqired safts obtained.\n",
    "Mathematically, in a given range 0.2485<d<0.2515 , if there are two noraml distributrions (manufacturing processes) with same standard deviation,more area will be covered by the distribution whose mean is closer to mean of the interval i.e 0.25"
   ]
  },
  {
   "cell_type": "code",
   "execution_count": null,
   "metadata": {},
   "outputs": [],
   "source": []
  }
 ],
 "metadata": {
  "kernelspec": {
   "display_name": "Python 3",
   "language": "python",
   "name": "python3"
  },
  "language_info": {
   "codemirror_mode": {
    "name": "ipython",
    "version": 3
   },
   "file_extension": ".py",
   "mimetype": "text/x-python",
   "name": "python",
   "nbconvert_exporter": "python",
   "pygments_lexer": "ipython3",
   "version": "3.8.5"
  }
 },
 "nbformat": 4,
 "nbformat_minor": 2
}
