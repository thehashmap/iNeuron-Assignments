{
 "cells": [
  {
   "cell_type": "markdown",
   "id": "a10384dd",
   "metadata": {},
   "source": [
    "In this assignment students have to find the frequency of words in a \n",
    "webpage. User can use urllib and BeautifulSoup to extract text from \n",
    "webpage.\n",
    "Hint:\n",
    "from bs4 import BeautifulSoup\n",
    "import urllib.request\n",
    "import nltk\n",
    "response = urllib.request.urlopen('http://php.net/')\n",
    "html = response.read()\n",
    "soup = BeautifulSoup(html,\"html5lib\")"
   ]
  },
  {
   "cell_type": "code",
   "execution_count": 5,
   "id": "37fcc5de",
   "metadata": {},
   "outputs": [],
   "source": [
    "from bs4 import BeautifulSoup\n",
    "import urllib\n",
    "import nltk\n",
    "import requests\n",
    "import re"
   ]
  },
  {
   "cell_type": "code",
   "execution_count": 6,
   "id": "8c7ada40",
   "metadata": {},
   "outputs": [],
   "source": [
    "response = urllib.request.urlopen('https://en.wikipedia.org/wiki/Avengers:_Endgame')\n",
    "html = response.read()\n",
    "raw = BeautifulSoup(html,\"html5lib\").get_text()"
   ]
  },
  {
   "cell_type": "code",
   "execution_count": 7,
   "id": "8a0b9742",
   "metadata": {},
   "outputs": [],
   "source": [
    "words = nltk.word_tokenize(raw)"
   ]
  },
  {
   "cell_type": "code",
   "execution_count": 8,
   "id": "0c5a47ce",
   "metadata": {},
   "outputs": [
    {
     "name": "stdout",
     "output_type": "stream",
     "text": [
      "the; 1010\n",
      "''; 975\n",
      "``; 403\n",
      "and; 304\n",
      "on; 304\n",
      "in; 290\n",
      "of; 279\n",
      "from; 277\n",
      "to; 224\n",
      "avengers; 223\n",
      "retrieved; 216\n",
      "original; 215\n",
      "archived; 213\n",
      "april; 206\n",
      "endgame; 186\n",
      "'s; 170\n",
      "film; 163\n",
      "as; 139\n",
      "may; 134\n",
      "for; 117\n",
      "with; 97\n",
      "marvel; 96\n",
      "was; 86\n",
      "'avengers; 84\n",
      "war; 81\n",
      "that; 80\n",
      "films; 78\n",
      "million; 77\n",
      "infinity; 73\n",
      ".mw-parser-output; 73\n"
     ]
    }
   ],
   "source": [
    "words = [word for word in words if len(word) > 1]\n",
    "words = [word for word in words if not word.isnumeric()]\n",
    "words = [word.lower() for word in words]\n",
    "fdist = nltk.FreqDist(words)\n",
    "for word, frequency in fdist.most_common(30):\n",
    "    print(u'{}; {}'.format(word, frequency))"
   ]
  },
  {
   "cell_type": "code",
   "execution_count": null,
   "id": "4c16cce9",
   "metadata": {},
   "outputs": [],
   "source": []
  }
 ],
 "metadata": {
  "kernelspec": {
   "display_name": "Python 3",
   "language": "python",
   "name": "python3"
  },
  "language_info": {
   "codemirror_mode": {
    "name": "ipython",
    "version": 3
   },
   "file_extension": ".py",
   "mimetype": "text/x-python",
   "name": "python",
   "nbconvert_exporter": "python",
   "pygments_lexer": "ipython3",
   "version": "3.8.10"
  }
 },
 "nbformat": 4,
 "nbformat_minor": 5
}
