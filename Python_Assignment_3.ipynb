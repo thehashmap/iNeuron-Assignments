{
 "cells": [
  {
   "cell_type": "markdown",
   "metadata": {},
   "source": [
    "1.1 Write a Python Program to implement your own myreduce() function which works exactly like Python's built-in function reduce()."
   ]
  },
  {
   "cell_type": "code",
   "execution_count": 1,
   "metadata": {},
   "outputs": [
    {
     "name": "stdout",
     "output_type": "stream",
     "text": [
      "Printing the sum of list[1,2,3,4,5] using myreduce() function: 15\n"
     ]
    }
   ],
   "source": [
    "def myreduce(function,sequence):\n",
    "    ans = sequence[0]\n",
    "    for i in sequence[1:]:\n",
    "        ans = function(ans,i)\n",
    "    return ans\n",
    "#implementing myreduce() function\n",
    "def sum(a,b):\n",
    "    return a+b\n",
    "print(\"Printing the sum of list[1,2,3,4,5] using myreduce() function: \" + str(myreduce(sum,[1,2,3,4,5])))\n"
   ]
  },
  {
   "cell_type": "markdown",
   "metadata": {},
   "source": [
    "1.2  Write a Python Program to implement your own myfilter() function which works exactly like Python's built-in function filter()"
   ]
  },
  {
   "cell_type": "code",
   "execution_count": 2,
   "metadata": {},
   "outputs": [
    {
     "name": "stdout",
     "output_type": "stream",
     "text": [
      "Printing even numbers from the list[1,2,3,4,5,6,7,8,9,10] using myfilter() function: [2, 4, 6, 8, 10]\n"
     ]
    }
   ],
   "source": [
    "def myfilter(function,sequence):\n",
    "    ans=[]\n",
    "    for i in sequence:\n",
    "        if(function(i)):\n",
    "            ans.append(i)\n",
    "    return ans\n",
    "#implementing myfilter() function\n",
    "def isEven(a):\n",
    "    if(a%2==0):\n",
    "        return True\n",
    "    else:\n",
    "        return False\n",
    "print(\"Printing even numbers from the list[1,2,3,4,5,6,7,8,9,10] using myfilter() function: \" + str(myfilter(isEven,[1,2,3,4,5,6,7,8,9,10])))"
   ]
  },
  {
   "cell_type": "markdown",
   "metadata": {},
   "source": [
    "2. Implement List comprehensions to produce the following lists. \n",
    "Write List comprehensions to produce the following Lists\n",
    "['A', 'C', 'A', 'D', 'G', 'I', ’L’, ‘ D’]\n",
    "['x', 'xx', 'xxx', 'xxxx', 'y', 'yy', 'yyy', 'yyyy', 'z', 'zz', 'zzz', 'zzzz'] \n",
    "['x', 'y', 'z', 'xx', 'yy', 'zz', 'xxx', 'yyy', 'zzz', 'xxxx', 'yyyy', 'zzzz'] \n",
    "[[2], [3], [4], [3], [4], [5], [4], [5], [6]] [[2, 3, 4, 5], [3, 4, 5, 6], \n",
    "[4, 5, 6, 7], [5, 6, 7, 8]]\n",
    "[(1, 1), (2, 1), (3, 1), (1, 2), (2, 2), (3, 2), (1, 3), (2, 3), (3, 3)]"
   ]
  },
  {
   "cell_type": "code",
   "execution_count": 3,
   "metadata": {},
   "outputs": [
    {
     "name": "stdout",
     "output_type": "stream",
     "text": [
      "['A', 'C', 'A', 'D', 'G', 'I', 'L', 'D']\n",
      "['x', 'xx', 'xxx', 'xxxx', 'y', 'yy', 'yyy', 'yyyy', 'z', 'zz', 'zzz', 'zzzz']\n",
      "['x', 'y', 'z', 'xx', 'yy', 'zz', 'xxx', 'yyy', 'zzz', 'xxxx', 'yyyy', 'zzzz']\n",
      "[[2], [3], [4], [3], [4], [5], [4], [5], [6]]\n",
      "[[2, 3, 4, 5], [3, 4, 5, 6], [4, 5, 6, 7], [5, 6, 7, 8]]\n",
      "[(1, 1), (2, 1), (3, 1), (1, 2), (2, 2), (3, 2), (1, 3), (2, 3), (3, 3)]\n"
     ]
    }
   ],
   "source": [
    "#1\n",
    "word=\"ACADGILD\"\n",
    "ans1 = [i for i in list(word)]\n",
    "print(ans1)\n",
    "\n",
    "#2\n",
    "xyz = 'xyz'\n",
    "ans2 = [i*n for i in xyz for n in range(1,5)]\n",
    "print(ans2)\n",
    "\n",
    "#3\n",
    "ans3 = [i*n for n in range(1,5) for i in xyz]\n",
    "print(ans3)\n",
    "\n",
    "#4\n",
    "num1 = [2,3,4]\n",
    "ans4 = [[i+n] for i in num1 for n in range(0,3)]\n",
    "print(ans4)\n",
    "\n",
    "#5\n",
    "num2 = [2,3,4,5]\n",
    "ans5 = [[i+n for n in range(0,4)] for i in num2]\n",
    "print(ans5)\n",
    "\n",
    "#6\n",
    "ans6 = [(a,b) for b in range(1,4) for a in range(1,4)]\n",
    "print(ans6)"
   ]
  },
  {
   "cell_type": "code",
   "execution_count": null,
   "metadata": {},
   "outputs": [],
   "source": []
  }
 ],
 "metadata": {
  "kernelspec": {
   "display_name": "Python 3",
   "language": "python",
   "name": "python3"
  },
  "language_info": {
   "codemirror_mode": {
    "name": "ipython",
    "version": 3
   },
   "file_extension": ".py",
   "mimetype": "text/x-python",
   "name": "python",
   "nbconvert_exporter": "python",
   "pygments_lexer": "ipython3",
   "version": "3.7.3"
  }
 },
 "nbformat": 4,
 "nbformat_minor": 2
}
